{
 "cells": [
  {
   "cell_type": "code",
   "execution_count": 46,
   "id": "5451711f-267d-4d37-b24a-87e47367ad0a",
   "metadata": {},
   "outputs": [],
   "source": [
    "from collections import Counter\n",
    "from spacy.tokens import DocBin\n",
    "import spacy\n",
    "import csv\n",
    "import ast"
   ]
  },
  {
   "cell_type": "code",
   "execution_count": 50,
   "id": "c48bb986-9bbe-441b-a879-87ca7f62e329",
   "metadata": {},
   "outputs": [],
   "source": [
    "def make_spans(lst):\n",
    "    \"\"\"\n",
    "    Split list of numbers into a list of (start,end) tuples,\n",
    "    e.g. [1,2,3,4,10,11,12] of indexes becomes [(1,5), (10,13)] (exclusive end index)\n",
    "    \"\"\"\n",
    "    start = None\n",
    "    spans = []\n",
    "    last_d = None\n",
    "    for d in lst:\n",
    "        if last_d is None:\n",
    "            start = d\n",
    "        elif d > last_d + 1:\n",
    "            spans.append( (start, last_d + 1) )\n",
    "            start = d\n",
    "        last_d = d\n",
    "    if start is not None:\n",
    "        spans.append( (start, last_d + 1) )\n",
    "    return spans\n",
    "\n",
    "def read_data(fname: str):\n",
    "    with open(fname, newline='') as csvfile:\n",
    "        reader = csv.reader(csvfile)\n",
    "        _ = next(reader)  # skip the headers\n",
    "        for row in reader:\n",
    "            lst = ast.literal_eval(row[0])\n",
    "            text = row[1]\n",
    "            yield lst, text\n",
    "\n",
    "def create_docbin(fname: str, basename: str, nlp, span_label='sc'):\n",
    "    doc_bin = DocBin()\n",
    "    for spans, text in read_data(fname):\n",
    "        ms = make_spans(spans)\n",
    "        doc = nlp(text)\n",
    "        span_lst = []\n",
    "        for start, end in ms:\n",
    "            span = doc.char_span(start, end, label='sc')\n",
    "            if span is not None:\n",
    "                span_lst.append(span)\n",
    "        # span_lst is now a list of spaCy 'Span' objects\n",
    "        # Set the Spans as document entities.\n",
    "        doc.set_ents(span_lst)\n",
    "        doc.spans[span_label] = list(doc.ents)\n",
    "        doc_bin.add(doc)\n",
    "    doc_bin.to_disk(f'../data/{basename}.spacy')"
   ]
  },
  {
   "cell_type": "code",
   "execution_count": 51,
   "id": "5615770f-7bce-4421-a42d-2f14b55eb899",
   "metadata": {},
   "outputs": [],
   "source": [
    "nlp = spacy.load(\"en_core_web_sm\")\n",
    "create_docbin('../data/tsd_train.csv', 'train', nlp)\n",
    "create_docbin('../data/tsd_trial.csv', 'dev', nlp)\n",
    "create_docbin('../data/tsd_test.csv', 'eval', nlp)"
   ]
  },
  {
   "cell_type": "code",
   "execution_count": 52,
   "id": "1c023fdd-4d72-43f9-8caf-650ac8c66b68",
   "metadata": {},
   "outputs": [],
   "source": [
    "docbin = DocBin().from_disk('../data/eval.spacy')"
   ]
  },
  {
   "cell_type": "code",
   "execution_count": 53,
   "id": "29dbc108-05bc-469f-b30c-df4423fcdd4c",
   "metadata": {},
   "outputs": [],
   "source": [
    "doc = list(docbin.get_docs(nlp.vocab))[0]"
   ]
  },
  {
   "cell_type": "code",
   "execution_count": 54,
   "id": "136c07a9-03c7-4092-8d16-115a46b9ac73",
   "metadata": {},
   "outputs": [
    {
     "data": {
      "text/plain": [
       "{'sc': [ABNORMAL, sexist rubbish]}"
      ]
     },
     "execution_count": 54,
     "metadata": {},
     "output_type": "execute_result"
    }
   ],
   "source": [
    "doc.spans"
   ]
  },
  {
   "cell_type": "code",
   "execution_count": null,
   "id": "a4379207-8fa1-4c78-813e-492d20f6dc08",
   "metadata": {},
   "outputs": [],
   "source": []
  }
 ],
 "metadata": {
  "kernelspec": {
   "display_name": "Python [conda env:wes_main]",
   "language": "python",
   "name": "conda-env-wes_main-py"
  },
  "language_info": {
   "codemirror_mode": {
    "name": "ipython",
    "version": 3
   },
   "file_extension": ".py",
   "mimetype": "text/x-python",
   "name": "python",
   "nbconvert_exporter": "python",
   "pygments_lexer": "ipython3",
   "version": "3.11.5"
  }
 },
 "nbformat": 4,
 "nbformat_minor": 5
}
