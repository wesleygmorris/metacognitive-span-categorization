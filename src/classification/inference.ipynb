{
 "cells": [
  {
   "cell_type": "code",
   "execution_count": null,
   "id": "bcc0c623-81a8-43c4-98c7-6fdfaee58bb4",
   "metadata": {},
   "outputs": [],
   "source": [
    "from transformers import (AutoTokenizer, AutoModelForSequenceClassification)\n",
    "import pandas as pd\n",
    "import numpy as np"
   ]
  },
  {
   "cell_type": "code",
   "execution_count": null,
   "id": "311725d3-21e7-41de-9407-bb4e3de69b62",
   "metadata": {},
   "outputs": [],
   "source": [
    "model = AutoModelForSequenceClassification.from_pretrained('tiedaar/metacognitive-cls',\n",
    "                                                           num_labels=8,\n",
    "                                                           problem_type = \"multi_label_classification\")\n",
    "tokenizer = AutoTokenizer.from_pretrained('tiedaar/metacognitive-cls')"
   ]
  },
  {
   "cell_type": "code",
   "execution_count": null,
   "id": "1a18b87e-41e6-4025-a0b8-7484c314dcdc",
   "metadata": {},
   "outputs": [],
   "source": [
    "model.config.id2label.values()"
   ]
  },
  {
   "cell_type": "code",
   "execution_count": null,
   "id": "bd5c10dc-01d0-4a29-b6e1-f805a2e95775",
   "metadata": {},
   "outputs": [],
   "source": [
    "def sigmoid(x):\n",
    "   return 1/(1 + np.exp(-x))\n",
    "    \n",
    "def generate_output(sequence):\n",
    "    input_ids = tokenizer(sequence, return_tensors='pt')['input_ids']\n",
    "    outputs = np.array(model(input_ids).logits.detach().reshape(-1))\n",
    "    predictions = sigmoid(outputs)\n",
    "    predictions = (predictions > 0.5).astype(int)\n",
    "    return predictions"
   ]
  },
  {
   "cell_type": "code",
   "execution_count": null,
   "id": "3e70c33d-61d9-44f0-be71-38ae11ecbb58",
   "metadata": {},
   "outputs": [],
   "source": [
    "sequence = 'For this exam, I started by reading the assigned textbook chapters. I took note of vocabulary words and their definitions. I also took note of concepts that I wasn’t already familiar with with. Later, I went through the study guide and answered the questions listed. Finally, I used the practice exam to test my knowledge.'"
   ]
  },
  {
   "cell_type": "code",
   "execution_count": null,
   "id": "918e7553-e85a-44aa-ad0a-3787b05eecbc",
   "metadata": {},
   "outputs": [],
   "source": [
    "output = generate_output(sequence)"
   ]
  },
  {
   "cell_type": "code",
   "execution_count": null,
   "id": "fc163ec2-11ed-4bcc-bfd8-54ba2068de18",
   "metadata": {},
   "outputs": [],
   "source": [
    "for i in range(len(output)):\n",
    "    print(f'{list(model.config.id2label.values())[i]}: {output[i]}')"
   ]
  },
  {
   "cell_type": "code",
   "execution_count": null,
   "id": "f220caae-4a09-4fea-b17e-011996e5afef",
   "metadata": {},
   "outputs": [],
   "source": []
  }
 ],
 "metadata": {
  "kernelspec": {
   "display_name": "Python [conda env:wes-env]",
   "language": "python",
   "name": "conda-env-wes-env-py"
  },
  "language_info": {
   "codemirror_mode": {
    "name": "ipython",
    "version": 3
   },
   "file_extension": ".py",
   "mimetype": "text/x-python",
   "name": "python",
   "nbconvert_exporter": "python",
   "pygments_lexer": "ipython3",
   "version": "3.12.3"
  }
 },
 "nbformat": 4,
 "nbformat_minor": 5
}
