{
 "cells": [
  {
   "cell_type": "code",
   "execution_count": 7,
   "id": "9e08e8e7-c513-43e0-9e12-72b544942b44",
   "metadata": {},
   "outputs": [],
   "source": [
    "import pandas as pd\n",
    "from pathlib import Path\n",
    "import os\n",
    "from datasets import Dataset\n",
    "\n",
    "seed = 42"
   ]
  },
  {
   "cell_type": "code",
   "execution_count": 9,
   "id": "d5c9d1dd-38ee-41ad-85b9-bcbf50662564",
   "metadata": {},
   "outputs": [],
   "source": [
    "DATA = '~/data/spancat/'"
   ]
  },
  {
   "cell_type": "code",
   "execution_count": 10,
   "id": "0b9d6520-08fa-4ff2-bc71-60fc1a856b92",
   "metadata": {},
   "outputs": [],
   "source": [
    "df = pd.read_csv(DATA+'strategies-df.csv')"
   ]
  },
  {
   "cell_type": "code",
   "execution_count": 11,
   "id": "fdbf812c-85d7-4d01-88de-2da641116b6b",
   "metadata": {},
   "outputs": [],
   "source": [
    "labels = [label[1:] for label in df.values.tolist()]\n",
    "df['labels'] = labels\n",
    "\n",
    "ds = Dataset.from_pandas(df[['text', 'labels']], preserve_index=False).train_test_split(test_size=0.2, seed=seed)"
   ]
  },
  {
   "cell_type": "code",
   "execution_count": 13,
   "id": "0fe5c6c6-9886-4935-83fb-c44188481637",
   "metadata": {},
   "outputs": [
    {
     "data": {
      "application/vnd.jupyter.widget-view+json": {
       "model_id": "e1e1c0f3deab4cf781de3a6dc7f34dee",
       "version_major": 2,
       "version_minor": 0
      },
      "text/plain": [
       "Saving the dataset (0/1 shards):   0%|          | 0/1084 [00:00<?, ? examples/s]"
      ]
     },
     "metadata": {},
     "output_type": "display_data"
    },
    {
     "data": {
      "application/vnd.jupyter.widget-view+json": {
       "model_id": "69f9131e5c0449e69a8a73854c9275b0",
       "version_major": 2,
       "version_minor": 0
      },
      "text/plain": [
       "Saving the dataset (0/1 shards):   0%|          | 0/271 [00:00<?, ? examples/s]"
      ]
     },
     "metadata": {},
     "output_type": "display_data"
    }
   ],
   "source": [
    "ds.save_to_disk(DATA+\"strategies-ds.hf\")"
   ]
  },
  {
   "cell_type": "code",
   "execution_count": 16,
   "id": "75c221ff-4879-413f-a36f-d976a5f1bf66",
   "metadata": {},
   "outputs": [
    {
     "data": {
      "text/plain": [
       "DatasetDict({\n",
       "    train: Dataset({\n",
       "        features: ['text', 'labels'],\n",
       "        num_rows: 1084\n",
       "    })\n",
       "    test: Dataset({\n",
       "        features: ['text', 'labels'],\n",
       "        num_rows: 271\n",
       "    })\n",
       "})"
      ]
     },
     "execution_count": 16,
     "metadata": {},
     "output_type": "execute_result"
    }
   ],
   "source": []
  }
 ],
 "metadata": {
  "kernelspec": {
   "display_name": "Python [conda env:wes-env]",
   "language": "python",
   "name": "conda-env-wes-env-py"
  },
  "language_info": {
   "codemirror_mode": {
    "name": "ipython",
    "version": 3
   },
   "file_extension": ".py",
   "mimetype": "text/x-python",
   "name": "python",
   "nbconvert_exporter": "python",
   "pygments_lexer": "ipython3",
   "version": "3.12.3"
  }
 },
 "nbformat": 4,
 "nbformat_minor": 5
}
