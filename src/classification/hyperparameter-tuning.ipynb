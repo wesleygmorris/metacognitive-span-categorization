{
 "cells": [
  {
   "cell_type": "code",
   "execution_count": 1,
   "id": "28854b05-16c0-43a0-9a89-73676eb88790",
   "metadata": {},
   "outputs": [],
   "source": [
    "import os\n",
    "from tqdm import tqdm\n",
    "import numpy as np\n",
    "from pathlib import Path\n",
    "import argparse\n",
    "import logging\n",
    "import torch\n",
    "from torch.utils.data import DataLoader\n",
    "import wandb\n",
    "from sklearn.metrics import mean_squared_error\n",
    "import datasets\n",
    "from transformers import (Trainer, TrainingArguments, DataCollatorWithPadding,\n",
    "                          AutoTokenizer, AutoModelForSequenceClassification)"
   ]
  },
  {
   "cell_type": "code",
   "execution_count": 2,
   "id": "0bccf0bd-e868-4c58-9aa9-062081751617",
   "metadata": {},
   "outputs": [],
   "source": [
    "assert torch.cuda.is_available(), 'GPU not found. You should fix this.'"
   ]
  },
  {
   "cell_type": "code",
   "execution_count": 3,
   "id": "374f9029-1b04-43fe-b3c1-b9f074c64559",
   "metadata": {},
   "outputs": [
    {
     "name": "stderr",
     "output_type": "stream",
     "text": [
      "Failed to detect the name of this notebook, you can set it manually with the WANDB_NOTEBOOK_NAME environment variable to enable code saving.\n",
      "\u001b[34m\u001b[1mwandb\u001b[0m: Currently logged in as: \u001b[33mtiedaar1\u001b[0m (\u001b[33mai-aloe\u001b[0m). Use \u001b[1m`wandb login --relogin`\u001b[0m to force relogin\n"
     ]
    },
    {
     "data": {
      "text/plain": [
       "True"
      ]
     },
     "execution_count": 3,
     "metadata": {},
     "output_type": "execute_result"
    }
   ],
   "source": [
    "wandb.login()"
   ]
  },
  {
   "cell_type": "code",
   "execution_count": 4,
   "id": "ec688ed0-fea0-4ed4-abd5-d5ec063682df",
   "metadata": {},
   "outputs": [],
   "source": [
    "DATA = '../../../data/spancat/'"
   ]
  },
  {
   "cell_type": "code",
   "execution_count": 5,
   "id": "aad6fa28-6a09-482a-8220-3e7c94e2cf6b",
   "metadata": {},
   "outputs": [],
   "source": [
    "model_name_or_path = 'microsoft/deberta-v3-large'\n",
    "dataset_path = DATA+'strategies-ds.hf'\n",
    "output_dir = DATA+'spancat/results/hp-tuning'\n",
    "model_max_length = 2056\n",
    "eval_steps = 1000\n",
    "eval_accumulation_steps = 2\n",
    "save_total_limit = 4\n",
    "batch_size = 16\n",
    "sweep_id = None\n",
    "dry_run = False\n",
    "metric = 'f1'\n",
    "entity = 'ai-aloe'\n",
    "project_name = 'metacognitive_classifier'"
   ]
  },
  {
   "cell_type": "code",
   "execution_count": 6,
   "id": "a64050e6-1d39-4700-973c-771ee14ea270",
   "metadata": {},
   "outputs": [],
   "source": [
    "import evaluate\n",
    "import numpy as np\n",
    "\n",
    "clf_metrics = evaluate.combine([\"accuracy\", \"f1\", \"precision\", \"recall\"])\n",
    "\n",
    "def sigmoid(x):\n",
    "   return 1/(1 + np.exp(-x))\n",
    "\n",
    "def compute_metrics(eval_pred):\n",
    "   predictions, labels = eval_pred\n",
    "   predictions = sigmoid(predictions)\n",
    "   predictions = (predictions > 0.5).astype(int).reshape(-1)\n",
    "   return clf_metrics.compute(predictions=predictions, references=labels.astype(int).reshape(-1))"
   ]
  },
  {
   "cell_type": "code",
   "execution_count": 7,
   "id": "77d4f1ce-7e42-4218-bf04-35a2f483ca1f",
   "metadata": {},
   "outputs": [],
   "source": [
    "def load_dataset(dataset_path):\n",
    "    ds = datasets.load_from_disk(dataset_path)\n",
    "    return ds"
   ]
  },
  {
   "cell_type": "code",
   "execution_count": 8,
   "id": "6105b45c-423d-42bb-bae9-f86b15d64d18",
   "metadata": {},
   "outputs": [],
   "source": [
    "ds = load_dataset(DATA+'strategies-ds.hf')"
   ]
  },
  {
   "cell_type": "code",
   "execution_count": 9,
   "id": "027d9c08-922e-4b44-95c7-d439015d0df1",
   "metadata": {},
   "outputs": [],
   "source": [
    "def train():\n",
    "    ''' The main training loop.\n",
    "    '''\n",
    "    wandb.init()\n",
    "    \n",
    "    config = wandb.config\n",
    "\n",
    "    model = AutoModelForSequenceClassification.from_pretrained(model_name_or_path,\n",
    "                                                               num_labels=8,\n",
    "                                                               problem_type = \"multi_label_classification\")\n",
    "        \n",
    "    training_args = TrainingArguments(\n",
    "        output_dir=output_dir,\n",
    "        evaluation_strategy='epoch',\n",
    "        save_strategy='epoch',\n",
    "        logging_strategy='epoch',\n",
    "        # eval_steps=eval_steps,\n",
    "        # save_steps=eval_steps,\n",
    "        # eval_accumulation_steps=eval_accumulation_steps,\n",
    "        save_total_limit=save_total_limit,\n",
    "        optim='adamw_torch',\n",
    "        learning_rate=config.learning_rate,\n",
    "        num_train_epochs=config.epochs,\n",
    "        weight_decay=config.weight_decay,\n",
    "        warmup_steps = config.warmup_steps,\n",
    "        per_device_train_batch_size=batch_size,\n",
    "        per_device_eval_batch_size=batch_size,\n",
    "        disable_tqdm=False,\n",
    "        report_to='wandb',\n",
    "    )\n",
    "\n",
    "    trainer = Trainer(\n",
    "        model=model,\n",
    "        args=training_args,\n",
    "        train_dataset=ds['train'],\n",
    "        eval_dataset=ds['test'],\n",
    "        data_collator=data_collator,\n",
    "        compute_metrics=compute_metrics,\n",
    "        tokenizer=tokenizer,\n",
    "    )\n",
    "\n",
    "    trainer.train()"
   ]
  },
  {
   "cell_type": "code",
   "execution_count": 10,
   "id": "4f495ca3-5e6a-4810-a7af-60ede8dff111",
   "metadata": {},
   "outputs": [
    {
     "name": "stderr",
     "output_type": "stream",
     "text": [
      "/home/jovyan/conda_envs/wes-env/lib/python3.12/site-packages/transformers/convert_slow_tokenizer.py:560: UserWarning: The sentencepiece tokenizer that you are converting to a fast tokenizer uses the byte fallback option which is not implemented in the fast tokenizers. In practice this means that the fast version of the tokenizer can produce unknown tokens whereas the sentencepiece version would have converted these unknown tokens into a sequence of byte tokens matching the original piece of text.\n",
      "  warnings.warn(\n"
     ]
    }
   ],
   "source": [
    "tokenizer = AutoTokenizer.from_pretrained(\n",
    "    model_name_or_path,\n",
    "    max_length=model_max_length,\n",
    "    )"
   ]
  },
  {
   "cell_type": "code",
   "execution_count": 11,
   "id": "dafcae92-2a5e-47a9-a465-c6cee30b255e",
   "metadata": {},
   "outputs": [
    {
     "name": "stdout",
     "output_type": "stream",
     "text": [
      "Create sweep with ID: 8ellv5tx\n",
      "Sweep URL: https://wandb.ai/ai-aloe/metacognitive_classifier/sweeps/8ellv5tx\n"
     ]
    },
    {
     "name": "stderr",
     "output_type": "stream",
     "text": [
      "\u001b[34m\u001b[1mwandb\u001b[0m: Agent Starting Run: jmnm51f5 with config:\n",
      "\u001b[34m\u001b[1mwandb\u001b[0m: \tepochs: 7\n",
      "\u001b[34m\u001b[1mwandb\u001b[0m: \tlearning_rate: 8.484830074719205e-06\n",
      "\u001b[34m\u001b[1mwandb\u001b[0m: \twarmup_steps: 500\n",
      "\u001b[34m\u001b[1mwandb\u001b[0m: \tweight_decay: 0.01\n",
      "Failed to detect the name of this notebook, you can set it manually with the WANDB_NOTEBOOK_NAME environment variable to enable code saving.\n"
     ]
    },
    {
     "data": {
      "text/html": [
       "wandb version 0.17.0 is available!  To upgrade, please run:\n",
       " $ pip install wandb --upgrade"
      ],
      "text/plain": [
       "<IPython.core.display.HTML object>"
      ]
     },
     "metadata": {},
     "output_type": "display_data"
    },
    {
     "data": {
      "text/html": [
       "Tracking run with wandb version 0.16.6"
      ],
      "text/plain": [
       "<IPython.core.display.HTML object>"
      ]
     },
     "metadata": {},
     "output_type": "display_data"
    },
    {
     "data": {
      "text/html": [
       "Run data is saved locally in <code>/home/jovyan/metacognitive-span-categorization/src/classification/wandb/run-20240517_203048-jmnm51f5</code>"
      ],
      "text/plain": [
       "<IPython.core.display.HTML object>"
      ]
     },
     "metadata": {},
     "output_type": "display_data"
    },
    {
     "data": {
      "text/html": [
       "Syncing run <strong><a href='https://wandb.ai/ai-aloe/metacognitive_classifier/runs/jmnm51f5' target=\"_blank\">divine-sweep-1</a></strong> to <a href='https://wandb.ai/ai-aloe/metacognitive_classifier' target=\"_blank\">Weights & Biases</a> (<a href='https://wandb.me/run' target=\"_blank\">docs</a>)<br/>Sweep page: <a href='https://wandb.ai/ai-aloe/metacognitive_classifier/sweeps/8ellv5tx' target=\"_blank\">https://wandb.ai/ai-aloe/metacognitive_classifier/sweeps/8ellv5tx</a>"
      ],
      "text/plain": [
       "<IPython.core.display.HTML object>"
      ]
     },
     "metadata": {},
     "output_type": "display_data"
    },
    {
     "data": {
      "text/html": [
       " View project at <a href='https://wandb.ai/ai-aloe/metacognitive_classifier' target=\"_blank\">https://wandb.ai/ai-aloe/metacognitive_classifier</a>"
      ],
      "text/plain": [
       "<IPython.core.display.HTML object>"
      ]
     },
     "metadata": {},
     "output_type": "display_data"
    },
    {
     "data": {
      "text/html": [
       " View sweep at <a href='https://wandb.ai/ai-aloe/metacognitive_classifier/sweeps/8ellv5tx' target=\"_blank\">https://wandb.ai/ai-aloe/metacognitive_classifier/sweeps/8ellv5tx</a>"
      ],
      "text/plain": [
       "<IPython.core.display.HTML object>"
      ]
     },
     "metadata": {},
     "output_type": "display_data"
    },
    {
     "data": {
      "text/html": [
       " View run at <a href='https://wandb.ai/ai-aloe/metacognitive_classifier/runs/jmnm51f5' target=\"_blank\">https://wandb.ai/ai-aloe/metacognitive_classifier/runs/jmnm51f5</a>"
      ],
      "text/plain": [
       "<IPython.core.display.HTML object>"
      ]
     },
     "metadata": {},
     "output_type": "display_data"
    },
    {
     "name": "stderr",
     "output_type": "stream",
     "text": [
      "Some weights of DebertaV2ForSequenceClassification were not initialized from the model checkpoint at microsoft/deberta-v3-large and are newly initialized: ['classifier.bias', 'classifier.weight', 'pooler.dense.bias', 'pooler.dense.weight']\n",
      "You should probably TRAIN this model on a down-stream task to be able to use it for predictions and inference.\n",
      "\u001b[34m\u001b[1mwandb\u001b[0m: \u001b[33mWARNING\u001b[0m Config item 'learning_rate' was locked by 'sweep' (ignored update).\n",
      "\u001b[34m\u001b[1mwandb\u001b[0m: \u001b[33mWARNING\u001b[0m Config item 'weight_decay' was locked by 'sweep' (ignored update).\n",
      "\u001b[34m\u001b[1mwandb\u001b[0m: \u001b[33mWARNING\u001b[0m Config item 'warmup_steps' was locked by 'sweep' (ignored update).\n"
     ]
    },
    {
     "data": {
      "text/html": [
       "\n",
       "    <div>\n",
       "      \n",
       "      <progress value='427' max='427' style='width:300px; height:20px; vertical-align: middle;'></progress>\n",
       "      [427/427 05:41, Epoch 7/7]\n",
       "    </div>\n",
       "    <table border=\"1\" class=\"dataframe\">\n",
       "  <thead>\n",
       " <tr style=\"text-align: left;\">\n",
       "      <th>Epoch</th>\n",
       "      <th>Training Loss</th>\n",
       "      <th>Validation Loss</th>\n",
       "      <th>Accuracy</th>\n",
       "      <th>F1</th>\n",
       "      <th>Precision</th>\n",
       "      <th>Recall</th>\n",
       "    </tr>\n",
       "  </thead>\n",
       "  <tbody>\n",
       "    <tr>\n",
       "      <td>1</td>\n",
       "      <td>0.729600</td>\n",
       "      <td>0.711866</td>\n",
       "      <td>0.518955</td>\n",
       "      <td>0.142466</td>\n",
       "      <td>0.099744</td>\n",
       "      <td>0.249201</td>\n",
       "    </tr>\n",
       "    <tr>\n",
       "      <td>2</td>\n",
       "      <td>0.556100</td>\n",
       "      <td>0.382462</td>\n",
       "      <td>0.872951</td>\n",
       "      <td>0.519380</td>\n",
       "      <td>0.660099</td>\n",
       "      <td>0.428115</td>\n",
       "    </tr>\n",
       "    <tr>\n",
       "      <td>3</td>\n",
       "      <td>0.363900</td>\n",
       "      <td>0.331549</td>\n",
       "      <td>0.881660</td>\n",
       "      <td>0.492308</td>\n",
       "      <td>0.788732</td>\n",
       "      <td>0.357827</td>\n",
       "    </tr>\n",
       "    <tr>\n",
       "      <td>4</td>\n",
       "      <td>0.322600</td>\n",
       "      <td>0.302206</td>\n",
       "      <td>0.894980</td>\n",
       "      <td>0.562900</td>\n",
       "      <td>0.846154</td>\n",
       "      <td>0.421725</td>\n",
       "    </tr>\n",
       "    <tr>\n",
       "      <td>5</td>\n",
       "      <td>0.293600</td>\n",
       "      <td>0.279921</td>\n",
       "      <td>0.901639</td>\n",
       "      <td>0.591489</td>\n",
       "      <td>0.885350</td>\n",
       "      <td>0.444089</td>\n",
       "    </tr>\n",
       "    <tr>\n",
       "      <td>6</td>\n",
       "      <td>0.258600</td>\n",
       "      <td>0.256210</td>\n",
       "      <td>0.910348</td>\n",
       "      <td>0.665392</td>\n",
       "      <td>0.828571</td>\n",
       "      <td>0.555911</td>\n",
       "    </tr>\n",
       "    <tr>\n",
       "      <td>7</td>\n",
       "      <td>0.223500</td>\n",
       "      <td>0.225138</td>\n",
       "      <td>0.924180</td>\n",
       "      <td>0.734767</td>\n",
       "      <td>0.836735</td>\n",
       "      <td>0.654952</td>\n",
       "    </tr>\n",
       "  </tbody>\n",
       "</table><p>"
      ],
      "text/plain": [
       "<IPython.core.display.HTML object>"
      ]
     },
     "metadata": {},
     "output_type": "display_data"
    },
    {
     "data": {
      "application/vnd.jupyter.widget-view+json": {
       "model_id": "",
       "version_major": 2,
       "version_minor": 0
      },
      "text/plain": [
       "VBox(children=(Label(value='0.008 MB of 0.008 MB uploaded\\r'), FloatProgress(value=1.0, max=1.0)))"
      ]
     },
     "metadata": {},
     "output_type": "display_data"
    },
    {
     "data": {
      "text/html": [
       "<style>\n",
       "    table.wandb td:nth-child(1) { padding: 0 10px; text-align: left ; width: auto;} td:nth-child(2) {text-align: left ; width: 100%}\n",
       "    .wandb-row { display: flex; flex-direction: row; flex-wrap: wrap; justify-content: flex-start; width: 100% }\n",
       "    .wandb-col { display: flex; flex-direction: column; flex-basis: 100%; flex: 1; padding: 10px; }\n",
       "    </style>\n",
       "<div class=\"wandb-row\"><div class=\"wandb-col\"><h3>Run history:</h3><br/><table class=\"wandb\"><tr><td>eval/accuracy</td><td>▁▇▇▇███</td></tr><tr><td>eval/f1</td><td>▁▅▅▆▆▇█</td></tr><tr><td>eval/loss</td><td>█▃▃▂▂▁▁</td></tr><tr><td>eval/precision</td><td>▁▆▇██▇█</td></tr><tr><td>eval/recall</td><td>▁▄▃▄▄▆█</td></tr><tr><td>eval/runtime</td><td>▁▅▄▃▅▆█</td></tr><tr><td>eval/samples_per_second</td><td>█▄▅▆▄▃▁</td></tr><tr><td>eval/steps_per_second</td><td>█▄▅▆▄▃▁</td></tr><tr><td>train/epoch</td><td>▁▁▂▂▃▃▅▅▆▆▇▇███</td></tr><tr><td>train/global_step</td><td>▁▁▂▂▃▃▅▅▆▆▇▇███</td></tr><tr><td>train/grad_norm</td><td>▃▁▂▃▃█▂</td></tr><tr><td>train/learning_rate</td><td>▁▂▃▄▆▇█</td></tr><tr><td>train/loss</td><td>█▆▃▂▂▁▁</td></tr></table><br/></div><div class=\"wandb-col\"><h3>Run summary:</h3><br/><table class=\"wandb\"><tr><td>eval/accuracy</td><td>0.92418</td></tr><tr><td>eval/f1</td><td>0.73477</td></tr><tr><td>eval/loss</td><td>0.22514</td></tr><tr><td>eval/precision</td><td>0.83673</td></tr><tr><td>eval/recall</td><td>0.65495</td></tr><tr><td>eval/runtime</td><td>2.7837</td></tr><tr><td>eval/samples_per_second</td><td>87.652</td></tr><tr><td>eval/steps_per_second</td><td>5.748</td></tr><tr><td>total_flos</td><td>2421223110623232.0</td></tr><tr><td>train/epoch</td><td>7.0</td></tr><tr><td>train/global_step</td><td>427</td></tr><tr><td>train/grad_norm</td><td>1.6374</td></tr><tr><td>train/learning_rate</td><td>1e-05</td></tr><tr><td>train/loss</td><td>0.2235</td></tr><tr><td>train_loss</td><td>0.39257</td></tr><tr><td>train_runtime</td><td>342.5626</td></tr><tr><td>train_samples_per_second</td><td>19.882</td></tr><tr><td>train_steps_per_second</td><td>1.246</td></tr></table><br/></div></div>"
      ],
      "text/plain": [
       "<IPython.core.display.HTML object>"
      ]
     },
     "metadata": {},
     "output_type": "display_data"
    },
    {
     "data": {
      "text/html": [
       " View run <strong style=\"color:#cdcd00\">divine-sweep-1</strong> at: <a href='https://wandb.ai/ai-aloe/metacognitive_classifier/runs/jmnm51f5' target=\"_blank\">https://wandb.ai/ai-aloe/metacognitive_classifier/runs/jmnm51f5</a><br/> View project at: <a href='https://wandb.ai/ai-aloe/metacognitive_classifier' target=\"_blank\">https://wandb.ai/ai-aloe/metacognitive_classifier</a><br/>Synced 6 W&B file(s), 0 media file(s), 0 artifact file(s) and 0 other file(s)"
      ],
      "text/plain": [
       "<IPython.core.display.HTML object>"
      ]
     },
     "metadata": {},
     "output_type": "display_data"
    },
    {
     "data": {
      "text/html": [
       "Find logs at: <code>./wandb/run-20240517_203048-jmnm51f5/logs</code>"
      ],
      "text/plain": [
       "<IPython.core.display.HTML object>"
      ]
     },
     "metadata": {},
     "output_type": "display_data"
    },
    {
     "name": "stderr",
     "output_type": "stream",
     "text": [
      "\u001b[34m\u001b[1mwandb\u001b[0m: Agent Starting Run: 1ns8lrpb with config:\n",
      "\u001b[34m\u001b[1mwandb\u001b[0m: \tepochs: 7\n",
      "\u001b[34m\u001b[1mwandb\u001b[0m: \tlearning_rate: 5.8843975438419745e-06\n",
      "\u001b[34m\u001b[1mwandb\u001b[0m: \twarmup_steps: 100\n",
      "\u001b[34m\u001b[1mwandb\u001b[0m: \tweight_decay: 0.01\n",
      "Failed to detect the name of this notebook, you can set it manually with the WANDB_NOTEBOOK_NAME environment variable to enable code saving.\n"
     ]
    },
    {
     "data": {
      "text/html": [
       "wandb version 0.17.0 is available!  To upgrade, please run:\n",
       " $ pip install wandb --upgrade"
      ],
      "text/plain": [
       "<IPython.core.display.HTML object>"
      ]
     },
     "metadata": {},
     "output_type": "display_data"
    },
    {
     "data": {
      "text/html": [
       "Tracking run with wandb version 0.16.6"
      ],
      "text/plain": [
       "<IPython.core.display.HTML object>"
      ]
     },
     "metadata": {},
     "output_type": "display_data"
    },
    {
     "data": {
      "text/html": [
       "Run data is saved locally in <code>/home/jovyan/metacognitive-span-categorization/src/classification/wandb/run-20240517_203644-1ns8lrpb</code>"
      ],
      "text/plain": [
       "<IPython.core.display.HTML object>"
      ]
     },
     "metadata": {},
     "output_type": "display_data"
    },
    {
     "data": {
      "text/html": [
       "Syncing run <strong><a href='https://wandb.ai/ai-aloe/metacognitive_classifier/runs/1ns8lrpb' target=\"_blank\">royal-sweep-2</a></strong> to <a href='https://wandb.ai/ai-aloe/metacognitive_classifier' target=\"_blank\">Weights & Biases</a> (<a href='https://wandb.me/run' target=\"_blank\">docs</a>)<br/>Sweep page: <a href='https://wandb.ai/ai-aloe/metacognitive_classifier/sweeps/8ellv5tx' target=\"_blank\">https://wandb.ai/ai-aloe/metacognitive_classifier/sweeps/8ellv5tx</a>"
      ],
      "text/plain": [
       "<IPython.core.display.HTML object>"
      ]
     },
     "metadata": {},
     "output_type": "display_data"
    },
    {
     "data": {
      "text/html": [
       " View project at <a href='https://wandb.ai/ai-aloe/metacognitive_classifier' target=\"_blank\">https://wandb.ai/ai-aloe/metacognitive_classifier</a>"
      ],
      "text/plain": [
       "<IPython.core.display.HTML object>"
      ]
     },
     "metadata": {},
     "output_type": "display_data"
    },
    {
     "data": {
      "text/html": [
       " View sweep at <a href='https://wandb.ai/ai-aloe/metacognitive_classifier/sweeps/8ellv5tx' target=\"_blank\">https://wandb.ai/ai-aloe/metacognitive_classifier/sweeps/8ellv5tx</a>"
      ],
      "text/plain": [
       "<IPython.core.display.HTML object>"
      ]
     },
     "metadata": {},
     "output_type": "display_data"
    },
    {
     "data": {
      "text/html": [
       " View run at <a href='https://wandb.ai/ai-aloe/metacognitive_classifier/runs/1ns8lrpb' target=\"_blank\">https://wandb.ai/ai-aloe/metacognitive_classifier/runs/1ns8lrpb</a>"
      ],
      "text/plain": [
       "<IPython.core.display.HTML object>"
      ]
     },
     "metadata": {},
     "output_type": "display_data"
    },
    {
     "name": "stderr",
     "output_type": "stream",
     "text": [
      "Some weights of DebertaV2ForSequenceClassification were not initialized from the model checkpoint at microsoft/deberta-v3-large and are newly initialized: ['classifier.bias', 'classifier.weight', 'pooler.dense.bias', 'pooler.dense.weight']\n",
      "You should probably TRAIN this model on a down-stream task to be able to use it for predictions and inference.\n",
      "\u001b[34m\u001b[1mwandb\u001b[0m: \u001b[33mWARNING\u001b[0m Config item 'learning_rate' was locked by 'sweep' (ignored update).\n",
      "\u001b[34m\u001b[1mwandb\u001b[0m: \u001b[33mWARNING\u001b[0m Config item 'weight_decay' was locked by 'sweep' (ignored update).\n",
      "\u001b[34m\u001b[1mwandb\u001b[0m: \u001b[33mWARNING\u001b[0m Config item 'warmup_steps' was locked by 'sweep' (ignored update).\n"
     ]
    },
    {
     "data": {
      "text/html": [
       "\n",
       "    <div>\n",
       "      \n",
       "      <progress value='427' max='427' style='width:300px; height:20px; vertical-align: middle;'></progress>\n",
       "      [427/427 05:43, Epoch 7/7]\n",
       "    </div>\n",
       "    <table border=\"1\" class=\"dataframe\">\n",
       "  <thead>\n",
       " <tr style=\"text-align: left;\">\n",
       "      <th>Epoch</th>\n",
       "      <th>Training Loss</th>\n",
       "      <th>Validation Loss</th>\n",
       "      <th>Accuracy</th>\n",
       "      <th>F1</th>\n",
       "      <th>Precision</th>\n",
       "      <th>Recall</th>\n",
       "    </tr>\n",
       "  </thead>\n",
       "  <tbody>\n",
       "    <tr>\n",
       "      <td>1</td>\n",
       "      <td>0.633000</td>\n",
       "      <td>0.516587</td>\n",
       "      <td>0.844775</td>\n",
       "      <td>0.090090</td>\n",
       "      <td>0.750000</td>\n",
       "      <td>0.047923</td>\n",
       "    </tr>\n",
       "    <tr>\n",
       "      <td>2</td>\n",
       "      <td>0.400200</td>\n",
       "      <td>0.345871</td>\n",
       "      <td>0.876537</td>\n",
       "      <td>0.492632</td>\n",
       "      <td>0.722222</td>\n",
       "      <td>0.373802</td>\n",
       "    </tr>\n",
       "    <tr>\n",
       "      <td>3</td>\n",
       "      <td>0.327600</td>\n",
       "      <td>0.303212</td>\n",
       "      <td>0.895492</td>\n",
       "      <td>0.542601</td>\n",
       "      <td>0.909774</td>\n",
       "      <td>0.386581</td>\n",
       "    </tr>\n",
       "    <tr>\n",
       "      <td>4</td>\n",
       "      <td>0.288500</td>\n",
       "      <td>0.274830</td>\n",
       "      <td>0.908811</td>\n",
       "      <td>0.626050</td>\n",
       "      <td>0.914110</td>\n",
       "      <td>0.476038</td>\n",
       "    </tr>\n",
       "    <tr>\n",
       "      <td>5</td>\n",
       "      <td>0.260000</td>\n",
       "      <td>0.262240</td>\n",
       "      <td>0.905225</td>\n",
       "      <td>0.615385</td>\n",
       "      <td>0.880952</td>\n",
       "      <td>0.472843</td>\n",
       "    </tr>\n",
       "    <tr>\n",
       "      <td>6</td>\n",
       "      <td>0.238900</td>\n",
       "      <td>0.248109</td>\n",
       "      <td>0.915984</td>\n",
       "      <td>0.679688</td>\n",
       "      <td>0.874372</td>\n",
       "      <td>0.555911</td>\n",
       "    </tr>\n",
       "    <tr>\n",
       "      <td>7</td>\n",
       "      <td>0.225500</td>\n",
       "      <td>0.246807</td>\n",
       "      <td>0.915984</td>\n",
       "      <td>0.683398</td>\n",
       "      <td>0.863415</td>\n",
       "      <td>0.565495</td>\n",
       "    </tr>\n",
       "  </tbody>\n",
       "</table><p>"
      ],
      "text/plain": [
       "<IPython.core.display.HTML object>"
      ]
     },
     "metadata": {},
     "output_type": "display_data"
    },
    {
     "data": {
      "application/vnd.jupyter.widget-view+json": {
       "model_id": "",
       "version_major": 2,
       "version_minor": 0
      },
      "text/plain": [
       "VBox(children=(Label(value='0.008 MB of 0.016 MB uploaded\\r'), FloatProgress(value=0.4786386676321506, max=1.0…"
      ]
     },
     "metadata": {},
     "output_type": "display_data"
    },
    {
     "data": {
      "text/html": [
       "<style>\n",
       "    table.wandb td:nth-child(1) { padding: 0 10px; text-align: left ; width: auto;} td:nth-child(2) {text-align: left ; width: 100%}\n",
       "    .wandb-row { display: flex; flex-direction: row; flex-wrap: wrap; justify-content: flex-start; width: 100% }\n",
       "    .wandb-col { display: flex; flex-direction: column; flex-basis: 100%; flex: 1; padding: 10px; }\n",
       "    </style>\n",
       "<div class=\"wandb-row\"><div class=\"wandb-col\"><h3>Run history:</h3><br/><table class=\"wandb\"><tr><td>eval/accuracy</td><td>▁▄▆▇▇██</td></tr><tr><td>eval/f1</td><td>▁▆▆▇▇██</td></tr><tr><td>eval/loss</td><td>█▄▂▂▁▁▁</td></tr><tr><td>eval/precision</td><td>▂▁██▇▇▆</td></tr><tr><td>eval/recall</td><td>▁▅▆▇▇██</td></tr><tr><td>eval/runtime</td><td>▁▄██▇▅▇</td></tr><tr><td>eval/samples_per_second</td><td>█▅▁▁▂▄▂</td></tr><tr><td>eval/steps_per_second</td><td>█▅▁▁▂▄▂</td></tr><tr><td>train/epoch</td><td>▁▁▂▂▃▃▅▅▆▆▇▇███</td></tr><tr><td>train/global_step</td><td>▁▁▂▂▃▃▅▅▆▆▇▇███</td></tr><tr><td>train/grad_norm</td><td>▂▁▂▂▂█▁</td></tr><tr><td>train/learning_rate</td><td>▆█▇▅▄▂▁</td></tr><tr><td>train/loss</td><td>█▄▃▂▂▁▁</td></tr></table><br/></div><div class=\"wandb-col\"><h3>Run summary:</h3><br/><table class=\"wandb\"><tr><td>eval/accuracy</td><td>0.91598</td></tr><tr><td>eval/f1</td><td>0.6834</td></tr><tr><td>eval/loss</td><td>0.24681</td></tr><tr><td>eval/precision</td><td>0.86341</td></tr><tr><td>eval/recall</td><td>0.5655</td></tr><tr><td>eval/runtime</td><td>2.7708</td></tr><tr><td>eval/samples_per_second</td><td>88.063</td></tr><tr><td>eval/steps_per_second</td><td>5.775</td></tr><tr><td>total_flos</td><td>2421223110623232.0</td></tr><tr><td>train/epoch</td><td>7.0</td></tr><tr><td>train/global_step</td><td>427</td></tr><tr><td>train/grad_norm</td><td>1.25048</td></tr><tr><td>train/learning_rate</td><td>0.0</td></tr><tr><td>train/loss</td><td>0.2255</td></tr><tr><td>train_loss</td><td>0.33909</td></tr><tr><td>train_runtime</td><td>344.1867</td></tr><tr><td>train_samples_per_second</td><td>19.789</td></tr><tr><td>train_steps_per_second</td><td>1.241</td></tr></table><br/></div></div>"
      ],
      "text/plain": [
       "<IPython.core.display.HTML object>"
      ]
     },
     "metadata": {},
     "output_type": "display_data"
    },
    {
     "data": {
      "text/html": [
       " View run <strong style=\"color:#cdcd00\">royal-sweep-2</strong> at: <a href='https://wandb.ai/ai-aloe/metacognitive_classifier/runs/1ns8lrpb' target=\"_blank\">https://wandb.ai/ai-aloe/metacognitive_classifier/runs/1ns8lrpb</a><br/> View project at: <a href='https://wandb.ai/ai-aloe/metacognitive_classifier' target=\"_blank\">https://wandb.ai/ai-aloe/metacognitive_classifier</a><br/>Synced 6 W&B file(s), 0 media file(s), 0 artifact file(s) and 0 other file(s)"
      ],
      "text/plain": [
       "<IPython.core.display.HTML object>"
      ]
     },
     "metadata": {},
     "output_type": "display_data"
    },
    {
     "data": {
      "text/html": [
       "Find logs at: <code>./wandb/run-20240517_203644-1ns8lrpb/logs</code>"
      ],
      "text/plain": [
       "<IPython.core.display.HTML object>"
      ]
     },
     "metadata": {},
     "output_type": "display_data"
    },
    {
     "name": "stderr",
     "output_type": "stream",
     "text": [
      "\u001b[34m\u001b[1mwandb\u001b[0m: Sweep Agent: Waiting for job.\n",
      "\u001b[34m\u001b[1mwandb\u001b[0m: Job received.\n",
      "\u001b[34m\u001b[1mwandb\u001b[0m: Agent Starting Run: po4dh1mn with config:\n",
      "\u001b[34m\u001b[1mwandb\u001b[0m: \tepochs: 7\n",
      "\u001b[34m\u001b[1mwandb\u001b[0m: \tlearning_rate: 8.354398112150327e-06\n",
      "\u001b[34m\u001b[1mwandb\u001b[0m: \twarmup_steps: 1000\n",
      "\u001b[34m\u001b[1mwandb\u001b[0m: \tweight_decay: 0.01\n",
      "Failed to detect the name of this notebook, you can set it manually with the WANDB_NOTEBOOK_NAME environment variable to enable code saving.\n"
     ]
    },
    {
     "data": {
      "text/html": [
       "wandb version 0.17.0 is available!  To upgrade, please run:\n",
       " $ pip install wandb --upgrade"
      ],
      "text/plain": [
       "<IPython.core.display.HTML object>"
      ]
     },
     "metadata": {},
     "output_type": "display_data"
    },
    {
     "data": {
      "text/html": [
       "Tracking run with wandb version 0.16.6"
      ],
      "text/plain": [
       "<IPython.core.display.HTML object>"
      ]
     },
     "metadata": {},
     "output_type": "display_data"
    },
    {
     "data": {
      "text/html": [
       "Run data is saved locally in <code>/home/jovyan/metacognitive-span-categorization/src/classification/wandb/run-20240517_204250-po4dh1mn</code>"
      ],
      "text/plain": [
       "<IPython.core.display.HTML object>"
      ]
     },
     "metadata": {},
     "output_type": "display_data"
    },
    {
     "data": {
      "text/html": [
       "Syncing run <strong><a href='https://wandb.ai/ai-aloe/metacognitive_classifier/runs/po4dh1mn' target=\"_blank\">toasty-sweep-3</a></strong> to <a href='https://wandb.ai/ai-aloe/metacognitive_classifier' target=\"_blank\">Weights & Biases</a> (<a href='https://wandb.me/run' target=\"_blank\">docs</a>)<br/>Sweep page: <a href='https://wandb.ai/ai-aloe/metacognitive_classifier/sweeps/8ellv5tx' target=\"_blank\">https://wandb.ai/ai-aloe/metacognitive_classifier/sweeps/8ellv5tx</a>"
      ],
      "text/plain": [
       "<IPython.core.display.HTML object>"
      ]
     },
     "metadata": {},
     "output_type": "display_data"
    },
    {
     "data": {
      "text/html": [
       " View project at <a href='https://wandb.ai/ai-aloe/metacognitive_classifier' target=\"_blank\">https://wandb.ai/ai-aloe/metacognitive_classifier</a>"
      ],
      "text/plain": [
       "<IPython.core.display.HTML object>"
      ]
     },
     "metadata": {},
     "output_type": "display_data"
    },
    {
     "data": {
      "text/html": [
       " View sweep at <a href='https://wandb.ai/ai-aloe/metacognitive_classifier/sweeps/8ellv5tx' target=\"_blank\">https://wandb.ai/ai-aloe/metacognitive_classifier/sweeps/8ellv5tx</a>"
      ],
      "text/plain": [
       "<IPython.core.display.HTML object>"
      ]
     },
     "metadata": {},
     "output_type": "display_data"
    },
    {
     "data": {
      "text/html": [
       " View run at <a href='https://wandb.ai/ai-aloe/metacognitive_classifier/runs/po4dh1mn' target=\"_blank\">https://wandb.ai/ai-aloe/metacognitive_classifier/runs/po4dh1mn</a>"
      ],
      "text/plain": [
       "<IPython.core.display.HTML object>"
      ]
     },
     "metadata": {},
     "output_type": "display_data"
    },
    {
     "name": "stderr",
     "output_type": "stream",
     "text": [
      "Some weights of DebertaV2ForSequenceClassification were not initialized from the model checkpoint at microsoft/deberta-v3-large and are newly initialized: ['classifier.bias', 'classifier.weight', 'pooler.dense.bias', 'pooler.dense.weight']\n",
      "You should probably TRAIN this model on a down-stream task to be able to use it for predictions and inference.\n",
      "\u001b[34m\u001b[1mwandb\u001b[0m: \u001b[33mWARNING\u001b[0m Config item 'learning_rate' was locked by 'sweep' (ignored update).\n",
      "\u001b[34m\u001b[1mwandb\u001b[0m: \u001b[33mWARNING\u001b[0m Config item 'weight_decay' was locked by 'sweep' (ignored update).\n",
      "\u001b[34m\u001b[1mwandb\u001b[0m: \u001b[33mWARNING\u001b[0m Config item 'warmup_steps' was locked by 'sweep' (ignored update).\n"
     ]
    },
    {
     "data": {
      "text/html": [
       "\n",
       "    <div>\n",
       "      \n",
       "      <progress value='427' max='427' style='width:300px; height:20px; vertical-align: middle;'></progress>\n",
       "      [427/427 05:42, Epoch 7/7]\n",
       "    </div>\n",
       "    <table border=\"1\" class=\"dataframe\">\n",
       "  <thead>\n",
       " <tr style=\"text-align: left;\">\n",
       "      <th>Epoch</th>\n",
       "      <th>Training Loss</th>\n",
       "      <th>Validation Loss</th>\n",
       "      <th>Accuracy</th>\n",
       "      <th>F1</th>\n",
       "      <th>Precision</th>\n",
       "      <th>Recall</th>\n",
       "    </tr>\n",
       "  </thead>\n",
       "  <tbody>\n",
       "    <tr>\n",
       "      <td>1</td>\n",
       "      <td>0.659100</td>\n",
       "      <td>0.652402</td>\n",
       "      <td>0.656250</td>\n",
       "      <td>0.341511</td>\n",
       "      <td>0.246459</td>\n",
       "      <td>0.555911</td>\n",
       "    </tr>\n",
       "    <tr>\n",
       "      <td>2</td>\n",
       "      <td>0.636000</td>\n",
       "      <td>0.575325</td>\n",
       "      <td>0.855020</td>\n",
       "      <td>0.383442</td>\n",
       "      <td>0.602740</td>\n",
       "      <td>0.281150</td>\n",
       "    </tr>\n",
       "    <tr>\n",
       "      <td>3</td>\n",
       "      <td>0.496100</td>\n",
       "      <td>0.396498</td>\n",
       "      <td>0.861168</td>\n",
       "      <td>0.320802</td>\n",
       "      <td>0.744186</td>\n",
       "      <td>0.204473</td>\n",
       "    </tr>\n",
       "    <tr>\n",
       "      <td>4</td>\n",
       "      <td>0.377600</td>\n",
       "      <td>0.349461</td>\n",
       "      <td>0.871414</td>\n",
       "      <td>0.518234</td>\n",
       "      <td>0.649038</td>\n",
       "      <td>0.431310</td>\n",
       "    </tr>\n",
       "    <tr>\n",
       "      <td>5</td>\n",
       "      <td>0.344700</td>\n",
       "      <td>0.321933</td>\n",
       "      <td>0.885246</td>\n",
       "      <td>0.523404</td>\n",
       "      <td>0.783439</td>\n",
       "      <td>0.392971</td>\n",
       "    </tr>\n",
       "    <tr>\n",
       "      <td>6</td>\n",
       "      <td>0.315700</td>\n",
       "      <td>0.313111</td>\n",
       "      <td>0.890369</td>\n",
       "      <td>0.561475</td>\n",
       "      <td>0.782857</td>\n",
       "      <td>0.437700</td>\n",
       "    </tr>\n",
       "    <tr>\n",
       "      <td>7</td>\n",
       "      <td>0.290400</td>\n",
       "      <td>0.288757</td>\n",
       "      <td>0.901639</td>\n",
       "      <td>0.649635</td>\n",
       "      <td>0.757447</td>\n",
       "      <td>0.568690</td>\n",
       "    </tr>\n",
       "  </tbody>\n",
       "</table><p>"
      ],
      "text/plain": [
       "<IPython.core.display.HTML object>"
      ]
     },
     "metadata": {},
     "output_type": "display_data"
    },
    {
     "data": {
      "application/vnd.jupyter.widget-view+json": {
       "model_id": "",
       "version_major": 2,
       "version_minor": 0
      },
      "text/plain": [
       "VBox(children=(Label(value='0.008 MB of 0.008 MB uploaded\\r'), FloatProgress(value=1.0, max=1.0)))"
      ]
     },
     "metadata": {},
     "output_type": "display_data"
    },
    {
     "data": {
      "text/html": [
       "<style>\n",
       "    table.wandb td:nth-child(1) { padding: 0 10px; text-align: left ; width: auto;} td:nth-child(2) {text-align: left ; width: 100%}\n",
       "    .wandb-row { display: flex; flex-direction: row; flex-wrap: wrap; justify-content: flex-start; width: 100% }\n",
       "    .wandb-col { display: flex; flex-direction: column; flex-basis: 100%; flex: 1; padding: 10px; }\n",
       "    </style>\n",
       "<div class=\"wandb-row\"><div class=\"wandb-col\"><h3>Run history:</h3><br/><table class=\"wandb\"><tr><td>eval/accuracy</td><td>▁▇▇▇███</td></tr><tr><td>eval/f1</td><td>▁▂▁▅▅▆█</td></tr><tr><td>eval/loss</td><td>█▇▃▂▂▁▁</td></tr><tr><td>eval/precision</td><td>▁▆▇▆███</td></tr><tr><td>eval/recall</td><td>█▂▁▅▅▅█</td></tr><tr><td>eval/runtime</td><td>▁▃▅▇▁█▄</td></tr><tr><td>eval/samples_per_second</td><td>█▆▄▂█▁▅</td></tr><tr><td>eval/steps_per_second</td><td>▇▆▄▃█▁▅</td></tr><tr><td>train/epoch</td><td>▁▁▂▂▃▃▅▅▆▆▇▇███</td></tr><tr><td>train/global_step</td><td>▁▁▂▂▃▃▅▅▆▆▇▇███</td></tr><tr><td>train/grad_norm</td><td>▄▆▂▁▃█▄</td></tr><tr><td>train/learning_rate</td><td>▁▂▃▅▆▇█</td></tr><tr><td>train/loss</td><td>██▅▃▂▁▁</td></tr></table><br/></div><div class=\"wandb-col\"><h3>Run summary:</h3><br/><table class=\"wandb\"><tr><td>eval/accuracy</td><td>0.90164</td></tr><tr><td>eval/f1</td><td>0.64964</td></tr><tr><td>eval/loss</td><td>0.28876</td></tr><tr><td>eval/precision</td><td>0.75745</td></tr><tr><td>eval/recall</td><td>0.56869</td></tr><tr><td>eval/runtime</td><td>2.7755</td></tr><tr><td>eval/samples_per_second</td><td>87.912</td></tr><tr><td>eval/steps_per_second</td><td>5.765</td></tr><tr><td>total_flos</td><td>2421223110623232.0</td></tr><tr><td>train/epoch</td><td>7.0</td></tr><tr><td>train/global_step</td><td>427</td></tr><tr><td>train/grad_norm</td><td>1.51707</td></tr><tr><td>train/learning_rate</td><td>0.0</td></tr><tr><td>train/loss</td><td>0.2904</td></tr><tr><td>train_loss</td><td>0.44567</td></tr><tr><td>train_runtime</td><td>343.2288</td></tr><tr><td>train_samples_per_second</td><td>19.844</td></tr><tr><td>train_steps_per_second</td><td>1.244</td></tr></table><br/></div></div>"
      ],
      "text/plain": [
       "<IPython.core.display.HTML object>"
      ]
     },
     "metadata": {},
     "output_type": "display_data"
    },
    {
     "data": {
      "text/html": [
       " View run <strong style=\"color:#cdcd00\">toasty-sweep-3</strong> at: <a href='https://wandb.ai/ai-aloe/metacognitive_classifier/runs/po4dh1mn' target=\"_blank\">https://wandb.ai/ai-aloe/metacognitive_classifier/runs/po4dh1mn</a><br/> View project at: <a href='https://wandb.ai/ai-aloe/metacognitive_classifier' target=\"_blank\">https://wandb.ai/ai-aloe/metacognitive_classifier</a><br/>Synced 6 W&B file(s), 0 media file(s), 0 artifact file(s) and 0 other file(s)"
      ],
      "text/plain": [
       "<IPython.core.display.HTML object>"
      ]
     },
     "metadata": {},
     "output_type": "display_data"
    },
    {
     "data": {
      "text/html": [
       "Find logs at: <code>./wandb/run-20240517_204250-po4dh1mn/logs</code>"
      ],
      "text/plain": [
       "<IPython.core.display.HTML object>"
      ]
     },
     "metadata": {},
     "output_type": "display_data"
    },
    {
     "name": "stderr",
     "output_type": "stream",
     "text": [
      "\u001b[34m\u001b[1mwandb\u001b[0m: Agent Starting Run: ri1wjx9u with config:\n",
      "\u001b[34m\u001b[1mwandb\u001b[0m: \tepochs: 9\n",
      "\u001b[34m\u001b[1mwandb\u001b[0m: \tlearning_rate: 5.644455160928555e-06\n",
      "\u001b[34m\u001b[1mwandb\u001b[0m: \twarmup_steps: 50\n",
      "\u001b[34m\u001b[1mwandb\u001b[0m: \tweight_decay: 0.01\n",
      "Failed to detect the name of this notebook, you can set it manually with the WANDB_NOTEBOOK_NAME environment variable to enable code saving.\n"
     ]
    },
    {
     "data": {
      "text/html": [
       "wandb version 0.17.0 is available!  To upgrade, please run:\n",
       " $ pip install wandb --upgrade"
      ],
      "text/plain": [
       "<IPython.core.display.HTML object>"
      ]
     },
     "metadata": {},
     "output_type": "display_data"
    },
    {
     "data": {
      "text/html": [
       "Tracking run with wandb version 0.16.6"
      ],
      "text/plain": [
       "<IPython.core.display.HTML object>"
      ]
     },
     "metadata": {},
     "output_type": "display_data"
    },
    {
     "data": {
      "text/html": [
       "Run data is saved locally in <code>/home/jovyan/metacognitive-span-categorization/src/classification/wandb/run-20240517_204847-ri1wjx9u</code>"
      ],
      "text/plain": [
       "<IPython.core.display.HTML object>"
      ]
     },
     "metadata": {},
     "output_type": "display_data"
    },
    {
     "data": {
      "text/html": [
       "Syncing run <strong><a href='https://wandb.ai/ai-aloe/metacognitive_classifier/runs/ri1wjx9u' target=\"_blank\">clear-sweep-4</a></strong> to <a href='https://wandb.ai/ai-aloe/metacognitive_classifier' target=\"_blank\">Weights & Biases</a> (<a href='https://wandb.me/run' target=\"_blank\">docs</a>)<br/>Sweep page: <a href='https://wandb.ai/ai-aloe/metacognitive_classifier/sweeps/8ellv5tx' target=\"_blank\">https://wandb.ai/ai-aloe/metacognitive_classifier/sweeps/8ellv5tx</a>"
      ],
      "text/plain": [
       "<IPython.core.display.HTML object>"
      ]
     },
     "metadata": {},
     "output_type": "display_data"
    },
    {
     "data": {
      "text/html": [
       " View project at <a href='https://wandb.ai/ai-aloe/metacognitive_classifier' target=\"_blank\">https://wandb.ai/ai-aloe/metacognitive_classifier</a>"
      ],
      "text/plain": [
       "<IPython.core.display.HTML object>"
      ]
     },
     "metadata": {},
     "output_type": "display_data"
    },
    {
     "data": {
      "text/html": [
       " View sweep at <a href='https://wandb.ai/ai-aloe/metacognitive_classifier/sweeps/8ellv5tx' target=\"_blank\">https://wandb.ai/ai-aloe/metacognitive_classifier/sweeps/8ellv5tx</a>"
      ],
      "text/plain": [
       "<IPython.core.display.HTML object>"
      ]
     },
     "metadata": {},
     "output_type": "display_data"
    },
    {
     "data": {
      "text/html": [
       " View run at <a href='https://wandb.ai/ai-aloe/metacognitive_classifier/runs/ri1wjx9u' target=\"_blank\">https://wandb.ai/ai-aloe/metacognitive_classifier/runs/ri1wjx9u</a>"
      ],
      "text/plain": [
       "<IPython.core.display.HTML object>"
      ]
     },
     "metadata": {},
     "output_type": "display_data"
    },
    {
     "name": "stderr",
     "output_type": "stream",
     "text": [
      "Some weights of DebertaV2ForSequenceClassification were not initialized from the model checkpoint at microsoft/deberta-v3-large and are newly initialized: ['classifier.bias', 'classifier.weight', 'pooler.dense.bias', 'pooler.dense.weight']\n",
      "You should probably TRAIN this model on a down-stream task to be able to use it for predictions and inference.\n",
      "\u001b[34m\u001b[1mwandb\u001b[0m: \u001b[33mWARNING\u001b[0m Config item 'learning_rate' was locked by 'sweep' (ignored update).\n",
      "\u001b[34m\u001b[1mwandb\u001b[0m: \u001b[33mWARNING\u001b[0m Config item 'weight_decay' was locked by 'sweep' (ignored update).\n",
      "\u001b[34m\u001b[1mwandb\u001b[0m: \u001b[33mWARNING\u001b[0m Config item 'warmup_steps' was locked by 'sweep' (ignored update).\n"
     ]
    },
    {
     "data": {
      "text/html": [
       "\n",
       "    <div>\n",
       "      \n",
       "      <progress value='549' max='549' style='width:300px; height:20px; vertical-align: middle;'></progress>\n",
       "      [549/549 07:17, Epoch 9/9]\n",
       "    </div>\n",
       "    <table border=\"1\" class=\"dataframe\">\n",
       "  <thead>\n",
       " <tr style=\"text-align: left;\">\n",
       "      <th>Epoch</th>\n",
       "      <th>Training Loss</th>\n",
       "      <th>Validation Loss</th>\n",
       "      <th>Accuracy</th>\n",
       "      <th>F1</th>\n",
       "      <th>Precision</th>\n",
       "      <th>Recall</th>\n",
       "    </tr>\n",
       "  </thead>\n",
       "  <tbody>\n",
       "    <tr>\n",
       "      <td>1</td>\n",
       "      <td>0.591700</td>\n",
       "      <td>0.394500</td>\n",
       "      <td>0.871414</td>\n",
       "      <td>0.492929</td>\n",
       "      <td>0.670330</td>\n",
       "      <td>0.389776</td>\n",
       "    </tr>\n",
       "    <tr>\n",
       "      <td>2</td>\n",
       "      <td>0.361000</td>\n",
       "      <td>0.332918</td>\n",
       "      <td>0.880635</td>\n",
       "      <td>0.485651</td>\n",
       "      <td>0.785714</td>\n",
       "      <td>0.351438</td>\n",
       "    </tr>\n",
       "    <tr>\n",
       "      <td>3</td>\n",
       "      <td>0.315400</td>\n",
       "      <td>0.294608</td>\n",
       "      <td>0.894980</td>\n",
       "      <td>0.543430</td>\n",
       "      <td>0.897059</td>\n",
       "      <td>0.389776</td>\n",
       "    </tr>\n",
       "    <tr>\n",
       "      <td>4</td>\n",
       "      <td>0.281300</td>\n",
       "      <td>0.268635</td>\n",
       "      <td>0.904201</td>\n",
       "      <td>0.589011</td>\n",
       "      <td>0.943662</td>\n",
       "      <td>0.428115</td>\n",
       "    </tr>\n",
       "    <tr>\n",
       "      <td>5</td>\n",
       "      <td>0.255300</td>\n",
       "      <td>0.260587</td>\n",
       "      <td>0.907787</td>\n",
       "      <td>0.637097</td>\n",
       "      <td>0.863388</td>\n",
       "      <td>0.504792</td>\n",
       "    </tr>\n",
       "    <tr>\n",
       "      <td>6</td>\n",
       "      <td>0.232500</td>\n",
       "      <td>0.247704</td>\n",
       "      <td>0.913422</td>\n",
       "      <td>0.694394</td>\n",
       "      <td>0.800000</td>\n",
       "      <td>0.613419</td>\n",
       "    </tr>\n",
       "    <tr>\n",
       "      <td>7</td>\n",
       "      <td>0.214600</td>\n",
       "      <td>0.235275</td>\n",
       "      <td>0.920082</td>\n",
       "      <td>0.715328</td>\n",
       "      <td>0.834043</td>\n",
       "      <td>0.626198</td>\n",
       "    </tr>\n",
       "    <tr>\n",
       "      <td>8</td>\n",
       "      <td>0.203100</td>\n",
       "      <td>0.228048</td>\n",
       "      <td>0.922643</td>\n",
       "      <td>0.719852</td>\n",
       "      <td>0.858407</td>\n",
       "      <td>0.619808</td>\n",
       "    </tr>\n",
       "    <tr>\n",
       "      <td>9</td>\n",
       "      <td>0.196100</td>\n",
       "      <td>0.227506</td>\n",
       "      <td>0.921619</td>\n",
       "      <td>0.720293</td>\n",
       "      <td>0.841880</td>\n",
       "      <td>0.629393</td>\n",
       "    </tr>\n",
       "  </tbody>\n",
       "</table><p>"
      ],
      "text/plain": [
       "<IPython.core.display.HTML object>"
      ]
     },
     "metadata": {},
     "output_type": "display_data"
    },
    {
     "data": {
      "application/vnd.jupyter.widget-view+json": {
       "model_id": "55b65ada824543498709a5205d1781f4",
       "version_major": 2,
       "version_minor": 0
      },
      "text/plain": [
       "VBox(children=(Label(value='0.008 MB of 0.008 MB uploaded\\r'), FloatProgress(value=1.0, max=1.0)))"
      ]
     },
     "metadata": {},
     "output_type": "display_data"
    },
    {
     "data": {
      "text/html": [
       "<style>\n",
       "    table.wandb td:nth-child(1) { padding: 0 10px; text-align: left ; width: auto;} td:nth-child(2) {text-align: left ; width: 100%}\n",
       "    .wandb-row { display: flex; flex-direction: row; flex-wrap: wrap; justify-content: flex-start; width: 100% }\n",
       "    .wandb-col { display: flex; flex-direction: column; flex-basis: 100%; flex: 1; padding: 10px; }\n",
       "    </style>\n",
       "<div class=\"wandb-row\"><div class=\"wandb-col\"><h3>Run history:</h3><br/><table class=\"wandb\"><tr><td>eval/accuracy</td><td>▁▂▄▅▆▇███</td></tr><tr><td>eval/f1</td><td>▁▁▃▄▆▇███</td></tr><tr><td>eval/loss</td><td>█▅▄▃▂▂▁▁▁</td></tr><tr><td>eval/precision</td><td>▁▄▇█▆▄▅▆▅</td></tr><tr><td>eval/recall</td><td>▂▁▂▃▅████</td></tr><tr><td>eval/runtime</td><td>▁▁▄▅▃▂▂█▃</td></tr><tr><td>eval/samples_per_second</td><td>██▅▄▆▇▇▁▆</td></tr><tr><td>eval/steps_per_second</td><td>██▅▄▆▇▇▁▆</td></tr><tr><td>train/epoch</td><td>▁▁▂▂▃▃▄▄▅▅▅▅▆▆▇▇███</td></tr><tr><td>train/global_step</td><td>▁▁▂▂▃▃▄▄▅▅▅▅▆▆▇▇███</td></tr><tr><td>train/grad_norm</td><td>▃▁▇▄▄█▅▄▆</td></tr><tr><td>train/learning_rate</td><td>█▇▆▅▅▄▃▂▁</td></tr><tr><td>train/loss</td><td>█▄▃▃▂▂▁▁▁</td></tr></table><br/></div><div class=\"wandb-col\"><h3>Run summary:</h3><br/><table class=\"wandb\"><tr><td>eval/accuracy</td><td>0.92162</td></tr><tr><td>eval/f1</td><td>0.72029</td></tr><tr><td>eval/loss</td><td>0.22751</td></tr><tr><td>eval/precision</td><td>0.84188</td></tr><tr><td>eval/recall</td><td>0.62939</td></tr><tr><td>eval/runtime</td><td>2.7755</td></tr><tr><td>eval/samples_per_second</td><td>87.913</td></tr><tr><td>eval/steps_per_second</td><td>5.765</td></tr><tr><td>total_flos</td><td>3104813238276096.0</td></tr><tr><td>train/epoch</td><td>9.0</td></tr><tr><td>train/global_step</td><td>549</td></tr><tr><td>train/grad_norm</td><td>1.82527</td></tr><tr><td>train/learning_rate</td><td>0.0</td></tr><tr><td>train/loss</td><td>0.1961</td></tr><tr><td>train_loss</td><td>0.29454</td></tr><tr><td>train_runtime</td><td>438.6642</td></tr><tr><td>train_samples_per_second</td><td>19.963</td></tr><tr><td>train_steps_per_second</td><td>1.252</td></tr></table><br/></div></div>"
      ],
      "text/plain": [
       "<IPython.core.display.HTML object>"
      ]
     },
     "metadata": {},
     "output_type": "display_data"
    },
    {
     "data": {
      "text/html": [
       " View run <strong style=\"color:#cdcd00\">clear-sweep-4</strong> at: <a href='https://wandb.ai/ai-aloe/metacognitive_classifier/runs/ri1wjx9u' target=\"_blank\">https://wandb.ai/ai-aloe/metacognitive_classifier/runs/ri1wjx9u</a><br/> View project at: <a href='https://wandb.ai/ai-aloe/metacognitive_classifier' target=\"_blank\">https://wandb.ai/ai-aloe/metacognitive_classifier</a><br/>Synced 6 W&B file(s), 0 media file(s), 0 artifact file(s) and 0 other file(s)"
      ],
      "text/plain": [
       "<IPython.core.display.HTML object>"
      ]
     },
     "metadata": {},
     "output_type": "display_data"
    },
    {
     "data": {
      "text/html": [
       "Find logs at: <code>./wandb/run-20240517_204847-ri1wjx9u/logs</code>"
      ],
      "text/plain": [
       "<IPython.core.display.HTML object>"
      ]
     },
     "metadata": {},
     "output_type": "display_data"
    },
    {
     "name": "stderr",
     "output_type": "stream",
     "text": [
      "\u001b[34m\u001b[1mwandb\u001b[0m: Sweep Agent: Waiting for job.\n",
      "\u001b[34m\u001b[1mwandb\u001b[0m: Job received.\n",
      "\u001b[34m\u001b[1mwandb\u001b[0m: Agent Starting Run: dea0icu6 with config:\n",
      "\u001b[34m\u001b[1mwandb\u001b[0m: \tepochs: 5\n",
      "\u001b[34m\u001b[1mwandb\u001b[0m: \tlearning_rate: 5.362834488047011e-06\n",
      "\u001b[34m\u001b[1mwandb\u001b[0m: \twarmup_steps: 1000\n",
      "\u001b[34m\u001b[1mwandb\u001b[0m: \tweight_decay: 0.01\n",
      "Failed to detect the name of this notebook, you can set it manually with the WANDB_NOTEBOOK_NAME environment variable to enable code saving.\n"
     ]
    },
    {
     "data": {
      "text/html": [
       "wandb version 0.17.0 is available!  To upgrade, please run:\n",
       " $ pip install wandb --upgrade"
      ],
      "text/plain": [
       "<IPython.core.display.HTML object>"
      ]
     },
     "metadata": {},
     "output_type": "display_data"
    },
    {
     "data": {
      "text/html": [
       "Tracking run with wandb version 0.16.6"
      ],
      "text/plain": [
       "<IPython.core.display.HTML object>"
      ]
     },
     "metadata": {},
     "output_type": "display_data"
    },
    {
     "data": {
      "text/html": [
       "Run data is saved locally in <code>/home/jovyan/metacognitive-span-categorization/src/classification/wandb/run-20240517_205629-dea0icu6</code>"
      ],
      "text/plain": [
       "<IPython.core.display.HTML object>"
      ]
     },
     "metadata": {},
     "output_type": "display_data"
    },
    {
     "data": {
      "text/html": [
       "Syncing run <strong><a href='https://wandb.ai/ai-aloe/metacognitive_classifier/runs/dea0icu6' target=\"_blank\">upbeat-sweep-5</a></strong> to <a href='https://wandb.ai/ai-aloe/metacognitive_classifier' target=\"_blank\">Weights & Biases</a> (<a href='https://wandb.me/run' target=\"_blank\">docs</a>)<br/>Sweep page: <a href='https://wandb.ai/ai-aloe/metacognitive_classifier/sweeps/8ellv5tx' target=\"_blank\">https://wandb.ai/ai-aloe/metacognitive_classifier/sweeps/8ellv5tx</a>"
      ],
      "text/plain": [
       "<IPython.core.display.HTML object>"
      ]
     },
     "metadata": {},
     "output_type": "display_data"
    },
    {
     "data": {
      "text/html": [
       " View project at <a href='https://wandb.ai/ai-aloe/metacognitive_classifier' target=\"_blank\">https://wandb.ai/ai-aloe/metacognitive_classifier</a>"
      ],
      "text/plain": [
       "<IPython.core.display.HTML object>"
      ]
     },
     "metadata": {},
     "output_type": "display_data"
    },
    {
     "data": {
      "text/html": [
       " View sweep at <a href='https://wandb.ai/ai-aloe/metacognitive_classifier/sweeps/8ellv5tx' target=\"_blank\">https://wandb.ai/ai-aloe/metacognitive_classifier/sweeps/8ellv5tx</a>"
      ],
      "text/plain": [
       "<IPython.core.display.HTML object>"
      ]
     },
     "metadata": {},
     "output_type": "display_data"
    },
    {
     "data": {
      "text/html": [
       " View run at <a href='https://wandb.ai/ai-aloe/metacognitive_classifier/runs/dea0icu6' target=\"_blank\">https://wandb.ai/ai-aloe/metacognitive_classifier/runs/dea0icu6</a>"
      ],
      "text/plain": [
       "<IPython.core.display.HTML object>"
      ]
     },
     "metadata": {},
     "output_type": "display_data"
    },
    {
     "name": "stderr",
     "output_type": "stream",
     "text": [
      "Some weights of DebertaV2ForSequenceClassification were not initialized from the model checkpoint at microsoft/deberta-v3-large and are newly initialized: ['classifier.bias', 'classifier.weight', 'pooler.dense.bias', 'pooler.dense.weight']\n",
      "You should probably TRAIN this model on a down-stream task to be able to use it for predictions and inference.\n",
      "\u001b[34m\u001b[1mwandb\u001b[0m: \u001b[33mWARNING\u001b[0m Config item 'learning_rate' was locked by 'sweep' (ignored update).\n",
      "\u001b[34m\u001b[1mwandb\u001b[0m: \u001b[33mWARNING\u001b[0m Config item 'weight_decay' was locked by 'sweep' (ignored update).\n",
      "\u001b[34m\u001b[1mwandb\u001b[0m: \u001b[33mWARNING\u001b[0m Config item 'warmup_steps' was locked by 'sweep' (ignored update).\n"
     ]
    },
    {
     "data": {
      "text/html": [
       "\n",
       "    <div>\n",
       "      \n",
       "      <progress value='305' max='305' style='width:300px; height:20px; vertical-align: middle;'></progress>\n",
       "      [305/305 04:00, Epoch 5/5]\n",
       "    </div>\n",
       "    <table border=\"1\" class=\"dataframe\">\n",
       "  <thead>\n",
       " <tr style=\"text-align: left;\">\n",
       "      <th>Epoch</th>\n",
       "      <th>Training Loss</th>\n",
       "      <th>Validation Loss</th>\n",
       "      <th>Accuracy</th>\n",
       "      <th>F1</th>\n",
       "      <th>Precision</th>\n",
       "      <th>Recall</th>\n",
       "    </tr>\n",
       "  </thead>\n",
       "  <tbody>\n",
       "    <tr>\n",
       "      <td>1</td>\n",
       "      <td>0.649200</td>\n",
       "      <td>0.643563</td>\n",
       "      <td>0.726947</td>\n",
       "      <td>0.043088</td>\n",
       "      <td>0.049180</td>\n",
       "      <td>0.038339</td>\n",
       "    </tr>\n",
       "    <tr>\n",
       "      <td>2</td>\n",
       "      <td>0.638700</td>\n",
       "      <td>0.624475</td>\n",
       "      <td>0.728484</td>\n",
       "      <td>0.043321</td>\n",
       "      <td>0.049793</td>\n",
       "      <td>0.038339</td>\n",
       "    </tr>\n",
       "    <tr>\n",
       "      <td>3</td>\n",
       "      <td>0.580000</td>\n",
       "      <td>0.477495</td>\n",
       "      <td>0.839139</td>\n",
       "      <td>0.000000</td>\n",
       "      <td>0.000000</td>\n",
       "      <td>0.000000</td>\n",
       "    </tr>\n",
       "    <tr>\n",
       "      <td>4</td>\n",
       "      <td>0.417400</td>\n",
       "      <td>0.362416</td>\n",
       "      <td>0.868852</td>\n",
       "      <td>0.509579</td>\n",
       "      <td>0.636364</td>\n",
       "      <td>0.424920</td>\n",
       "    </tr>\n",
       "    <tr>\n",
       "      <td>5</td>\n",
       "      <td>0.359100</td>\n",
       "      <td>0.339867</td>\n",
       "      <td>0.877561</td>\n",
       "      <td>0.511247</td>\n",
       "      <td>0.710227</td>\n",
       "      <td>0.399361</td>\n",
       "    </tr>\n",
       "  </tbody>\n",
       "</table><p>"
      ],
      "text/plain": [
       "<IPython.core.display.HTML object>"
      ]
     },
     "metadata": {},
     "output_type": "display_data"
    },
    {
     "data": {
      "application/vnd.jupyter.widget-view+json": {
       "model_id": "ae4ce3f9f0a54030a0165023d61228b7",
       "version_major": 2,
       "version_minor": 0
      },
      "text/plain": [
       "VBox(children=(Label(value='0.008 MB of 0.026 MB uploaded\\r'), FloatProgress(value=0.28716742081447966, max=1.…"
      ]
     },
     "metadata": {},
     "output_type": "display_data"
    },
    {
     "data": {
      "text/html": [
       "<style>\n",
       "    table.wandb td:nth-child(1) { padding: 0 10px; text-align: left ; width: auto;} td:nth-child(2) {text-align: left ; width: 100%}\n",
       "    .wandb-row { display: flex; flex-direction: row; flex-wrap: wrap; justify-content: flex-start; width: 100% }\n",
       "    .wandb-col { display: flex; flex-direction: column; flex-basis: 100%; flex: 1; padding: 10px; }\n",
       "    </style>\n",
       "<div class=\"wandb-row\"><div class=\"wandb-col\"><h3>Run history:</h3><br/><table class=\"wandb\"><tr><td>eval/accuracy</td><td>▁▁▆██</td></tr><tr><td>eval/f1</td><td>▂▂▁██</td></tr><tr><td>eval/loss</td><td>██▄▂▁</td></tr><tr><td>eval/precision</td><td>▁▁▁▇█</td></tr><tr><td>eval/recall</td><td>▂▂▁██</td></tr><tr><td>eval/runtime</td><td>▁▇▆█▇</td></tr><tr><td>eval/samples_per_second</td><td>█▂▃▁▂</td></tr><tr><td>eval/steps_per_second</td><td>█▂▃▁▂</td></tr><tr><td>train/epoch</td><td>▁▁▃▃▅▅▆▆███</td></tr><tr><td>train/global_step</td><td>▁▁▃▃▅▅▆▆███</td></tr><tr><td>train/grad_norm</td><td>▆█▁▃▁</td></tr><tr><td>train/learning_rate</td><td>▁▃▄▆█</td></tr><tr><td>train/loss</td><td>██▆▂▁</td></tr></table><br/></div><div class=\"wandb-col\"><h3>Run summary:</h3><br/><table class=\"wandb\"><tr><td>eval/accuracy</td><td>0.87756</td></tr><tr><td>eval/f1</td><td>0.51125</td></tr><tr><td>eval/loss</td><td>0.33987</td></tr><tr><td>eval/precision</td><td>0.71023</td></tr><tr><td>eval/recall</td><td>0.39936</td></tr><tr><td>eval/runtime</td><td>2.7767</td></tr><tr><td>eval/samples_per_second</td><td>87.875</td></tr><tr><td>eval/steps_per_second</td><td>5.762</td></tr><tr><td>total_flos</td><td>1737574735686144.0</td></tr><tr><td>train/epoch</td><td>5.0</td></tr><tr><td>train/global_step</td><td>305</td></tr><tr><td>train/grad_norm</td><td>1.3807</td></tr><tr><td>train/learning_rate</td><td>0.0</td></tr><tr><td>train/loss</td><td>0.3591</td></tr><tr><td>train_loss</td><td>0.5289</td></tr><tr><td>train_runtime</td><td>241.5234</td></tr><tr><td>train_samples_per_second</td><td>20.143</td></tr><tr><td>train_steps_per_second</td><td>1.263</td></tr></table><br/></div></div>"
      ],
      "text/plain": [
       "<IPython.core.display.HTML object>"
      ]
     },
     "metadata": {},
     "output_type": "display_data"
    },
    {
     "data": {
      "text/html": [
       " View run <strong style=\"color:#cdcd00\">upbeat-sweep-5</strong> at: <a href='https://wandb.ai/ai-aloe/metacognitive_classifier/runs/dea0icu6' target=\"_blank\">https://wandb.ai/ai-aloe/metacognitive_classifier/runs/dea0icu6</a><br/> View project at: <a href='https://wandb.ai/ai-aloe/metacognitive_classifier' target=\"_blank\">https://wandb.ai/ai-aloe/metacognitive_classifier</a><br/>Synced 6 W&B file(s), 0 media file(s), 0 artifact file(s) and 0 other file(s)"
      ],
      "text/plain": [
       "<IPython.core.display.HTML object>"
      ]
     },
     "metadata": {},
     "output_type": "display_data"
    },
    {
     "data": {
      "text/html": [
       "Find logs at: <code>./wandb/run-20240517_205629-dea0icu6/logs</code>"
      ],
      "text/plain": [
       "<IPython.core.display.HTML object>"
      ]
     },
     "metadata": {},
     "output_type": "display_data"
    },
    {
     "name": "stderr",
     "output_type": "stream",
     "text": [
      "\u001b[34m\u001b[1mwandb\u001b[0m: Agent Starting Run: f323tvy9 with config:\n",
      "\u001b[34m\u001b[1mwandb\u001b[0m: \tepochs: 8\n",
      "\u001b[34m\u001b[1mwandb\u001b[0m: \tlearning_rate: 8.29837661672417e-06\n",
      "\u001b[34m\u001b[1mwandb\u001b[0m: \twarmup_steps: 500\n",
      "\u001b[34m\u001b[1mwandb\u001b[0m: \tweight_decay: 0.01\n",
      "Failed to detect the name of this notebook, you can set it manually with the WANDB_NOTEBOOK_NAME environment variable to enable code saving.\n"
     ]
    },
    {
     "data": {
      "text/html": [
       "wandb version 0.17.0 is available!  To upgrade, please run:\n",
       " $ pip install wandb --upgrade"
      ],
      "text/plain": [
       "<IPython.core.display.HTML object>"
      ]
     },
     "metadata": {},
     "output_type": "display_data"
    },
    {
     "data": {
      "text/html": [
       "Tracking run with wandb version 0.16.6"
      ],
      "text/plain": [
       "<IPython.core.display.HTML object>"
      ]
     },
     "metadata": {},
     "output_type": "display_data"
    },
    {
     "data": {
      "text/html": [
       "Run data is saved locally in <code>/home/jovyan/metacognitive-span-categorization/src/classification/wandb/run-20240517_210043-f323tvy9</code>"
      ],
      "text/plain": [
       "<IPython.core.display.HTML object>"
      ]
     },
     "metadata": {},
     "output_type": "display_data"
    },
    {
     "data": {
      "text/html": [
       "Syncing run <strong><a href='https://wandb.ai/ai-aloe/metacognitive_classifier/runs/f323tvy9' target=\"_blank\">polished-sweep-6</a></strong> to <a href='https://wandb.ai/ai-aloe/metacognitive_classifier' target=\"_blank\">Weights & Biases</a> (<a href='https://wandb.me/run' target=\"_blank\">docs</a>)<br/>Sweep page: <a href='https://wandb.ai/ai-aloe/metacognitive_classifier/sweeps/8ellv5tx' target=\"_blank\">https://wandb.ai/ai-aloe/metacognitive_classifier/sweeps/8ellv5tx</a>"
      ],
      "text/plain": [
       "<IPython.core.display.HTML object>"
      ]
     },
     "metadata": {},
     "output_type": "display_data"
    },
    {
     "data": {
      "text/html": [
       " View project at <a href='https://wandb.ai/ai-aloe/metacognitive_classifier' target=\"_blank\">https://wandb.ai/ai-aloe/metacognitive_classifier</a>"
      ],
      "text/plain": [
       "<IPython.core.display.HTML object>"
      ]
     },
     "metadata": {},
     "output_type": "display_data"
    },
    {
     "data": {
      "text/html": [
       " View sweep at <a href='https://wandb.ai/ai-aloe/metacognitive_classifier/sweeps/8ellv5tx' target=\"_blank\">https://wandb.ai/ai-aloe/metacognitive_classifier/sweeps/8ellv5tx</a>"
      ],
      "text/plain": [
       "<IPython.core.display.HTML object>"
      ]
     },
     "metadata": {},
     "output_type": "display_data"
    },
    {
     "data": {
      "text/html": [
       " View run at <a href='https://wandb.ai/ai-aloe/metacognitive_classifier/runs/f323tvy9' target=\"_blank\">https://wandb.ai/ai-aloe/metacognitive_classifier/runs/f323tvy9</a>"
      ],
      "text/plain": [
       "<IPython.core.display.HTML object>"
      ]
     },
     "metadata": {},
     "output_type": "display_data"
    },
    {
     "name": "stderr",
     "output_type": "stream",
     "text": [
      "Some weights of DebertaV2ForSequenceClassification were not initialized from the model checkpoint at microsoft/deberta-v3-large and are newly initialized: ['classifier.bias', 'classifier.weight', 'pooler.dense.bias', 'pooler.dense.weight']\n",
      "You should probably TRAIN this model on a down-stream task to be able to use it for predictions and inference.\n",
      "\u001b[34m\u001b[1mwandb\u001b[0m: \u001b[33mWARNING\u001b[0m Config item 'learning_rate' was locked by 'sweep' (ignored update).\n",
      "\u001b[34m\u001b[1mwandb\u001b[0m: \u001b[33mWARNING\u001b[0m Config item 'weight_decay' was locked by 'sweep' (ignored update).\n",
      "\u001b[34m\u001b[1mwandb\u001b[0m: \u001b[33mWARNING\u001b[0m Config item 'warmup_steps' was locked by 'sweep' (ignored update).\n"
     ]
    },
    {
     "data": {
      "text/html": [
       "\n",
       "    <div>\n",
       "      \n",
       "      <progress value='488' max='488' style='width:300px; height:20px; vertical-align: middle;'></progress>\n",
       "      [488/488 06:29, Epoch 8/8]\n",
       "    </div>\n",
       "    <table border=\"1\" class=\"dataframe\">\n",
       "  <thead>\n",
       " <tr style=\"text-align: left;\">\n",
       "      <th>Epoch</th>\n",
       "      <th>Training Loss</th>\n",
       "      <th>Validation Loss</th>\n",
       "      <th>Accuracy</th>\n",
       "      <th>F1</th>\n",
       "      <th>Precision</th>\n",
       "      <th>Recall</th>\n",
       "    </tr>\n",
       "  </thead>\n",
       "  <tbody>\n",
       "    <tr>\n",
       "      <td>1</td>\n",
       "      <td>0.667300</td>\n",
       "      <td>0.652067</td>\n",
       "      <td>0.622439</td>\n",
       "      <td>0.075282</td>\n",
       "      <td>0.061983</td>\n",
       "      <td>0.095847</td>\n",
       "    </tr>\n",
       "    <tr>\n",
       "      <td>2</td>\n",
       "      <td>0.555500</td>\n",
       "      <td>0.394040</td>\n",
       "      <td>0.874488</td>\n",
       "      <td>0.505051</td>\n",
       "      <td>0.686813</td>\n",
       "      <td>0.399361</td>\n",
       "    </tr>\n",
       "    <tr>\n",
       "      <td>3</td>\n",
       "      <td>0.370400</td>\n",
       "      <td>0.339378</td>\n",
       "      <td>0.880635</td>\n",
       "      <td>0.496760</td>\n",
       "      <td>0.766667</td>\n",
       "      <td>0.367412</td>\n",
       "    </tr>\n",
       "    <tr>\n",
       "      <td>4</td>\n",
       "      <td>0.331600</td>\n",
       "      <td>0.317041</td>\n",
       "      <td>0.888320</td>\n",
       "      <td>0.488263</td>\n",
       "      <td>0.920354</td>\n",
       "      <td>0.332268</td>\n",
       "    </tr>\n",
       "    <tr>\n",
       "      <td>5</td>\n",
       "      <td>0.299700</td>\n",
       "      <td>0.291500</td>\n",
       "      <td>0.900615</td>\n",
       "      <td>0.583691</td>\n",
       "      <td>0.888889</td>\n",
       "      <td>0.434505</td>\n",
       "    </tr>\n",
       "    <tr>\n",
       "      <td>6</td>\n",
       "      <td>0.268000</td>\n",
       "      <td>0.259799</td>\n",
       "      <td>0.907275</td>\n",
       "      <td>0.623701</td>\n",
       "      <td>0.892857</td>\n",
       "      <td>0.479233</td>\n",
       "    </tr>\n",
       "    <tr>\n",
       "      <td>7</td>\n",
       "      <td>0.229600</td>\n",
       "      <td>0.230224</td>\n",
       "      <td>0.923668</td>\n",
       "      <td>0.728597</td>\n",
       "      <td>0.847458</td>\n",
       "      <td>0.638978</td>\n",
       "    </tr>\n",
       "    <tr>\n",
       "      <td>8</td>\n",
       "      <td>0.194700</td>\n",
       "      <td>0.205776</td>\n",
       "      <td>0.929303</td>\n",
       "      <td>0.737643</td>\n",
       "      <td>0.910798</td>\n",
       "      <td>0.619808</td>\n",
       "    </tr>\n",
       "  </tbody>\n",
       "</table><p>"
      ],
      "text/plain": [
       "<IPython.core.display.HTML object>"
      ]
     },
     "metadata": {},
     "output_type": "display_data"
    },
    {
     "data": {
      "application/vnd.jupyter.widget-view+json": {
       "model_id": "a4350680adb342c9a6b7d2bbe1fb902f",
       "version_major": 2,
       "version_minor": 0
      },
      "text/plain": [
       "VBox(children=(Label(value='0.008 MB of 0.008 MB uploaded\\r'), FloatProgress(value=1.0, max=1.0)))"
      ]
     },
     "metadata": {},
     "output_type": "display_data"
    },
    {
     "data": {
      "text/html": [
       "<style>\n",
       "    table.wandb td:nth-child(1) { padding: 0 10px; text-align: left ; width: auto;} td:nth-child(2) {text-align: left ; width: 100%}\n",
       "    .wandb-row { display: flex; flex-direction: row; flex-wrap: wrap; justify-content: flex-start; width: 100% }\n",
       "    .wandb-col { display: flex; flex-direction: column; flex-basis: 100%; flex: 1; padding: 10px; }\n",
       "    </style>\n",
       "<div class=\"wandb-row\"><div class=\"wandb-col\"><h3>Run history:</h3><br/><table class=\"wandb\"><tr><td>eval/accuracy</td><td>▁▇▇▇▇▇██</td></tr><tr><td>eval/f1</td><td>▁▆▅▅▆▇██</td></tr><tr><td>eval/loss</td><td>█▄▃▃▂▂▁▁</td></tr><tr><td>eval/precision</td><td>▁▆▇███▇█</td></tr><tr><td>eval/recall</td><td>▁▅▅▄▅▆██</td></tr><tr><td>eval/runtime</td><td>▁█▅▄▅▄▃▄</td></tr><tr><td>eval/samples_per_second</td><td>█▁▄▅▄▅▆▅</td></tr><tr><td>eval/steps_per_second</td><td>█▁▅▅▄▅▆▅</td></tr><tr><td>train/epoch</td><td>▁▁▂▂▃▃▄▄▅▅▆▆▇▇███</td></tr><tr><td>train/global_step</td><td>▁▁▂▂▃▃▄▄▅▅▆▆▇▇███</td></tr><tr><td>train/grad_norm</td><td>▃▃▄▂▁█▂▅</td></tr><tr><td>train/learning_rate</td><td>▁▂▃▄▅▆▇█</td></tr><tr><td>train/loss</td><td>█▆▄▃▃▂▂▁</td></tr></table><br/></div><div class=\"wandb-col\"><h3>Run summary:</h3><br/><table class=\"wandb\"><tr><td>eval/accuracy</td><td>0.9293</td></tr><tr><td>eval/f1</td><td>0.73764</td></tr><tr><td>eval/loss</td><td>0.20578</td></tr><tr><td>eval/precision</td><td>0.9108</td></tr><tr><td>eval/recall</td><td>0.61981</td></tr><tr><td>eval/runtime</td><td>2.7731</td></tr><tr><td>eval/samples_per_second</td><td>87.989</td></tr><tr><td>eval/steps_per_second</td><td>5.77</td></tr><tr><td>total_flos</td><td>2764882087544832.0</td></tr><tr><td>train/epoch</td><td>8.0</td></tr><tr><td>train/global_step</td><td>488</td></tr><tr><td>train/grad_norm</td><td>1.89042</td></tr><tr><td>train/learning_rate</td><td>1e-05</td></tr><tr><td>train/loss</td><td>0.1947</td></tr><tr><td>train_loss</td><td>0.36461</td></tr><tr><td>train_runtime</td><td>390.301</td></tr><tr><td>train_samples_per_second</td><td>19.944</td></tr><tr><td>train_steps_per_second</td><td>1.25</td></tr></table><br/></div></div>"
      ],
      "text/plain": [
       "<IPython.core.display.HTML object>"
      ]
     },
     "metadata": {},
     "output_type": "display_data"
    },
    {
     "data": {
      "text/html": [
       " View run <strong style=\"color:#cdcd00\">polished-sweep-6</strong> at: <a href='https://wandb.ai/ai-aloe/metacognitive_classifier/runs/f323tvy9' target=\"_blank\">https://wandb.ai/ai-aloe/metacognitive_classifier/runs/f323tvy9</a><br/> View project at: <a href='https://wandb.ai/ai-aloe/metacognitive_classifier' target=\"_blank\">https://wandb.ai/ai-aloe/metacognitive_classifier</a><br/>Synced 6 W&B file(s), 0 media file(s), 0 artifact file(s) and 0 other file(s)"
      ],
      "text/plain": [
       "<IPython.core.display.HTML object>"
      ]
     },
     "metadata": {},
     "output_type": "display_data"
    },
    {
     "data": {
      "text/html": [
       "Find logs at: <code>./wandb/run-20240517_210043-f323tvy9/logs</code>"
      ],
      "text/plain": [
       "<IPython.core.display.HTML object>"
      ]
     },
     "metadata": {},
     "output_type": "display_data"
    },
    {
     "name": "stderr",
     "output_type": "stream",
     "text": [
      "\u001b[34m\u001b[1mwandb\u001b[0m: Agent Starting Run: pmmg0ky3 with config:\n",
      "\u001b[34m\u001b[1mwandb\u001b[0m: \tepochs: 9\n",
      "\u001b[34m\u001b[1mwandb\u001b[0m: \tlearning_rate: 8.769156724059092e-06\n",
      "\u001b[34m\u001b[1mwandb\u001b[0m: \twarmup_steps: 500\n",
      "\u001b[34m\u001b[1mwandb\u001b[0m: \tweight_decay: 0.01\n",
      "Failed to detect the name of this notebook, you can set it manually with the WANDB_NOTEBOOK_NAME environment variable to enable code saving.\n"
     ]
    },
    {
     "data": {
      "text/html": [
       "wandb version 0.17.0 is available!  To upgrade, please run:\n",
       " $ pip install wandb --upgrade"
      ],
      "text/plain": [
       "<IPython.core.display.HTML object>"
      ]
     },
     "metadata": {},
     "output_type": "display_data"
    },
    {
     "data": {
      "text/html": [
       "Tracking run with wandb version 0.16.6"
      ],
      "text/plain": [
       "<IPython.core.display.HTML object>"
      ]
     },
     "metadata": {},
     "output_type": "display_data"
    },
    {
     "data": {
      "text/html": [
       "Run data is saved locally in <code>/home/jovyan/metacognitive-span-categorization/src/classification/wandb/run-20240517_210730-pmmg0ky3</code>"
      ],
      "text/plain": [
       "<IPython.core.display.HTML object>"
      ]
     },
     "metadata": {},
     "output_type": "display_data"
    },
    {
     "data": {
      "text/html": [
       "Syncing run <strong><a href='https://wandb.ai/ai-aloe/metacognitive_classifier/runs/pmmg0ky3' target=\"_blank\">youthful-sweep-7</a></strong> to <a href='https://wandb.ai/ai-aloe/metacognitive_classifier' target=\"_blank\">Weights & Biases</a> (<a href='https://wandb.me/run' target=\"_blank\">docs</a>)<br/>Sweep page: <a href='https://wandb.ai/ai-aloe/metacognitive_classifier/sweeps/8ellv5tx' target=\"_blank\">https://wandb.ai/ai-aloe/metacognitive_classifier/sweeps/8ellv5tx</a>"
      ],
      "text/plain": [
       "<IPython.core.display.HTML object>"
      ]
     },
     "metadata": {},
     "output_type": "display_data"
    },
    {
     "data": {
      "text/html": [
       " View project at <a href='https://wandb.ai/ai-aloe/metacognitive_classifier' target=\"_blank\">https://wandb.ai/ai-aloe/metacognitive_classifier</a>"
      ],
      "text/plain": [
       "<IPython.core.display.HTML object>"
      ]
     },
     "metadata": {},
     "output_type": "display_data"
    },
    {
     "data": {
      "text/html": [
       " View sweep at <a href='https://wandb.ai/ai-aloe/metacognitive_classifier/sweeps/8ellv5tx' target=\"_blank\">https://wandb.ai/ai-aloe/metacognitive_classifier/sweeps/8ellv5tx</a>"
      ],
      "text/plain": [
       "<IPython.core.display.HTML object>"
      ]
     },
     "metadata": {},
     "output_type": "display_data"
    },
    {
     "data": {
      "text/html": [
       " View run at <a href='https://wandb.ai/ai-aloe/metacognitive_classifier/runs/pmmg0ky3' target=\"_blank\">https://wandb.ai/ai-aloe/metacognitive_classifier/runs/pmmg0ky3</a>"
      ],
      "text/plain": [
       "<IPython.core.display.HTML object>"
      ]
     },
     "metadata": {},
     "output_type": "display_data"
    },
    {
     "name": "stderr",
     "output_type": "stream",
     "text": [
      "Some weights of DebertaV2ForSequenceClassification were not initialized from the model checkpoint at microsoft/deberta-v3-large and are newly initialized: ['classifier.bias', 'classifier.weight', 'pooler.dense.bias', 'pooler.dense.weight']\n",
      "You should probably TRAIN this model on a down-stream task to be able to use it for predictions and inference.\n",
      "\u001b[34m\u001b[1mwandb\u001b[0m: \u001b[33mWARNING\u001b[0m Config item 'learning_rate' was locked by 'sweep' (ignored update).\n",
      "\u001b[34m\u001b[1mwandb\u001b[0m: \u001b[33mWARNING\u001b[0m Config item 'weight_decay' was locked by 'sweep' (ignored update).\n",
      "\u001b[34m\u001b[1mwandb\u001b[0m: \u001b[33mWARNING\u001b[0m Config item 'warmup_steps' was locked by 'sweep' (ignored update).\n"
     ]
    },
    {
     "data": {
      "text/html": [
       "\n",
       "    <div>\n",
       "      \n",
       "      <progress value='549' max='549' style='width:300px; height:20px; vertical-align: middle;'></progress>\n",
       "      [549/549 07:19, Epoch 9/9]\n",
       "    </div>\n",
       "    <table border=\"1\" class=\"dataframe\">\n",
       "  <thead>\n",
       " <tr style=\"text-align: left;\">\n",
       "      <th>Epoch</th>\n",
       "      <th>Training Loss</th>\n",
       "      <th>Validation Loss</th>\n",
       "      <th>Accuracy</th>\n",
       "      <th>F1</th>\n",
       "      <th>Precision</th>\n",
       "      <th>Recall</th>\n",
       "    </tr>\n",
       "  </thead>\n",
       "  <tbody>\n",
       "    <tr>\n",
       "      <td>1</td>\n",
       "      <td>0.647300</td>\n",
       "      <td>0.606745</td>\n",
       "      <td>0.802766</td>\n",
       "      <td>0.455446</td>\n",
       "      <td>0.408629</td>\n",
       "      <td>0.514377</td>\n",
       "    </tr>\n",
       "    <tr>\n",
       "      <td>2</td>\n",
       "      <td>0.525500</td>\n",
       "      <td>0.413413</td>\n",
       "      <td>0.856045</td>\n",
       "      <td>0.495512</td>\n",
       "      <td>0.565574</td>\n",
       "      <td>0.440895</td>\n",
       "    </tr>\n",
       "    <tr>\n",
       "      <td>3</td>\n",
       "      <td>0.374200</td>\n",
       "      <td>0.334779</td>\n",
       "      <td>0.881660</td>\n",
       "      <td>0.507463</td>\n",
       "      <td>0.762821</td>\n",
       "      <td>0.380192</td>\n",
       "    </tr>\n",
       "    <tr>\n",
       "      <td>4</td>\n",
       "      <td>0.327100</td>\n",
       "      <td>0.311180</td>\n",
       "      <td>0.891906</td>\n",
       "      <td>0.508159</td>\n",
       "      <td>0.939655</td>\n",
       "      <td>0.348243</td>\n",
       "    </tr>\n",
       "    <tr>\n",
       "      <td>5</td>\n",
       "      <td>0.293300</td>\n",
       "      <td>0.286390</td>\n",
       "      <td>0.901639</td>\n",
       "      <td>0.582609</td>\n",
       "      <td>0.911565</td>\n",
       "      <td>0.428115</td>\n",
       "    </tr>\n",
       "    <tr>\n",
       "      <td>6</td>\n",
       "      <td>0.265600</td>\n",
       "      <td>0.270338</td>\n",
       "      <td>0.912910</td>\n",
       "      <td>0.658635</td>\n",
       "      <td>0.886486</td>\n",
       "      <td>0.523962</td>\n",
       "    </tr>\n",
       "    <tr>\n",
       "      <td>7</td>\n",
       "      <td>0.236300</td>\n",
       "      <td>0.254070</td>\n",
       "      <td>0.915984</td>\n",
       "      <td>0.696296</td>\n",
       "      <td>0.828194</td>\n",
       "      <td>0.600639</td>\n",
       "    </tr>\n",
       "    <tr>\n",
       "      <td>8</td>\n",
       "      <td>0.212900</td>\n",
       "      <td>0.224474</td>\n",
       "      <td>0.924693</td>\n",
       "      <td>0.716763</td>\n",
       "      <td>0.902913</td>\n",
       "      <td>0.594249</td>\n",
       "    </tr>\n",
       "    <tr>\n",
       "      <td>9</td>\n",
       "      <td>0.177900</td>\n",
       "      <td>0.213148</td>\n",
       "      <td>0.928279</td>\n",
       "      <td>0.746377</td>\n",
       "      <td>0.861925</td>\n",
       "      <td>0.658147</td>\n",
       "    </tr>\n",
       "  </tbody>\n",
       "</table><p>"
      ],
      "text/plain": [
       "<IPython.core.display.HTML object>"
      ]
     },
     "metadata": {},
     "output_type": "display_data"
    },
    {
     "data": {
      "application/vnd.jupyter.widget-view+json": {
       "model_id": "46e183e602064e5380956da8085e68e8",
       "version_major": 2,
       "version_minor": 0
      },
      "text/plain": [
       "VBox(children=(Label(value='0.027 MB of 0.027 MB uploaded\\r'), FloatProgress(value=1.0, max=1.0)))"
      ]
     },
     "metadata": {},
     "output_type": "display_data"
    },
    {
     "data": {
      "text/html": [
       "<style>\n",
       "    table.wandb td:nth-child(1) { padding: 0 10px; text-align: left ; width: auto;} td:nth-child(2) {text-align: left ; width: 100%}\n",
       "    .wandb-row { display: flex; flex-direction: row; flex-wrap: wrap; justify-content: flex-start; width: 100% }\n",
       "    .wandb-col { display: flex; flex-direction: column; flex-basis: 100%; flex: 1; padding: 10px; }\n",
       "    </style>\n",
       "<div class=\"wandb-row\"><div class=\"wandb-col\"><h3>Run history:</h3><br/><table class=\"wandb\"><tr><td>eval/accuracy</td><td>▁▄▅▆▇▇▇██</td></tr><tr><td>eval/f1</td><td>▁▂▂▂▄▆▇▇█</td></tr><tr><td>eval/loss</td><td>█▅▃▃▂▂▂▁▁</td></tr><tr><td>eval/precision</td><td>▁▃▆██▇▇█▇</td></tr><tr><td>eval/recall</td><td>▅▃▂▁▃▅▇▇█</td></tr><tr><td>eval/runtime</td><td>▁▅▅▄▆█▅▄▄</td></tr><tr><td>eval/samples_per_second</td><td>█▄▄▅▃▁▄▅▅</td></tr><tr><td>eval/steps_per_second</td><td>█▄▄▄▃▁▄▄▅</td></tr><tr><td>train/epoch</td><td>▁▁▂▂▃▃▄▄▅▅▅▅▆▆▇▇███</td></tr><tr><td>train/global_step</td><td>▁▁▂▂▃▃▄▄▅▅▅▅▆▆▇▇███</td></tr><tr><td>train/grad_norm</td><td>▂▁▂▃▂▇▂█▂</td></tr><tr><td>train/learning_rate</td><td>▂▃▄▅▅▆▇█▁</td></tr><tr><td>train/loss</td><td>█▆▄▃▃▂▂▂▁</td></tr></table><br/></div><div class=\"wandb-col\"><h3>Run summary:</h3><br/><table class=\"wandb\"><tr><td>eval/accuracy</td><td>0.92828</td></tr><tr><td>eval/f1</td><td>0.74638</td></tr><tr><td>eval/loss</td><td>0.21315</td></tr><tr><td>eval/precision</td><td>0.86192</td></tr><tr><td>eval/recall</td><td>0.65815</td></tr><tr><td>eval/runtime</td><td>2.77</td></tr><tr><td>eval/samples_per_second</td><td>88.088</td></tr><tr><td>eval/steps_per_second</td><td>5.776</td></tr><tr><td>total_flos</td><td>3104813238276096.0</td></tr><tr><td>train/epoch</td><td>9.0</td></tr><tr><td>train/global_step</td><td>549</td></tr><tr><td>train/grad_norm</td><td>1.83799</td></tr><tr><td>train/learning_rate</td><td>0.0</td></tr><tr><td>train/loss</td><td>0.1779</td></tr><tr><td>train_loss</td><td>0.34001</td></tr><tr><td>train_runtime</td><td>440.0159</td></tr><tr><td>train_samples_per_second</td><td>19.902</td></tr><tr><td>train_steps_per_second</td><td>1.248</td></tr></table><br/></div></div>"
      ],
      "text/plain": [
       "<IPython.core.display.HTML object>"
      ]
     },
     "metadata": {},
     "output_type": "display_data"
    },
    {
     "data": {
      "text/html": [
       " View run <strong style=\"color:#cdcd00\">youthful-sweep-7</strong> at: <a href='https://wandb.ai/ai-aloe/metacognitive_classifier/runs/pmmg0ky3' target=\"_blank\">https://wandb.ai/ai-aloe/metacognitive_classifier/runs/pmmg0ky3</a><br/> View project at: <a href='https://wandb.ai/ai-aloe/metacognitive_classifier' target=\"_blank\">https://wandb.ai/ai-aloe/metacognitive_classifier</a><br/>Synced 6 W&B file(s), 0 media file(s), 0 artifact file(s) and 0 other file(s)"
      ],
      "text/plain": [
       "<IPython.core.display.HTML object>"
      ]
     },
     "metadata": {},
     "output_type": "display_data"
    },
    {
     "data": {
      "text/html": [
       "Find logs at: <code>./wandb/run-20240517_210730-pmmg0ky3/logs</code>"
      ],
      "text/plain": [
       "<IPython.core.display.HTML object>"
      ]
     },
     "metadata": {},
     "output_type": "display_data"
    },
    {
     "name": "stderr",
     "output_type": "stream",
     "text": [
      "\u001b[34m\u001b[1mwandb\u001b[0m: Agent Starting Run: n24i4tyi with config:\n",
      "\u001b[34m\u001b[1mwandb\u001b[0m: \tepochs: 9\n",
      "\u001b[34m\u001b[1mwandb\u001b[0m: \tlearning_rate: 8.775835474193544e-06\n",
      "\u001b[34m\u001b[1mwandb\u001b[0m: \twarmup_steps: 100\n",
      "\u001b[34m\u001b[1mwandb\u001b[0m: \tweight_decay: 0.01\n",
      "Failed to detect the name of this notebook, you can set it manually with the WANDB_NOTEBOOK_NAME environment variable to enable code saving.\n"
     ]
    },
    {
     "data": {
      "text/html": [
       "wandb version 0.17.0 is available!  To upgrade, please run:\n",
       " $ pip install wandb --upgrade"
      ],
      "text/plain": [
       "<IPython.core.display.HTML object>"
      ]
     },
     "metadata": {},
     "output_type": "display_data"
    },
    {
     "data": {
      "text/html": [
       "Tracking run with wandb version 0.16.6"
      ],
      "text/plain": [
       "<IPython.core.display.HTML object>"
      ]
     },
     "metadata": {},
     "output_type": "display_data"
    },
    {
     "data": {
      "text/html": [
       "Run data is saved locally in <code>/home/jovyan/metacognitive-span-categorization/src/classification/wandb/run-20240517_211505-n24i4tyi</code>"
      ],
      "text/plain": [
       "<IPython.core.display.HTML object>"
      ]
     },
     "metadata": {},
     "output_type": "display_data"
    },
    {
     "data": {
      "text/html": [
       "Syncing run <strong><a href='https://wandb.ai/ai-aloe/metacognitive_classifier/runs/n24i4tyi' target=\"_blank\">wobbly-sweep-8</a></strong> to <a href='https://wandb.ai/ai-aloe/metacognitive_classifier' target=\"_blank\">Weights & Biases</a> (<a href='https://wandb.me/run' target=\"_blank\">docs</a>)<br/>Sweep page: <a href='https://wandb.ai/ai-aloe/metacognitive_classifier/sweeps/8ellv5tx' target=\"_blank\">https://wandb.ai/ai-aloe/metacognitive_classifier/sweeps/8ellv5tx</a>"
      ],
      "text/plain": [
       "<IPython.core.display.HTML object>"
      ]
     },
     "metadata": {},
     "output_type": "display_data"
    },
    {
     "data": {
      "text/html": [
       " View project at <a href='https://wandb.ai/ai-aloe/metacognitive_classifier' target=\"_blank\">https://wandb.ai/ai-aloe/metacognitive_classifier</a>"
      ],
      "text/plain": [
       "<IPython.core.display.HTML object>"
      ]
     },
     "metadata": {},
     "output_type": "display_data"
    },
    {
     "data": {
      "text/html": [
       " View sweep at <a href='https://wandb.ai/ai-aloe/metacognitive_classifier/sweeps/8ellv5tx' target=\"_blank\">https://wandb.ai/ai-aloe/metacognitive_classifier/sweeps/8ellv5tx</a>"
      ],
      "text/plain": [
       "<IPython.core.display.HTML object>"
      ]
     },
     "metadata": {},
     "output_type": "display_data"
    },
    {
     "data": {
      "text/html": [
       " View run at <a href='https://wandb.ai/ai-aloe/metacognitive_classifier/runs/n24i4tyi' target=\"_blank\">https://wandb.ai/ai-aloe/metacognitive_classifier/runs/n24i4tyi</a>"
      ],
      "text/plain": [
       "<IPython.core.display.HTML object>"
      ]
     },
     "metadata": {},
     "output_type": "display_data"
    },
    {
     "name": "stderr",
     "output_type": "stream",
     "text": [
      "Some weights of DebertaV2ForSequenceClassification were not initialized from the model checkpoint at microsoft/deberta-v3-large and are newly initialized: ['classifier.bias', 'classifier.weight', 'pooler.dense.bias', 'pooler.dense.weight']\n",
      "You should probably TRAIN this model on a down-stream task to be able to use it for predictions and inference.\n",
      "\u001b[34m\u001b[1mwandb\u001b[0m: \u001b[33mWARNING\u001b[0m Config item 'learning_rate' was locked by 'sweep' (ignored update).\n",
      "\u001b[34m\u001b[1mwandb\u001b[0m: \u001b[33mWARNING\u001b[0m Config item 'weight_decay' was locked by 'sweep' (ignored update).\n",
      "\u001b[34m\u001b[1mwandb\u001b[0m: \u001b[33mWARNING\u001b[0m Config item 'warmup_steps' was locked by 'sweep' (ignored update).\n"
     ]
    },
    {
     "data": {
      "text/html": [
       "\n",
       "    <div>\n",
       "      \n",
       "      <progress value='549' max='549' style='width:300px; height:20px; vertical-align: middle;'></progress>\n",
       "      [549/549 07:18, Epoch 9/9]\n",
       "    </div>\n",
       "    <table border=\"1\" class=\"dataframe\">\n",
       "  <thead>\n",
       " <tr style=\"text-align: left;\">\n",
       "      <th>Epoch</th>\n",
       "      <th>Training Loss</th>\n",
       "      <th>Validation Loss</th>\n",
       "      <th>Accuracy</th>\n",
       "      <th>F1</th>\n",
       "      <th>Precision</th>\n",
       "      <th>Recall</th>\n",
       "    </tr>\n",
       "  </thead>\n",
       "  <tbody>\n",
       "    <tr>\n",
       "      <td>1</td>\n",
       "      <td>0.601700</td>\n",
       "      <td>0.423137</td>\n",
       "      <td>0.868340</td>\n",
       "      <td>0.506718</td>\n",
       "      <td>0.634615</td>\n",
       "      <td>0.421725</td>\n",
       "    </tr>\n",
       "    <tr>\n",
       "      <td>2</td>\n",
       "      <td>0.362400</td>\n",
       "      <td>0.330135</td>\n",
       "      <td>0.882172</td>\n",
       "      <td>0.465116</td>\n",
       "      <td>0.854701</td>\n",
       "      <td>0.319489</td>\n",
       "    </tr>\n",
       "    <tr>\n",
       "      <td>3</td>\n",
       "      <td>0.306900</td>\n",
       "      <td>0.300151</td>\n",
       "      <td>0.892930</td>\n",
       "      <td>0.576065</td>\n",
       "      <td>0.788889</td>\n",
       "      <td>0.453674</td>\n",
       "    </tr>\n",
       "    <tr>\n",
       "      <td>4</td>\n",
       "      <td>0.273400</td>\n",
       "      <td>0.273684</td>\n",
       "      <td>0.900102</td>\n",
       "      <td>0.584222</td>\n",
       "      <td>0.878205</td>\n",
       "      <td>0.437700</td>\n",
       "    </tr>\n",
       "    <tr>\n",
       "      <td>5</td>\n",
       "      <td>0.242000</td>\n",
       "      <td>0.250643</td>\n",
       "      <td>0.914447</td>\n",
       "      <td>0.670611</td>\n",
       "      <td>0.876289</td>\n",
       "      <td>0.543131</td>\n",
       "    </tr>\n",
       "    <tr>\n",
       "      <td>6</td>\n",
       "      <td>0.218300</td>\n",
       "      <td>0.244185</td>\n",
       "      <td>0.913422</td>\n",
       "      <td>0.675624</td>\n",
       "      <td>0.846154</td>\n",
       "      <td>0.562300</td>\n",
       "    </tr>\n",
       "    <tr>\n",
       "      <td>7</td>\n",
       "      <td>0.200000</td>\n",
       "      <td>0.239216</td>\n",
       "      <td>0.913934</td>\n",
       "      <td>0.694545</td>\n",
       "      <td>0.805907</td>\n",
       "      <td>0.610224</td>\n",
       "    </tr>\n",
       "    <tr>\n",
       "      <td>8</td>\n",
       "      <td>0.185600</td>\n",
       "      <td>0.225085</td>\n",
       "      <td>0.923156</td>\n",
       "      <td>0.723247</td>\n",
       "      <td>0.855895</td>\n",
       "      <td>0.626198</td>\n",
       "    </tr>\n",
       "    <tr>\n",
       "      <td>9</td>\n",
       "      <td>0.176000</td>\n",
       "      <td>0.226587</td>\n",
       "      <td>0.923156</td>\n",
       "      <td>0.726277</td>\n",
       "      <td>0.846809</td>\n",
       "      <td>0.635783</td>\n",
       "    </tr>\n",
       "  </tbody>\n",
       "</table><p>"
      ],
      "text/plain": [
       "<IPython.core.display.HTML object>"
      ]
     },
     "metadata": {},
     "output_type": "display_data"
    },
    {
     "data": {
      "application/vnd.jupyter.widget-view+json": {
       "model_id": "2def2cfcf74e4348a076f24371914b23",
       "version_major": 2,
       "version_minor": 0
      },
      "text/plain": [
       "VBox(children=(Label(value='0.008 MB of 0.008 MB uploaded\\r'), FloatProgress(value=1.0, max=1.0)))"
      ]
     },
     "metadata": {},
     "output_type": "display_data"
    },
    {
     "data": {
      "text/html": [
       "<style>\n",
       "    table.wandb td:nth-child(1) { padding: 0 10px; text-align: left ; width: auto;} td:nth-child(2) {text-align: left ; width: 100%}\n",
       "    .wandb-row { display: flex; flex-direction: row; flex-wrap: wrap; justify-content: flex-start; width: 100% }\n",
       "    .wandb-col { display: flex; flex-direction: column; flex-basis: 100%; flex: 1; padding: 10px; }\n",
       "    </style>\n",
       "<div class=\"wandb-row\"><div class=\"wandb-col\"><h3>Run history:</h3><br/><table class=\"wandb\"><tr><td>eval/accuracy</td><td>▁▃▄▅▇▇▇██</td></tr><tr><td>eval/f1</td><td>▂▁▄▄▇▇▇██</td></tr><tr><td>eval/loss</td><td>█▅▄▃▂▂▁▁▁</td></tr><tr><td>eval/precision</td><td>▁▇▅██▇▆▇▇</td></tr><tr><td>eval/recall</td><td>▃▁▄▄▆▆▇██</td></tr><tr><td>eval/runtime</td><td>▁▇▅▄▄▅▄▄█</td></tr><tr><td>eval/samples_per_second</td><td>█▂▄▅▅▄▅▅▁</td></tr><tr><td>eval/steps_per_second</td><td>█▂▄▅▅▄▅▅▁</td></tr><tr><td>train/epoch</td><td>▁▁▂▂▃▃▄▄▅▅▅▅▆▆▇▇███</td></tr><tr><td>train/global_step</td><td>▁▁▂▂▃▃▄▄▅▅▅▅▆▆▇▇███</td></tr><tr><td>train/grad_norm</td><td>▃▁▄▃▃█▅▆▆</td></tr><tr><td>train/learning_rate</td><td>▅█▇▆▅▄▃▂▁</td></tr><tr><td>train/loss</td><td>█▄▃▃▂▂▁▁▁</td></tr></table><br/></div><div class=\"wandb-col\"><h3>Run summary:</h3><br/><table class=\"wandb\"><tr><td>eval/accuracy</td><td>0.92316</td></tr><tr><td>eval/f1</td><td>0.72628</td></tr><tr><td>eval/loss</td><td>0.22659</td></tr><tr><td>eval/precision</td><td>0.84681</td></tr><tr><td>eval/recall</td><td>0.63578</td></tr><tr><td>eval/runtime</td><td>2.786</td></tr><tr><td>eval/samples_per_second</td><td>87.582</td></tr><tr><td>eval/steps_per_second</td><td>5.743</td></tr><tr><td>total_flos</td><td>3104813238276096.0</td></tr><tr><td>train/epoch</td><td>9.0</td></tr><tr><td>train/global_step</td><td>549</td></tr><tr><td>train/grad_norm</td><td>2.07366</td></tr><tr><td>train/learning_rate</td><td>0.0</td></tr><tr><td>train/loss</td><td>0.176</td></tr><tr><td>train_loss</td><td>0.28513</td></tr><tr><td>train_runtime</td><td>439.5926</td></tr><tr><td>train_samples_per_second</td><td>19.921</td></tr><tr><td>train_steps_per_second</td><td>1.249</td></tr></table><br/></div></div>"
      ],
      "text/plain": [
       "<IPython.core.display.HTML object>"
      ]
     },
     "metadata": {},
     "output_type": "display_data"
    },
    {
     "data": {
      "text/html": [
       " View run <strong style=\"color:#cdcd00\">wobbly-sweep-8</strong> at: <a href='https://wandb.ai/ai-aloe/metacognitive_classifier/runs/n24i4tyi' target=\"_blank\">https://wandb.ai/ai-aloe/metacognitive_classifier/runs/n24i4tyi</a><br/> View project at: <a href='https://wandb.ai/ai-aloe/metacognitive_classifier' target=\"_blank\">https://wandb.ai/ai-aloe/metacognitive_classifier</a><br/>Synced 6 W&B file(s), 0 media file(s), 0 artifact file(s) and 0 other file(s)"
      ],
      "text/plain": [
       "<IPython.core.display.HTML object>"
      ]
     },
     "metadata": {},
     "output_type": "display_data"
    },
    {
     "data": {
      "text/html": [
       "Find logs at: <code>./wandb/run-20240517_211505-n24i4tyi/logs</code>"
      ],
      "text/plain": [
       "<IPython.core.display.HTML object>"
      ]
     },
     "metadata": {},
     "output_type": "display_data"
    },
    {
     "name": "stderr",
     "output_type": "stream",
     "text": [
      "\u001b[34m\u001b[1mwandb\u001b[0m: Agent Starting Run: 5gkztf3c with config:\n",
      "\u001b[34m\u001b[1mwandb\u001b[0m: \tepochs: 9\n",
      "\u001b[34m\u001b[1mwandb\u001b[0m: \tlearning_rate: 9.809754664356172e-06\n",
      "\u001b[34m\u001b[1mwandb\u001b[0m: \twarmup_steps: 500\n",
      "\u001b[34m\u001b[1mwandb\u001b[0m: \tweight_decay: 0.01\n",
      "Failed to detect the name of this notebook, you can set it manually with the WANDB_NOTEBOOK_NAME environment variable to enable code saving.\n"
     ]
    },
    {
     "data": {
      "text/html": [
       "wandb version 0.17.0 is available!  To upgrade, please run:\n",
       " $ pip install wandb --upgrade"
      ],
      "text/plain": [
       "<IPython.core.display.HTML object>"
      ]
     },
     "metadata": {},
     "output_type": "display_data"
    },
    {
     "data": {
      "text/html": [
       "Tracking run with wandb version 0.16.6"
      ],
      "text/plain": [
       "<IPython.core.display.HTML object>"
      ]
     },
     "metadata": {},
     "output_type": "display_data"
    },
    {
     "data": {
      "text/html": [
       "Run data is saved locally in <code>/home/jovyan/metacognitive-span-categorization/src/classification/wandb/run-20240517_212237-5gkztf3c</code>"
      ],
      "text/plain": [
       "<IPython.core.display.HTML object>"
      ]
     },
     "metadata": {},
     "output_type": "display_data"
    },
    {
     "data": {
      "text/html": [
       "Syncing run <strong><a href='https://wandb.ai/ai-aloe/metacognitive_classifier/runs/5gkztf3c' target=\"_blank\">comic-sweep-9</a></strong> to <a href='https://wandb.ai/ai-aloe/metacognitive_classifier' target=\"_blank\">Weights & Biases</a> (<a href='https://wandb.me/run' target=\"_blank\">docs</a>)<br/>Sweep page: <a href='https://wandb.ai/ai-aloe/metacognitive_classifier/sweeps/8ellv5tx' target=\"_blank\">https://wandb.ai/ai-aloe/metacognitive_classifier/sweeps/8ellv5tx</a>"
      ],
      "text/plain": [
       "<IPython.core.display.HTML object>"
      ]
     },
     "metadata": {},
     "output_type": "display_data"
    },
    {
     "data": {
      "text/html": [
       " View project at <a href='https://wandb.ai/ai-aloe/metacognitive_classifier' target=\"_blank\">https://wandb.ai/ai-aloe/metacognitive_classifier</a>"
      ],
      "text/plain": [
       "<IPython.core.display.HTML object>"
      ]
     },
     "metadata": {},
     "output_type": "display_data"
    },
    {
     "data": {
      "text/html": [
       " View sweep at <a href='https://wandb.ai/ai-aloe/metacognitive_classifier/sweeps/8ellv5tx' target=\"_blank\">https://wandb.ai/ai-aloe/metacognitive_classifier/sweeps/8ellv5tx</a>"
      ],
      "text/plain": [
       "<IPython.core.display.HTML object>"
      ]
     },
     "metadata": {},
     "output_type": "display_data"
    },
    {
     "data": {
      "text/html": [
       " View run at <a href='https://wandb.ai/ai-aloe/metacognitive_classifier/runs/5gkztf3c' target=\"_blank\">https://wandb.ai/ai-aloe/metacognitive_classifier/runs/5gkztf3c</a>"
      ],
      "text/plain": [
       "<IPython.core.display.HTML object>"
      ]
     },
     "metadata": {},
     "output_type": "display_data"
    },
    {
     "name": "stderr",
     "output_type": "stream",
     "text": [
      "Some weights of DebertaV2ForSequenceClassification were not initialized from the model checkpoint at microsoft/deberta-v3-large and are newly initialized: ['classifier.bias', 'classifier.weight', 'pooler.dense.bias', 'pooler.dense.weight']\n",
      "You should probably TRAIN this model on a down-stream task to be able to use it for predictions and inference.\n",
      "\u001b[34m\u001b[1mwandb\u001b[0m: \u001b[33mWARNING\u001b[0m Config item 'learning_rate' was locked by 'sweep' (ignored update).\n",
      "\u001b[34m\u001b[1mwandb\u001b[0m: \u001b[33mWARNING\u001b[0m Config item 'weight_decay' was locked by 'sweep' (ignored update).\n",
      "\u001b[34m\u001b[1mwandb\u001b[0m: \u001b[33mWARNING\u001b[0m Config item 'warmup_steps' was locked by 'sweep' (ignored update).\n"
     ]
    },
    {
     "data": {
      "text/html": [
       "\n",
       "    <div>\n",
       "      \n",
       "      <progress value='525' max='549' style='width:300px; height:20px; vertical-align: middle;'></progress>\n",
       "      [525/549 06:51 < 00:18, 1.27 it/s, Epoch 8.59/9]\n",
       "    </div>\n",
       "    <table border=\"1\" class=\"dataframe\">\n",
       "  <thead>\n",
       " <tr style=\"text-align: left;\">\n",
       "      <th>Epoch</th>\n",
       "      <th>Training Loss</th>\n",
       "      <th>Validation Loss</th>\n",
       "      <th>Accuracy</th>\n",
       "      <th>F1</th>\n",
       "      <th>Precision</th>\n",
       "      <th>Recall</th>\n",
       "    </tr>\n",
       "  </thead>\n",
       "  <tbody>\n",
       "    <tr>\n",
       "      <td>1</td>\n",
       "      <td>0.644900</td>\n",
       "      <td>0.628419</td>\n",
       "      <td>0.726947</td>\n",
       "      <td>0.043088</td>\n",
       "      <td>0.049180</td>\n",
       "      <td>0.038339</td>\n",
       "    </tr>\n",
       "    <tr>\n",
       "      <td>2</td>\n",
       "      <td>0.542800</td>\n",
       "      <td>0.391648</td>\n",
       "      <td>0.873463</td>\n",
       "      <td>0.514735</td>\n",
       "      <td>0.668367</td>\n",
       "      <td>0.418530</td>\n",
       "    </tr>\n",
       "    <tr>\n",
       "      <td>3</td>\n",
       "      <td>0.364800</td>\n",
       "      <td>0.336325</td>\n",
       "      <td>0.877561</td>\n",
       "      <td>0.488223</td>\n",
       "      <td>0.740260</td>\n",
       "      <td>0.364217</td>\n",
       "    </tr>\n",
       "    <tr>\n",
       "      <td>4</td>\n",
       "      <td>0.320500</td>\n",
       "      <td>0.298889</td>\n",
       "      <td>0.895492</td>\n",
       "      <td>0.546667</td>\n",
       "      <td>0.897810</td>\n",
       "      <td>0.392971</td>\n",
       "    </tr>\n",
       "    <tr>\n",
       "      <td>5</td>\n",
       "      <td>0.280800</td>\n",
       "      <td>0.277832</td>\n",
       "      <td>0.904713</td>\n",
       "      <td>0.600858</td>\n",
       "      <td>0.915033</td>\n",
       "      <td>0.447284</td>\n",
       "    </tr>\n",
       "    <tr>\n",
       "      <td>6</td>\n",
       "      <td>0.247000</td>\n",
       "      <td>0.258068</td>\n",
       "      <td>0.913422</td>\n",
       "      <td>0.676864</td>\n",
       "      <td>0.842857</td>\n",
       "      <td>0.565495</td>\n",
       "    </tr>\n",
       "    <tr>\n",
       "      <td>7</td>\n",
       "      <td>0.218300</td>\n",
       "      <td>0.238489</td>\n",
       "      <td>0.918033</td>\n",
       "      <td>0.708029</td>\n",
       "      <td>0.825532</td>\n",
       "      <td>0.619808</td>\n",
       "    </tr>\n",
       "    <tr>\n",
       "      <td>8</td>\n",
       "      <td>0.183000</td>\n",
       "      <td>0.205925</td>\n",
       "      <td>0.925717</td>\n",
       "      <td>0.733945</td>\n",
       "      <td>0.862069</td>\n",
       "      <td>0.638978</td>\n",
       "    </tr>\n",
       "  </tbody>\n",
       "</table><p>"
      ],
      "text/plain": [
       "<IPython.core.display.HTML object>"
      ]
     },
     "metadata": {},
     "output_type": "display_data"
    },
    {
     "name": "stderr",
     "output_type": "stream",
     "text": [
      "\u001b[34m\u001b[1mwandb\u001b[0m: Sweep Agent: Waiting for job.\n",
      "\u001b[34m\u001b[1mwandb\u001b[0m: Job received.\n",
      "\u001b[34m\u001b[1mwandb\u001b[0m: Agent Starting Run: cmta4fs4 with config:\n",
      "\u001b[34m\u001b[1mwandb\u001b[0m: \tepochs: 10\n",
      "\u001b[34m\u001b[1mwandb\u001b[0m: \tlearning_rate: 9.946303722432942e-06\n",
      "\u001b[34m\u001b[1mwandb\u001b[0m: \twarmup_steps: 500\n",
      "\u001b[34m\u001b[1mwandb\u001b[0m: \tweight_decay: 0.01\n",
      "Failed to detect the name of this notebook, you can set it manually with the WANDB_NOTEBOOK_NAME environment variable to enable code saving.\n"
     ]
    },
    {
     "data": {
      "text/html": [
       "wandb version 0.17.0 is available!  To upgrade, please run:\n",
       " $ pip install wandb --upgrade"
      ],
      "text/plain": [
       "<IPython.core.display.HTML object>"
      ]
     },
     "metadata": {},
     "output_type": "display_data"
    },
    {
     "data": {
      "text/html": [
       "Tracking run with wandb version 0.16.6"
      ],
      "text/plain": [
       "<IPython.core.display.HTML object>"
      ]
     },
     "metadata": {},
     "output_type": "display_data"
    },
    {
     "data": {
      "text/html": [
       "Run data is saved locally in <code>/home/jovyan/metacognitive-span-categorization/src/classification/wandb/run-20240517_213019-cmta4fs4</code>"
      ],
      "text/plain": [
       "<IPython.core.display.HTML object>"
      ]
     },
     "metadata": {},
     "output_type": "display_data"
    },
    {
     "data": {
      "text/html": [
       "Syncing run <strong><a href='https://wandb.ai/ai-aloe/metacognitive_classifier/runs/cmta4fs4' target=\"_blank\">hopeful-sweep-10</a></strong> to <a href='https://wandb.ai/ai-aloe/metacognitive_classifier' target=\"_blank\">Weights & Biases</a> (<a href='https://wandb.me/run' target=\"_blank\">docs</a>)<br/>Sweep page: <a href='https://wandb.ai/ai-aloe/metacognitive_classifier/sweeps/8ellv5tx' target=\"_blank\">https://wandb.ai/ai-aloe/metacognitive_classifier/sweeps/8ellv5tx</a>"
      ],
      "text/plain": [
       "<IPython.core.display.HTML object>"
      ]
     },
     "metadata": {},
     "output_type": "display_data"
    },
    {
     "data": {
      "text/html": [
       " View project at <a href='https://wandb.ai/ai-aloe/metacognitive_classifier' target=\"_blank\">https://wandb.ai/ai-aloe/metacognitive_classifier</a>"
      ],
      "text/plain": [
       "<IPython.core.display.HTML object>"
      ]
     },
     "metadata": {},
     "output_type": "display_data"
    },
    {
     "data": {
      "text/html": [
       " View sweep at <a href='https://wandb.ai/ai-aloe/metacognitive_classifier/sweeps/8ellv5tx' target=\"_blank\">https://wandb.ai/ai-aloe/metacognitive_classifier/sweeps/8ellv5tx</a>"
      ],
      "text/plain": [
       "<IPython.core.display.HTML object>"
      ]
     },
     "metadata": {},
     "output_type": "display_data"
    },
    {
     "data": {
      "text/html": [
       " View run at <a href='https://wandb.ai/ai-aloe/metacognitive_classifier/runs/cmta4fs4' target=\"_blank\">https://wandb.ai/ai-aloe/metacognitive_classifier/runs/cmta4fs4</a>"
      ],
      "text/plain": [
       "<IPython.core.display.HTML object>"
      ]
     },
     "metadata": {},
     "output_type": "display_data"
    },
    {
     "name": "stderr",
     "output_type": "stream",
     "text": [
      "Some weights of DebertaV2ForSequenceClassification were not initialized from the model checkpoint at microsoft/deberta-v3-large and are newly initialized: ['classifier.bias', 'classifier.weight', 'pooler.dense.bias', 'pooler.dense.weight']\n",
      "You should probably TRAIN this model on a down-stream task to be able to use it for predictions and inference.\n",
      "\u001b[34m\u001b[1mwandb\u001b[0m: \u001b[33mWARNING\u001b[0m Config item 'learning_rate' was locked by 'sweep' (ignored update).\n",
      "\u001b[34m\u001b[1mwandb\u001b[0m: \u001b[33mWARNING\u001b[0m Config item 'weight_decay' was locked by 'sweep' (ignored update).\n",
      "\u001b[34m\u001b[1mwandb\u001b[0m: \u001b[33mWARNING\u001b[0m Config item 'warmup_steps' was locked by 'sweep' (ignored update).\n"
     ]
    },
    {
     "data": {
      "text/html": [
       "\n",
       "    <div>\n",
       "      \n",
       "      <progress value='610' max='610' style='width:300px; height:20px; vertical-align: middle;'></progress>\n",
       "      [610/610 08:08, Epoch 10/10]\n",
       "    </div>\n",
       "    <table border=\"1\" class=\"dataframe\">\n",
       "  <thead>\n",
       " <tr style=\"text-align: left;\">\n",
       "      <th>Epoch</th>\n",
       "      <th>Training Loss</th>\n",
       "      <th>Validation Loss</th>\n",
       "      <th>Accuracy</th>\n",
       "      <th>F1</th>\n",
       "      <th>Precision</th>\n",
       "      <th>Recall</th>\n",
       "    </tr>\n",
       "  </thead>\n",
       "  <tbody>\n",
       "    <tr>\n",
       "      <td>1</td>\n",
       "      <td>0.644800</td>\n",
       "      <td>0.628113</td>\n",
       "      <td>0.726947</td>\n",
       "      <td>0.043088</td>\n",
       "      <td>0.049180</td>\n",
       "      <td>0.038339</td>\n",
       "    </tr>\n",
       "    <tr>\n",
       "      <td>2</td>\n",
       "      <td>0.541200</td>\n",
       "      <td>0.390291</td>\n",
       "      <td>0.872439</td>\n",
       "      <td>0.516505</td>\n",
       "      <td>0.658416</td>\n",
       "      <td>0.424920</td>\n",
       "    </tr>\n",
       "    <tr>\n",
       "      <td>3</td>\n",
       "      <td>0.364300</td>\n",
       "      <td>0.336299</td>\n",
       "      <td>0.877561</td>\n",
       "      <td>0.490405</td>\n",
       "      <td>0.737179</td>\n",
       "      <td>0.367412</td>\n",
       "    </tr>\n",
       "    <tr>\n",
       "      <td>4</td>\n",
       "      <td>0.320000</td>\n",
       "      <td>0.297989</td>\n",
       "      <td>0.897541</td>\n",
       "      <td>0.551570</td>\n",
       "      <td>0.924812</td>\n",
       "      <td>0.392971</td>\n",
       "    </tr>\n",
       "    <tr>\n",
       "      <td>5</td>\n",
       "      <td>0.279500</td>\n",
       "      <td>0.277218</td>\n",
       "      <td>0.904713</td>\n",
       "      <td>0.600858</td>\n",
       "      <td>0.915033</td>\n",
       "      <td>0.447284</td>\n",
       "    </tr>\n",
       "    <tr>\n",
       "      <td>6</td>\n",
       "      <td>0.244800</td>\n",
       "      <td>0.255414</td>\n",
       "      <td>0.915984</td>\n",
       "      <td>0.697417</td>\n",
       "      <td>0.825328</td>\n",
       "      <td>0.603834</td>\n",
       "    </tr>\n",
       "    <tr>\n",
       "      <td>7</td>\n",
       "      <td>0.216900</td>\n",
       "      <td>0.235942</td>\n",
       "      <td>0.915984</td>\n",
       "      <td>0.705036</td>\n",
       "      <td>0.806584</td>\n",
       "      <td>0.626198</td>\n",
       "    </tr>\n",
       "    <tr>\n",
       "      <td>8</td>\n",
       "      <td>0.180900</td>\n",
       "      <td>0.201734</td>\n",
       "      <td>0.928279</td>\n",
       "      <td>0.735849</td>\n",
       "      <td>0.898618</td>\n",
       "      <td>0.623003</td>\n",
       "    </tr>\n",
       "    <tr>\n",
       "      <td>9</td>\n",
       "      <td>0.142000</td>\n",
       "      <td>0.184074</td>\n",
       "      <td>0.941086</td>\n",
       "      <td>0.807370</td>\n",
       "      <td>0.848592</td>\n",
       "      <td>0.769968</td>\n",
       "    </tr>\n",
       "    <tr>\n",
       "      <td>10</td>\n",
       "      <td>0.112000</td>\n",
       "      <td>0.163717</td>\n",
       "      <td>0.948770</td>\n",
       "      <td>0.830508</td>\n",
       "      <td>0.884477</td>\n",
       "      <td>0.782748</td>\n",
       "    </tr>\n",
       "  </tbody>\n",
       "</table><p>"
      ],
      "text/plain": [
       "<IPython.core.display.HTML object>"
      ]
     },
     "metadata": {},
     "output_type": "display_data"
    },
    {
     "data": {
      "application/vnd.jupyter.widget-view+json": {
       "model_id": "",
       "version_major": 2,
       "version_minor": 0
      },
      "text/plain": [
       "VBox(children=(Label(value='0.008 MB of 0.008 MB uploaded\\r'), FloatProgress(value=1.0, max=1.0)))"
      ]
     },
     "metadata": {},
     "output_type": "display_data"
    },
    {
     "data": {
      "text/html": [
       "<style>\n",
       "    table.wandb td:nth-child(1) { padding: 0 10px; text-align: left ; width: auto;} td:nth-child(2) {text-align: left ; width: 100%}\n",
       "    .wandb-row { display: flex; flex-direction: row; flex-wrap: wrap; justify-content: flex-start; width: 100% }\n",
       "    .wandb-col { display: flex; flex-direction: column; flex-basis: 100%; flex: 1; padding: 10px; }\n",
       "    </style>\n",
       "<div class=\"wandb-row\"><div class=\"wandb-col\"><h3>Run history:</h3><br/><table class=\"wandb\"><tr><td>eval/accuracy</td><td>▁▆▆▆▇▇▇▇██</td></tr><tr><td>eval/f1</td><td>▁▅▅▆▆▇▇▇██</td></tr><tr><td>eval/loss</td><td>█▄▄▃▃▂▂▂▁▁</td></tr><tr><td>eval/precision</td><td>▁▆▇██▇▇█▇█</td></tr><tr><td>eval/recall</td><td>▁▅▄▄▅▆▇▆██</td></tr><tr><td>eval/runtime</td><td>▆▃▁▂█▂▁▅▁▃</td></tr><tr><td>eval/samples_per_second</td><td>▃▆█▇▁▇█▄█▆</td></tr><tr><td>eval/steps_per_second</td><td>▃▆▇▆▁▇█▄█▆</td></tr><tr><td>train/epoch</td><td>▁▁▂▂▃▃▃▃▄▄▅▅▆▆▆▆▇▇███</td></tr><tr><td>train/global_step</td><td>▁▁▂▂▃▃▃▃▄▄▅▅▆▆▆▆▇▇███</td></tr><tr><td>train/grad_norm</td><td>▁▂▁▂▃▅▆█▅▃</td></tr><tr><td>train/learning_rate</td><td>▂▃▄▅▅▆▇█▅▁</td></tr><tr><td>train/loss</td><td>█▇▄▄▃▃▂▂▁▁</td></tr></table><br/></div><div class=\"wandb-col\"><h3>Run summary:</h3><br/><table class=\"wandb\"><tr><td>eval/accuracy</td><td>0.94877</td></tr><tr><td>eval/f1</td><td>0.83051</td></tr><tr><td>eval/loss</td><td>0.16372</td></tr><tr><td>eval/precision</td><td>0.88448</td></tr><tr><td>eval/recall</td><td>0.78275</td></tr><tr><td>eval/runtime</td><td>2.7824</td></tr><tr><td>eval/samples_per_second</td><td>87.696</td></tr><tr><td>eval/steps_per_second</td><td>5.751</td></tr><tr><td>total_flos</td><td>3444860883575808.0</td></tr><tr><td>train/epoch</td><td>10.0</td></tr><tr><td>train/global_step</td><td>610</td></tr><tr><td>train/grad_norm</td><td>1.80101</td></tr><tr><td>train/learning_rate</td><td>0.0</td></tr><tr><td>train/loss</td><td>0.112</td></tr><tr><td>train_loss</td><td>0.30466</td></tr><tr><td>train_runtime</td><td>489.2467</td></tr><tr><td>train_samples_per_second</td><td>19.888</td></tr><tr><td>train_steps_per_second</td><td>1.247</td></tr></table><br/></div></div>"
      ],
      "text/plain": [
       "<IPython.core.display.HTML object>"
      ]
     },
     "metadata": {},
     "output_type": "display_data"
    },
    {
     "data": {
      "text/html": [
       " View run <strong style=\"color:#cdcd00\">hopeful-sweep-10</strong> at: <a href='https://wandb.ai/ai-aloe/metacognitive_classifier/runs/cmta4fs4' target=\"_blank\">https://wandb.ai/ai-aloe/metacognitive_classifier/runs/cmta4fs4</a><br/> View project at: <a href='https://wandb.ai/ai-aloe/metacognitive_classifier' target=\"_blank\">https://wandb.ai/ai-aloe/metacognitive_classifier</a><br/>Synced 6 W&B file(s), 0 media file(s), 0 artifact file(s) and 0 other file(s)"
      ],
      "text/plain": [
       "<IPython.core.display.HTML object>"
      ]
     },
     "metadata": {},
     "output_type": "display_data"
    },
    {
     "data": {
      "text/html": [
       "Find logs at: <code>./wandb/run-20240517_213019-cmta4fs4/logs</code>"
      ],
      "text/plain": [
       "<IPython.core.display.HTML object>"
      ]
     },
     "metadata": {},
     "output_type": "display_data"
    },
    {
     "name": "stderr",
     "output_type": "stream",
     "text": [
      "\u001b[34m\u001b[1mwandb\u001b[0m: Agent Starting Run: stjqabbv with config:\n",
      "\u001b[34m\u001b[1mwandb\u001b[0m: \tepochs: 10\n",
      "\u001b[34m\u001b[1mwandb\u001b[0m: \tlearning_rate: 9.917868095538506e-06\n",
      "\u001b[34m\u001b[1mwandb\u001b[0m: \twarmup_steps: 500\n",
      "\u001b[34m\u001b[1mwandb\u001b[0m: \tweight_decay: 0.01\n",
      "Failed to detect the name of this notebook, you can set it manually with the WANDB_NOTEBOOK_NAME environment variable to enable code saving.\n"
     ]
    },
    {
     "data": {
      "text/html": [
       "wandb version 0.17.0 is available!  To upgrade, please run:\n",
       " $ pip install wandb --upgrade"
      ],
      "text/plain": [
       "<IPython.core.display.HTML object>"
      ]
     },
     "metadata": {},
     "output_type": "display_data"
    },
    {
     "data": {
      "text/html": [
       "Tracking run with wandb version 0.16.6"
      ],
      "text/plain": [
       "<IPython.core.display.HTML object>"
      ]
     },
     "metadata": {},
     "output_type": "display_data"
    },
    {
     "data": {
      "text/html": [
       "Run data is saved locally in <code>/home/jovyan/metacognitive-span-categorization/src/classification/wandb/run-20240517_213844-stjqabbv</code>"
      ],
      "text/plain": [
       "<IPython.core.display.HTML object>"
      ]
     },
     "metadata": {},
     "output_type": "display_data"
    },
    {
     "data": {
      "text/html": [
       "Syncing run <strong><a href='https://wandb.ai/ai-aloe/metacognitive_classifier/runs/stjqabbv' target=\"_blank\">vivid-sweep-11</a></strong> to <a href='https://wandb.ai/ai-aloe/metacognitive_classifier' target=\"_blank\">Weights & Biases</a> (<a href='https://wandb.me/run' target=\"_blank\">docs</a>)<br/>Sweep page: <a href='https://wandb.ai/ai-aloe/metacognitive_classifier/sweeps/8ellv5tx' target=\"_blank\">https://wandb.ai/ai-aloe/metacognitive_classifier/sweeps/8ellv5tx</a>"
      ],
      "text/plain": [
       "<IPython.core.display.HTML object>"
      ]
     },
     "metadata": {},
     "output_type": "display_data"
    },
    {
     "data": {
      "text/html": [
       " View project at <a href='https://wandb.ai/ai-aloe/metacognitive_classifier' target=\"_blank\">https://wandb.ai/ai-aloe/metacognitive_classifier</a>"
      ],
      "text/plain": [
       "<IPython.core.display.HTML object>"
      ]
     },
     "metadata": {},
     "output_type": "display_data"
    },
    {
     "data": {
      "text/html": [
       " View sweep at <a href='https://wandb.ai/ai-aloe/metacognitive_classifier/sweeps/8ellv5tx' target=\"_blank\">https://wandb.ai/ai-aloe/metacognitive_classifier/sweeps/8ellv5tx</a>"
      ],
      "text/plain": [
       "<IPython.core.display.HTML object>"
      ]
     },
     "metadata": {},
     "output_type": "display_data"
    },
    {
     "data": {
      "text/html": [
       " View run at <a href='https://wandb.ai/ai-aloe/metacognitive_classifier/runs/stjqabbv' target=\"_blank\">https://wandb.ai/ai-aloe/metacognitive_classifier/runs/stjqabbv</a>"
      ],
      "text/plain": [
       "<IPython.core.display.HTML object>"
      ]
     },
     "metadata": {},
     "output_type": "display_data"
    },
    {
     "name": "stderr",
     "output_type": "stream",
     "text": [
      "Some weights of DebertaV2ForSequenceClassification were not initialized from the model checkpoint at microsoft/deberta-v3-large and are newly initialized: ['classifier.bias', 'classifier.weight', 'pooler.dense.bias', 'pooler.dense.weight']\n",
      "You should probably TRAIN this model on a down-stream task to be able to use it for predictions and inference.\n",
      "\u001b[34m\u001b[1mwandb\u001b[0m: \u001b[33mWARNING\u001b[0m Config item 'learning_rate' was locked by 'sweep' (ignored update).\n",
      "\u001b[34m\u001b[1mwandb\u001b[0m: \u001b[33mWARNING\u001b[0m Config item 'weight_decay' was locked by 'sweep' (ignored update).\n",
      "\u001b[34m\u001b[1mwandb\u001b[0m: \u001b[33mWARNING\u001b[0m Config item 'warmup_steps' was locked by 'sweep' (ignored update).\n"
     ]
    },
    {
     "data": {
      "text/html": [
       "\n",
       "    <div>\n",
       "      \n",
       "      <progress value='610' max='610' style='width:300px; height:20px; vertical-align: middle;'></progress>\n",
       "      [610/610 08:07, Epoch 10/10]\n",
       "    </div>\n",
       "    <table border=\"1\" class=\"dataframe\">\n",
       "  <thead>\n",
       " <tr style=\"text-align: left;\">\n",
       "      <th>Epoch</th>\n",
       "      <th>Training Loss</th>\n",
       "      <th>Validation Loss</th>\n",
       "      <th>Accuracy</th>\n",
       "      <th>F1</th>\n",
       "      <th>Precision</th>\n",
       "      <th>Recall</th>\n",
       "    </tr>\n",
       "  </thead>\n",
       "  <tbody>\n",
       "    <tr>\n",
       "      <td>1</td>\n",
       "      <td>0.672400</td>\n",
       "      <td>0.655856</td>\n",
       "      <td>0.726947</td>\n",
       "      <td>0.043088</td>\n",
       "      <td>0.049180</td>\n",
       "      <td>0.038339</td>\n",
       "    </tr>\n",
       "    <tr>\n",
       "      <td>2</td>\n",
       "      <td>0.585500</td>\n",
       "      <td>0.421109</td>\n",
       "      <td>0.842725</td>\n",
       "      <td>0.055385</td>\n",
       "      <td>0.750000</td>\n",
       "      <td>0.028754</td>\n",
       "    </tr>\n",
       "    <tr>\n",
       "      <td>3</td>\n",
       "      <td>0.376800</td>\n",
       "      <td>0.345260</td>\n",
       "      <td>0.873463</td>\n",
       "      <td>0.452328</td>\n",
       "      <td>0.739130</td>\n",
       "      <td>0.325879</td>\n",
       "    </tr>\n",
       "    <tr>\n",
       "      <td>4</td>\n",
       "      <td>0.331200</td>\n",
       "      <td>0.302165</td>\n",
       "      <td>0.894980</td>\n",
       "      <td>0.541387</td>\n",
       "      <td>0.902985</td>\n",
       "      <td>0.386581</td>\n",
       "    </tr>\n",
       "    <tr>\n",
       "      <td>5</td>\n",
       "      <td>0.290500</td>\n",
       "      <td>0.273927</td>\n",
       "      <td>0.907275</td>\n",
       "      <td>0.610753</td>\n",
       "      <td>0.934211</td>\n",
       "      <td>0.453674</td>\n",
       "    </tr>\n",
       "    <tr>\n",
       "      <td>6</td>\n",
       "      <td>0.251900</td>\n",
       "      <td>0.247193</td>\n",
       "      <td>0.917520</td>\n",
       "      <td>0.690979</td>\n",
       "      <td>0.865385</td>\n",
       "      <td>0.575080</td>\n",
       "    </tr>\n",
       "    <tr>\n",
       "      <td>7</td>\n",
       "      <td>0.216100</td>\n",
       "      <td>0.223997</td>\n",
       "      <td>0.924693</td>\n",
       "      <td>0.741652</td>\n",
       "      <td>0.824219</td>\n",
       "      <td>0.674121</td>\n",
       "    </tr>\n",
       "    <tr>\n",
       "      <td>8</td>\n",
       "      <td>0.179300</td>\n",
       "      <td>0.205555</td>\n",
       "      <td>0.930328</td>\n",
       "      <td>0.742424</td>\n",
       "      <td>0.911628</td>\n",
       "      <td>0.626198</td>\n",
       "    </tr>\n",
       "    <tr>\n",
       "      <td>9</td>\n",
       "      <td>0.147600</td>\n",
       "      <td>0.203826</td>\n",
       "      <td>0.930840</td>\n",
       "      <td>0.776119</td>\n",
       "      <td>0.806897</td>\n",
       "      <td>0.747604</td>\n",
       "    </tr>\n",
       "    <tr>\n",
       "      <td>10</td>\n",
       "      <td>0.124100</td>\n",
       "      <td>0.178989</td>\n",
       "      <td>0.940574</td>\n",
       "      <td>0.797909</td>\n",
       "      <td>0.877395</td>\n",
       "      <td>0.731629</td>\n",
       "    </tr>\n",
       "  </tbody>\n",
       "</table><p>"
      ],
      "text/plain": [
       "<IPython.core.display.HTML object>"
      ]
     },
     "metadata": {},
     "output_type": "display_data"
    },
    {
     "data": {
      "application/vnd.jupyter.widget-view+json": {
       "model_id": "",
       "version_major": 2,
       "version_minor": 0
      },
      "text/plain": [
       "VBox(children=(Label(value='0.027 MB of 0.027 MB uploaded\\r'), FloatProgress(value=1.0, max=1.0)))"
      ]
     },
     "metadata": {},
     "output_type": "display_data"
    },
    {
     "data": {
      "text/html": [
       "<style>\n",
       "    table.wandb td:nth-child(1) { padding: 0 10px; text-align: left ; width: auto;} td:nth-child(2) {text-align: left ; width: 100%}\n",
       "    .wandb-row { display: flex; flex-direction: row; flex-wrap: wrap; justify-content: flex-start; width: 100% }\n",
       "    .wandb-col { display: flex; flex-direction: column; flex-basis: 100%; flex: 1; padding: 10px; }\n",
       "    </style>\n",
       "<div class=\"wandb-row\"><div class=\"wandb-col\"><h3>Run history:</h3><br/><table class=\"wandb\"><tr><td>eval/accuracy</td><td>▁▅▆▇▇▇▇███</td></tr><tr><td>eval/f1</td><td>▁▁▅▆▆▇▇▇██</td></tr><tr><td>eval/loss</td><td>█▅▃▃▂▂▂▁▁▁</td></tr><tr><td>eval/precision</td><td>▁▇▆██▇▇█▇█</td></tr><tr><td>eval/recall</td><td>▁▁▄▄▅▆▇▇██</td></tr><tr><td>eval/runtime</td><td>▂█▅▂▅▄▂▁▃▂</td></tr><tr><td>eval/samples_per_second</td><td>▇▁▄▇▄▅▇█▆▇</td></tr><tr><td>eval/steps_per_second</td><td>▇▁▄▇▄▅▇█▆▇</td></tr><tr><td>train/epoch</td><td>▁▁▂▂▃▃▃▃▄▄▅▅▆▆▆▆▇▇███</td></tr><tr><td>train/global_step</td><td>▁▁▂▂▃▃▃▃▄▄▅▅▆▆▆▆▇▇███</td></tr><tr><td>train/grad_norm</td><td>▂▁▁▂▁▅▂█▃▃</td></tr><tr><td>train/learning_rate</td><td>▂▃▄▄▅▆▇█▅▁</td></tr><tr><td>train/loss</td><td>█▇▄▄▃▃▂▂▁▁</td></tr></table><br/></div><div class=\"wandb-col\"><h3>Run summary:</h3><br/><table class=\"wandb\"><tr><td>eval/accuracy</td><td>0.94057</td></tr><tr><td>eval/f1</td><td>0.79791</td></tr><tr><td>eval/loss</td><td>0.17899</td></tr><tr><td>eval/precision</td><td>0.87739</td></tr><tr><td>eval/recall</td><td>0.73163</td></tr><tr><td>eval/runtime</td><td>2.7762</td></tr><tr><td>eval/samples_per_second</td><td>87.89</td></tr><tr><td>eval/steps_per_second</td><td>5.763</td></tr><tr><td>total_flos</td><td>3444860883575808.0</td></tr><tr><td>train/epoch</td><td>10.0</td></tr><tr><td>train/global_step</td><td>610</td></tr><tr><td>train/grad_norm</td><td>1.70679</td></tr><tr><td>train/learning_rate</td><td>0.0</td></tr><tr><td>train/loss</td><td>0.1241</td></tr><tr><td>train_loss</td><td>0.31753</td></tr><tr><td>train_runtime</td><td>488.4665</td></tr><tr><td>train_samples_per_second</td><td>19.919</td></tr><tr><td>train_steps_per_second</td><td>1.249</td></tr></table><br/></div></div>"
      ],
      "text/plain": [
       "<IPython.core.display.HTML object>"
      ]
     },
     "metadata": {},
     "output_type": "display_data"
    },
    {
     "data": {
      "text/html": [
       " View run <strong style=\"color:#cdcd00\">vivid-sweep-11</strong> at: <a href='https://wandb.ai/ai-aloe/metacognitive_classifier/runs/stjqabbv' target=\"_blank\">https://wandb.ai/ai-aloe/metacognitive_classifier/runs/stjqabbv</a><br/> View project at: <a href='https://wandb.ai/ai-aloe/metacognitive_classifier' target=\"_blank\">https://wandb.ai/ai-aloe/metacognitive_classifier</a><br/>Synced 6 W&B file(s), 0 media file(s), 0 artifact file(s) and 0 other file(s)"
      ],
      "text/plain": [
       "<IPython.core.display.HTML object>"
      ]
     },
     "metadata": {},
     "output_type": "display_data"
    },
    {
     "data": {
      "text/html": [
       "Find logs at: <code>./wandb/run-20240517_213844-stjqabbv/logs</code>"
      ],
      "text/plain": [
       "<IPython.core.display.HTML object>"
      ]
     },
     "metadata": {},
     "output_type": "display_data"
    },
    {
     "name": "stderr",
     "output_type": "stream",
     "text": [
      "\u001b[34m\u001b[1mwandb\u001b[0m: Agent Starting Run: 9fii11kt with config:\n",
      "\u001b[34m\u001b[1mwandb\u001b[0m: \tepochs: 4\n",
      "\u001b[34m\u001b[1mwandb\u001b[0m: \tlearning_rate: 9.68925232668124e-06\n",
      "\u001b[34m\u001b[1mwandb\u001b[0m: \twarmup_steps: 50\n",
      "\u001b[34m\u001b[1mwandb\u001b[0m: \tweight_decay: 0.01\n",
      "Failed to detect the name of this notebook, you can set it manually with the WANDB_NOTEBOOK_NAME environment variable to enable code saving.\n"
     ]
    },
    {
     "data": {
      "text/html": [
       "wandb version 0.17.0 is available!  To upgrade, please run:\n",
       " $ pip install wandb --upgrade"
      ],
      "text/plain": [
       "<IPython.core.display.HTML object>"
      ]
     },
     "metadata": {},
     "output_type": "display_data"
    },
    {
     "data": {
      "text/html": [
       "Tracking run with wandb version 0.16.6"
      ],
      "text/plain": [
       "<IPython.core.display.HTML object>"
      ]
     },
     "metadata": {},
     "output_type": "display_data"
    },
    {
     "data": {
      "text/html": [
       "Run data is saved locally in <code>/home/jovyan/metacognitive-span-categorization/src/classification/wandb/run-20240517_214707-9fii11kt</code>"
      ],
      "text/plain": [
       "<IPython.core.display.HTML object>"
      ]
     },
     "metadata": {},
     "output_type": "display_data"
    },
    {
     "data": {
      "text/html": [
       "Syncing run <strong><a href='https://wandb.ai/ai-aloe/metacognitive_classifier/runs/9fii11kt' target=\"_blank\">dashing-sweep-12</a></strong> to <a href='https://wandb.ai/ai-aloe/metacognitive_classifier' target=\"_blank\">Weights & Biases</a> (<a href='https://wandb.me/run' target=\"_blank\">docs</a>)<br/>Sweep page: <a href='https://wandb.ai/ai-aloe/metacognitive_classifier/sweeps/8ellv5tx' target=\"_blank\">https://wandb.ai/ai-aloe/metacognitive_classifier/sweeps/8ellv5tx</a>"
      ],
      "text/plain": [
       "<IPython.core.display.HTML object>"
      ]
     },
     "metadata": {},
     "output_type": "display_data"
    },
    {
     "data": {
      "text/html": [
       " View project at <a href='https://wandb.ai/ai-aloe/metacognitive_classifier' target=\"_blank\">https://wandb.ai/ai-aloe/metacognitive_classifier</a>"
      ],
      "text/plain": [
       "<IPython.core.display.HTML object>"
      ]
     },
     "metadata": {},
     "output_type": "display_data"
    },
    {
     "data": {
      "text/html": [
       " View sweep at <a href='https://wandb.ai/ai-aloe/metacognitive_classifier/sweeps/8ellv5tx' target=\"_blank\">https://wandb.ai/ai-aloe/metacognitive_classifier/sweeps/8ellv5tx</a>"
      ],
      "text/plain": [
       "<IPython.core.display.HTML object>"
      ]
     },
     "metadata": {},
     "output_type": "display_data"
    },
    {
     "data": {
      "text/html": [
       " View run at <a href='https://wandb.ai/ai-aloe/metacognitive_classifier/runs/9fii11kt' target=\"_blank\">https://wandb.ai/ai-aloe/metacognitive_classifier/runs/9fii11kt</a>"
      ],
      "text/plain": [
       "<IPython.core.display.HTML object>"
      ]
     },
     "metadata": {},
     "output_type": "display_data"
    },
    {
     "name": "stderr",
     "output_type": "stream",
     "text": [
      "Some weights of DebertaV2ForSequenceClassification were not initialized from the model checkpoint at microsoft/deberta-v3-large and are newly initialized: ['classifier.bias', 'classifier.weight', 'pooler.dense.bias', 'pooler.dense.weight']\n",
      "You should probably TRAIN this model on a down-stream task to be able to use it for predictions and inference.\n",
      "\u001b[34m\u001b[1mwandb\u001b[0m: \u001b[33mWARNING\u001b[0m Config item 'learning_rate' was locked by 'sweep' (ignored update).\n",
      "\u001b[34m\u001b[1mwandb\u001b[0m: \u001b[33mWARNING\u001b[0m Config item 'weight_decay' was locked by 'sweep' (ignored update).\n",
      "\u001b[34m\u001b[1mwandb\u001b[0m: \u001b[33mWARNING\u001b[0m Config item 'warmup_steps' was locked by 'sweep' (ignored update).\n"
     ]
    },
    {
     "data": {
      "text/html": [
       "\n",
       "    <div>\n",
       "      \n",
       "      <progress value='244' max='244' style='width:300px; height:20px; vertical-align: middle;'></progress>\n",
       "      [244/244 03:13, Epoch 4/4]\n",
       "    </div>\n",
       "    <table border=\"1\" class=\"dataframe\">\n",
       "  <thead>\n",
       " <tr style=\"text-align: left;\">\n",
       "      <th>Epoch</th>\n",
       "      <th>Training Loss</th>\n",
       "      <th>Validation Loss</th>\n",
       "      <th>Accuracy</th>\n",
       "      <th>F1</th>\n",
       "      <th>Precision</th>\n",
       "      <th>Recall</th>\n",
       "    </tr>\n",
       "  </thead>\n",
       "  <tbody>\n",
       "    <tr>\n",
       "      <td>1</td>\n",
       "      <td>0.578400</td>\n",
       "      <td>0.361353</td>\n",
       "      <td>0.869365</td>\n",
       "      <td>0.500978</td>\n",
       "      <td>0.646465</td>\n",
       "      <td>0.408946</td>\n",
       "    </tr>\n",
       "    <tr>\n",
       "      <td>2</td>\n",
       "      <td>0.337800</td>\n",
       "      <td>0.305602</td>\n",
       "      <td>0.894467</td>\n",
       "      <td>0.529680</td>\n",
       "      <td>0.928000</td>\n",
       "      <td>0.370607</td>\n",
       "    </tr>\n",
       "    <tr>\n",
       "      <td>3</td>\n",
       "      <td>0.301700</td>\n",
       "      <td>0.303195</td>\n",
       "      <td>0.894980</td>\n",
       "      <td>0.526559</td>\n",
       "      <td>0.950000</td>\n",
       "      <td>0.364217</td>\n",
       "    </tr>\n",
       "    <tr>\n",
       "      <td>4</td>\n",
       "      <td>0.276100</td>\n",
       "      <td>0.282770</td>\n",
       "      <td>0.902664</td>\n",
       "      <td>0.585153</td>\n",
       "      <td>0.924138</td>\n",
       "      <td>0.428115</td>\n",
       "    </tr>\n",
       "  </tbody>\n",
       "</table><p>"
      ],
      "text/plain": [
       "<IPython.core.display.HTML object>"
      ]
     },
     "metadata": {},
     "output_type": "display_data"
    },
    {
     "data": {
      "application/vnd.jupyter.widget-view+json": {
       "model_id": "",
       "version_major": 2,
       "version_minor": 0
      },
      "text/plain": [
       "VBox(children=(Label(value='0.027 MB of 0.027 MB uploaded\\r'), FloatProgress(value=1.0, max=1.0)))"
      ]
     },
     "metadata": {},
     "output_type": "display_data"
    },
    {
     "data": {
      "text/html": [
       "<style>\n",
       "    table.wandb td:nth-child(1) { padding: 0 10px; text-align: left ; width: auto;} td:nth-child(2) {text-align: left ; width: 100%}\n",
       "    .wandb-row { display: flex; flex-direction: row; flex-wrap: wrap; justify-content: flex-start; width: 100% }\n",
       "    .wandb-col { display: flex; flex-direction: column; flex-basis: 100%; flex: 1; padding: 10px; }\n",
       "    </style>\n",
       "<div class=\"wandb-row\"><div class=\"wandb-col\"><h3>Run history:</h3><br/><table class=\"wandb\"><tr><td>eval/accuracy</td><td>▁▆▆█</td></tr><tr><td>eval/f1</td><td>▁▃▃█</td></tr><tr><td>eval/loss</td><td>█▃▃▁</td></tr><tr><td>eval/precision</td><td>▁▇█▇</td></tr><tr><td>eval/recall</td><td>▆▂▁█</td></tr><tr><td>eval/runtime</td><td>▁▇█▂</td></tr><tr><td>eval/samples_per_second</td><td>█▂▁▇</td></tr><tr><td>eval/steps_per_second</td><td>█▂▁▇</td></tr><tr><td>train/epoch</td><td>▁▁▃▃▆▆███</td></tr><tr><td>train/global_step</td><td>▁▁▃▃▆▆███</td></tr><tr><td>train/grad_norm</td><td>▅▁█▅</td></tr><tr><td>train/learning_rate</td><td>█▆▃▁</td></tr><tr><td>train/loss</td><td>█▂▂▁</td></tr></table><br/></div><div class=\"wandb-col\"><h3>Run summary:</h3><br/><table class=\"wandb\"><tr><td>eval/accuracy</td><td>0.90266</td></tr><tr><td>eval/f1</td><td>0.58515</td></tr><tr><td>eval/loss</td><td>0.28277</td></tr><tr><td>eval/precision</td><td>0.92414</td></tr><tr><td>eval/recall</td><td>0.42812</td></tr><tr><td>eval/runtime</td><td>2.771</td></tr><tr><td>eval/samples_per_second</td><td>88.056</td></tr><tr><td>eval/steps_per_second</td><td>5.774</td></tr><tr><td>total_flos</td><td>1388207524910592.0</td></tr><tr><td>train/epoch</td><td>4.0</td></tr><tr><td>train/global_step</td><td>244</td></tr><tr><td>train/grad_norm</td><td>1.51193</td></tr><tr><td>train/learning_rate</td><td>0.0</td></tr><tr><td>train/loss</td><td>0.2761</td></tr><tr><td>train_loss</td><td>0.3735</td></tr><tr><td>train_runtime</td><td>194.0511</td></tr><tr><td>train_samples_per_second</td><td>20.057</td></tr><tr><td>train_steps_per_second</td><td>1.257</td></tr></table><br/></div></div>"
      ],
      "text/plain": [
       "<IPython.core.display.HTML object>"
      ]
     },
     "metadata": {},
     "output_type": "display_data"
    },
    {
     "data": {
      "text/html": [
       " View run <strong style=\"color:#cdcd00\">dashing-sweep-12</strong> at: <a href='https://wandb.ai/ai-aloe/metacognitive_classifier/runs/9fii11kt' target=\"_blank\">https://wandb.ai/ai-aloe/metacognitive_classifier/runs/9fii11kt</a><br/> View project at: <a href='https://wandb.ai/ai-aloe/metacognitive_classifier' target=\"_blank\">https://wandb.ai/ai-aloe/metacognitive_classifier</a><br/>Synced 6 W&B file(s), 0 media file(s), 0 artifact file(s) and 0 other file(s)"
      ],
      "text/plain": [
       "<IPython.core.display.HTML object>"
      ]
     },
     "metadata": {},
     "output_type": "display_data"
    },
    {
     "data": {
      "text/html": [
       "Find logs at: <code>./wandb/run-20240517_214707-9fii11kt/logs</code>"
      ],
      "text/plain": [
       "<IPython.core.display.HTML object>"
      ]
     },
     "metadata": {},
     "output_type": "display_data"
    },
    {
     "name": "stderr",
     "output_type": "stream",
     "text": [
      "\u001b[34m\u001b[1mwandb\u001b[0m: Agent Starting Run: dqdqfofl with config:\n",
      "\u001b[34m\u001b[1mwandb\u001b[0m: \tepochs: 1\n",
      "\u001b[34m\u001b[1mwandb\u001b[0m: \tlearning_rate: 5.5397322025704185e-06\n",
      "\u001b[34m\u001b[1mwandb\u001b[0m: \twarmup_steps: 500\n",
      "\u001b[34m\u001b[1mwandb\u001b[0m: \tweight_decay: 0.01\n",
      "Failed to detect the name of this notebook, you can set it manually with the WANDB_NOTEBOOK_NAME environment variable to enable code saving.\n"
     ]
    },
    {
     "data": {
      "text/html": [
       "wandb version 0.17.0 is available!  To upgrade, please run:\n",
       " $ pip install wandb --upgrade"
      ],
      "text/plain": [
       "<IPython.core.display.HTML object>"
      ]
     },
     "metadata": {},
     "output_type": "display_data"
    },
    {
     "data": {
      "text/html": [
       "Tracking run with wandb version 0.16.6"
      ],
      "text/plain": [
       "<IPython.core.display.HTML object>"
      ]
     },
     "metadata": {},
     "output_type": "display_data"
    },
    {
     "data": {
      "text/html": [
       "Run data is saved locally in <code>/home/jovyan/metacognitive-span-categorization/src/classification/wandb/run-20240517_215036-dqdqfofl</code>"
      ],
      "text/plain": [
       "<IPython.core.display.HTML object>"
      ]
     },
     "metadata": {},
     "output_type": "display_data"
    },
    {
     "data": {
      "text/html": [
       "Syncing run <strong><a href='https://wandb.ai/ai-aloe/metacognitive_classifier/runs/dqdqfofl' target=\"_blank\">eager-sweep-13</a></strong> to <a href='https://wandb.ai/ai-aloe/metacognitive_classifier' target=\"_blank\">Weights & Biases</a> (<a href='https://wandb.me/run' target=\"_blank\">docs</a>)<br/>Sweep page: <a href='https://wandb.ai/ai-aloe/metacognitive_classifier/sweeps/8ellv5tx' target=\"_blank\">https://wandb.ai/ai-aloe/metacognitive_classifier/sweeps/8ellv5tx</a>"
      ],
      "text/plain": [
       "<IPython.core.display.HTML object>"
      ]
     },
     "metadata": {},
     "output_type": "display_data"
    },
    {
     "data": {
      "text/html": [
       " View project at <a href='https://wandb.ai/ai-aloe/metacognitive_classifier' target=\"_blank\">https://wandb.ai/ai-aloe/metacognitive_classifier</a>"
      ],
      "text/plain": [
       "<IPython.core.display.HTML object>"
      ]
     },
     "metadata": {},
     "output_type": "display_data"
    },
    {
     "data": {
      "text/html": [
       " View sweep at <a href='https://wandb.ai/ai-aloe/metacognitive_classifier/sweeps/8ellv5tx' target=\"_blank\">https://wandb.ai/ai-aloe/metacognitive_classifier/sweeps/8ellv5tx</a>"
      ],
      "text/plain": [
       "<IPython.core.display.HTML object>"
      ]
     },
     "metadata": {},
     "output_type": "display_data"
    },
    {
     "data": {
      "text/html": [
       " View run at <a href='https://wandb.ai/ai-aloe/metacognitive_classifier/runs/dqdqfofl' target=\"_blank\">https://wandb.ai/ai-aloe/metacognitive_classifier/runs/dqdqfofl</a>"
      ],
      "text/plain": [
       "<IPython.core.display.HTML object>"
      ]
     },
     "metadata": {},
     "output_type": "display_data"
    },
    {
     "name": "stderr",
     "output_type": "stream",
     "text": [
      "Some weights of DebertaV2ForSequenceClassification were not initialized from the model checkpoint at microsoft/deberta-v3-large and are newly initialized: ['classifier.bias', 'classifier.weight', 'pooler.dense.bias', 'pooler.dense.weight']\n",
      "You should probably TRAIN this model on a down-stream task to be able to use it for predictions and inference.\n",
      "\u001b[34m\u001b[1mwandb\u001b[0m: \u001b[33mWARNING\u001b[0m Config item 'learning_rate' was locked by 'sweep' (ignored update).\n",
      "\u001b[34m\u001b[1mwandb\u001b[0m: \u001b[33mWARNING\u001b[0m Config item 'weight_decay' was locked by 'sweep' (ignored update).\n",
      "\u001b[34m\u001b[1mwandb\u001b[0m: \u001b[33mWARNING\u001b[0m Config item 'warmup_steps' was locked by 'sweep' (ignored update).\n"
     ]
    },
    {
     "data": {
      "text/html": [
       "\n",
       "    <div>\n",
       "      \n",
       "      <progress value='61' max='61' style='width:300px; height:20px; vertical-align: middle;'></progress>\n",
       "      [61/61 00:48, Epoch 1/1]\n",
       "    </div>\n",
       "    <table border=\"1\" class=\"dataframe\">\n",
       "  <thead>\n",
       " <tr style=\"text-align: left;\">\n",
       "      <th>Epoch</th>\n",
       "      <th>Training Loss</th>\n",
       "      <th>Validation Loss</th>\n",
       "      <th>Accuracy</th>\n",
       "      <th>F1</th>\n",
       "      <th>Precision</th>\n",
       "      <th>Recall</th>\n",
       "    </tr>\n",
       "  </thead>\n",
       "  <tbody>\n",
       "    <tr>\n",
       "      <td>1</td>\n",
       "      <td>0.703000</td>\n",
       "      <td>0.693776</td>\n",
       "      <td>0.524590</td>\n",
       "      <td>0.290520</td>\n",
       "      <td>0.190955</td>\n",
       "      <td>0.607029</td>\n",
       "    </tr>\n",
       "  </tbody>\n",
       "</table><p>"
      ],
      "text/plain": [
       "<IPython.core.display.HTML object>"
      ]
     },
     "metadata": {},
     "output_type": "display_data"
    },
    {
     "data": {
      "application/vnd.jupyter.widget-view+json": {
       "model_id": "",
       "version_major": 2,
       "version_minor": 0
      },
      "text/plain": [
       "VBox(children=(Label(value='0.008 MB of 0.008 MB uploaded\\r'), FloatProgress(value=1.0, max=1.0)))"
      ]
     },
     "metadata": {},
     "output_type": "display_data"
    },
    {
     "data": {
      "text/html": [
       "<style>\n",
       "    table.wandb td:nth-child(1) { padding: 0 10px; text-align: left ; width: auto;} td:nth-child(2) {text-align: left ; width: 100%}\n",
       "    .wandb-row { display: flex; flex-direction: row; flex-wrap: wrap; justify-content: flex-start; width: 100% }\n",
       "    .wandb-col { display: flex; flex-direction: column; flex-basis: 100%; flex: 1; padding: 10px; }\n",
       "    </style>\n",
       "<div class=\"wandb-row\"><div class=\"wandb-col\"><h3>Run history:</h3><br/><table class=\"wandb\"><tr><td>eval/accuracy</td><td>▁</td></tr><tr><td>eval/f1</td><td>▁</td></tr><tr><td>eval/loss</td><td>▁</td></tr><tr><td>eval/precision</td><td>▁</td></tr><tr><td>eval/recall</td><td>▁</td></tr><tr><td>eval/runtime</td><td>▁</td></tr><tr><td>eval/samples_per_second</td><td>▁</td></tr><tr><td>eval/steps_per_second</td><td>▁</td></tr><tr><td>train/epoch</td><td>▁▁▁</td></tr><tr><td>train/global_step</td><td>▁▁▁</td></tr><tr><td>train/grad_norm</td><td>▁</td></tr><tr><td>train/learning_rate</td><td>▁</td></tr><tr><td>train/loss</td><td>▁</td></tr></table><br/></div><div class=\"wandb-col\"><h3>Run summary:</h3><br/><table class=\"wandb\"><tr><td>eval/accuracy</td><td>0.52459</td></tr><tr><td>eval/f1</td><td>0.29052</td></tr><tr><td>eval/loss</td><td>0.69378</td></tr><tr><td>eval/precision</td><td>0.19095</td></tr><tr><td>eval/recall</td><td>0.60703</td></tr><tr><td>eval/runtime</td><td>2.7753</td></tr><tr><td>eval/samples_per_second</td><td>87.919</td></tr><tr><td>eval/steps_per_second</td><td>5.765</td></tr><tr><td>total_flos</td><td>350939887449600.0</td></tr><tr><td>train/epoch</td><td>1.0</td></tr><tr><td>train/global_step</td><td>61</td></tr><tr><td>train/grad_norm</td><td>1.71546</td></tr><tr><td>train/learning_rate</td><td>0.0</td></tr><tr><td>train/loss</td><td>0.703</td></tr><tr><td>train_loss</td><td>0.70298</td></tr><tr><td>train_runtime</td><td>48.9773</td></tr><tr><td>train_samples_per_second</td><td>19.866</td></tr><tr><td>train_steps_per_second</td><td>1.245</td></tr></table><br/></div></div>"
      ],
      "text/plain": [
       "<IPython.core.display.HTML object>"
      ]
     },
     "metadata": {},
     "output_type": "display_data"
    },
    {
     "data": {
      "text/html": [
       " View run <strong style=\"color:#cdcd00\">eager-sweep-13</strong> at: <a href='https://wandb.ai/ai-aloe/metacognitive_classifier/runs/dqdqfofl' target=\"_blank\">https://wandb.ai/ai-aloe/metacognitive_classifier/runs/dqdqfofl</a><br/> View project at: <a href='https://wandb.ai/ai-aloe/metacognitive_classifier' target=\"_blank\">https://wandb.ai/ai-aloe/metacognitive_classifier</a><br/>Synced 6 W&B file(s), 0 media file(s), 0 artifact file(s) and 0 other file(s)"
      ],
      "text/plain": [
       "<IPython.core.display.HTML object>"
      ]
     },
     "metadata": {},
     "output_type": "display_data"
    },
    {
     "data": {
      "text/html": [
       "Find logs at: <code>./wandb/run-20240517_215036-dqdqfofl/logs</code>"
      ],
      "text/plain": [
       "<IPython.core.display.HTML object>"
      ]
     },
     "metadata": {},
     "output_type": "display_data"
    },
    {
     "name": "stderr",
     "output_type": "stream",
     "text": [
      "\u001b[34m\u001b[1mwandb\u001b[0m: Agent Starting Run: 1yh39cxx with config:\n",
      "\u001b[34m\u001b[1mwandb\u001b[0m: \tepochs: 7\n",
      "\u001b[34m\u001b[1mwandb\u001b[0m: \tlearning_rate: 5.898116615385523e-06\n",
      "\u001b[34m\u001b[1mwandb\u001b[0m: \twarmup_steps: 50\n",
      "\u001b[34m\u001b[1mwandb\u001b[0m: \tweight_decay: 0.01\n",
      "Failed to detect the name of this notebook, you can set it manually with the WANDB_NOTEBOOK_NAME environment variable to enable code saving.\n"
     ]
    },
    {
     "data": {
      "text/html": [
       "wandb version 0.17.0 is available!  To upgrade, please run:\n",
       " $ pip install wandb --upgrade"
      ],
      "text/plain": [
       "<IPython.core.display.HTML object>"
      ]
     },
     "metadata": {},
     "output_type": "display_data"
    },
    {
     "data": {
      "text/html": [
       "Tracking run with wandb version 0.16.6"
      ],
      "text/plain": [
       "<IPython.core.display.HTML object>"
      ]
     },
     "metadata": {},
     "output_type": "display_data"
    },
    {
     "data": {
      "text/html": [
       "Run data is saved locally in <code>/home/jovyan/metacognitive-span-categorization/src/classification/wandb/run-20240517_215138-1yh39cxx</code>"
      ],
      "text/plain": [
       "<IPython.core.display.HTML object>"
      ]
     },
     "metadata": {},
     "output_type": "display_data"
    },
    {
     "data": {
      "text/html": [
       "Syncing run <strong><a href='https://wandb.ai/ai-aloe/metacognitive_classifier/runs/1yh39cxx' target=\"_blank\">blooming-sweep-14</a></strong> to <a href='https://wandb.ai/ai-aloe/metacognitive_classifier' target=\"_blank\">Weights & Biases</a> (<a href='https://wandb.me/run' target=\"_blank\">docs</a>)<br/>Sweep page: <a href='https://wandb.ai/ai-aloe/metacognitive_classifier/sweeps/8ellv5tx' target=\"_blank\">https://wandb.ai/ai-aloe/metacognitive_classifier/sweeps/8ellv5tx</a>"
      ],
      "text/plain": [
       "<IPython.core.display.HTML object>"
      ]
     },
     "metadata": {},
     "output_type": "display_data"
    },
    {
     "data": {
      "text/html": [
       " View project at <a href='https://wandb.ai/ai-aloe/metacognitive_classifier' target=\"_blank\">https://wandb.ai/ai-aloe/metacognitive_classifier</a>"
      ],
      "text/plain": [
       "<IPython.core.display.HTML object>"
      ]
     },
     "metadata": {},
     "output_type": "display_data"
    },
    {
     "data": {
      "text/html": [
       " View sweep at <a href='https://wandb.ai/ai-aloe/metacognitive_classifier/sweeps/8ellv5tx' target=\"_blank\">https://wandb.ai/ai-aloe/metacognitive_classifier/sweeps/8ellv5tx</a>"
      ],
      "text/plain": [
       "<IPython.core.display.HTML object>"
      ]
     },
     "metadata": {},
     "output_type": "display_data"
    },
    {
     "data": {
      "text/html": [
       " View run at <a href='https://wandb.ai/ai-aloe/metacognitive_classifier/runs/1yh39cxx' target=\"_blank\">https://wandb.ai/ai-aloe/metacognitive_classifier/runs/1yh39cxx</a>"
      ],
      "text/plain": [
       "<IPython.core.display.HTML object>"
      ]
     },
     "metadata": {},
     "output_type": "display_data"
    },
    {
     "name": "stderr",
     "output_type": "stream",
     "text": [
      "Some weights of DebertaV2ForSequenceClassification were not initialized from the model checkpoint at microsoft/deberta-v3-large and are newly initialized: ['classifier.bias', 'classifier.weight', 'pooler.dense.bias', 'pooler.dense.weight']\n",
      "You should probably TRAIN this model on a down-stream task to be able to use it for predictions and inference.\n",
      "\u001b[34m\u001b[1mwandb\u001b[0m: \u001b[33mWARNING\u001b[0m Config item 'learning_rate' was locked by 'sweep' (ignored update).\n",
      "\u001b[34m\u001b[1mwandb\u001b[0m: \u001b[33mWARNING\u001b[0m Config item 'weight_decay' was locked by 'sweep' (ignored update).\n",
      "\u001b[34m\u001b[1mwandb\u001b[0m: \u001b[33mWARNING\u001b[0m Config item 'warmup_steps' was locked by 'sweep' (ignored update).\n"
     ]
    },
    {
     "data": {
      "text/html": [
       "\n",
       "    <div>\n",
       "      \n",
       "      <progress value='427' max='427' style='width:300px; height:20px; vertical-align: middle;'></progress>\n",
       "      [427/427 05:38, Epoch 7/7]\n",
       "    </div>\n",
       "    <table border=\"1\" class=\"dataframe\">\n",
       "  <thead>\n",
       " <tr style=\"text-align: left;\">\n",
       "      <th>Epoch</th>\n",
       "      <th>Training Loss</th>\n",
       "      <th>Validation Loss</th>\n",
       "      <th>Accuracy</th>\n",
       "      <th>F1</th>\n",
       "      <th>Precision</th>\n",
       "      <th>Recall</th>\n",
       "    </tr>\n",
       "  </thead>\n",
       "  <tbody>\n",
       "    <tr>\n",
       "      <td>1</td>\n",
       "      <td>0.648600</td>\n",
       "      <td>0.382349</td>\n",
       "      <td>0.870902</td>\n",
       "      <td>0.509728</td>\n",
       "      <td>0.651741</td>\n",
       "      <td>0.418530</td>\n",
       "    </tr>\n",
       "    <tr>\n",
       "      <td>2</td>\n",
       "      <td>0.346600</td>\n",
       "      <td>0.311268</td>\n",
       "      <td>0.887807</td>\n",
       "      <td>0.498856</td>\n",
       "      <td>0.879032</td>\n",
       "      <td>0.348243</td>\n",
       "    </tr>\n",
       "    <tr>\n",
       "      <td>3</td>\n",
       "      <td>0.303800</td>\n",
       "      <td>0.291544</td>\n",
       "      <td>0.899590</td>\n",
       "      <td>0.556561</td>\n",
       "      <td>0.953488</td>\n",
       "      <td>0.392971</td>\n",
       "    </tr>\n",
       "    <tr>\n",
       "      <td>4</td>\n",
       "      <td>0.272000</td>\n",
       "      <td>0.271735</td>\n",
       "      <td>0.906762</td>\n",
       "      <td>0.625514</td>\n",
       "      <td>0.878613</td>\n",
       "      <td>0.485623</td>\n",
       "    </tr>\n",
       "    <tr>\n",
       "      <td>5</td>\n",
       "      <td>0.249600</td>\n",
       "      <td>0.254062</td>\n",
       "      <td>0.911373</td>\n",
       "      <td>0.640333</td>\n",
       "      <td>0.916667</td>\n",
       "      <td>0.492013</td>\n",
       "    </tr>\n",
       "    <tr>\n",
       "      <td>6</td>\n",
       "      <td>0.230400</td>\n",
       "      <td>0.243721</td>\n",
       "      <td>0.915984</td>\n",
       "      <td>0.673307</td>\n",
       "      <td>0.894180</td>\n",
       "      <td>0.539936</td>\n",
       "    </tr>\n",
       "    <tr>\n",
       "      <td>7</td>\n",
       "      <td>0.220300</td>\n",
       "      <td>0.243468</td>\n",
       "      <td>0.917520</td>\n",
       "      <td>0.687379</td>\n",
       "      <td>0.876238</td>\n",
       "      <td>0.565495</td>\n",
       "    </tr>\n",
       "  </tbody>\n",
       "</table><p>"
      ],
      "text/plain": [
       "<IPython.core.display.HTML object>"
      ]
     },
     "metadata": {},
     "output_type": "display_data"
    },
    {
     "data": {
      "application/vnd.jupyter.widget-view+json": {
       "model_id": "",
       "version_major": 2,
       "version_minor": 0
      },
      "text/plain": [
       "VBox(children=(Label(value='0.008 MB of 0.008 MB uploaded\\r'), FloatProgress(value=1.0, max=1.0)))"
      ]
     },
     "metadata": {},
     "output_type": "display_data"
    },
    {
     "data": {
      "text/html": [
       "<style>\n",
       "    table.wandb td:nth-child(1) { padding: 0 10px; text-align: left ; width: auto;} td:nth-child(2) {text-align: left ; width: 100%}\n",
       "    .wandb-row { display: flex; flex-direction: row; flex-wrap: wrap; justify-content: flex-start; width: 100% }\n",
       "    .wandb-col { display: flex; flex-direction: column; flex-basis: 100%; flex: 1; padding: 10px; }\n",
       "    </style>\n",
       "<div class=\"wandb-row\"><div class=\"wandb-col\"><h3>Run history:</h3><br/><table class=\"wandb\"><tr><td>eval/accuracy</td><td>▁▄▅▆▇██</td></tr><tr><td>eval/f1</td><td>▁▁▃▆▆▇█</td></tr><tr><td>eval/loss</td><td>█▄▃▂▂▁▁</td></tr><tr><td>eval/precision</td><td>▁▆█▆▇▇▆</td></tr><tr><td>eval/recall</td><td>▃▁▂▅▆▇█</td></tr><tr><td>eval/runtime</td><td>▁▁▅▄▅▅█</td></tr><tr><td>eval/samples_per_second</td><td>██▄▅▄▄▁</td></tr><tr><td>eval/steps_per_second</td><td>██▅▅▄▄▁</td></tr><tr><td>train/epoch</td><td>▁▁▂▂▃▃▅▅▆▆▇▇███</td></tr><tr><td>train/global_step</td><td>▁▁▂▂▃▃▅▅▆▆▇▇███</td></tr><tr><td>train/grad_norm</td><td>▂▁▂▂▂█▂</td></tr><tr><td>train/learning_rate</td><td>█▇▆▅▃▂▁</td></tr><tr><td>train/loss</td><td>█▃▂▂▁▁▁</td></tr></table><br/></div><div class=\"wandb-col\"><h3>Run summary:</h3><br/><table class=\"wandb\"><tr><td>eval/accuracy</td><td>0.91752</td></tr><tr><td>eval/f1</td><td>0.68738</td></tr><tr><td>eval/loss</td><td>0.24347</td></tr><tr><td>eval/precision</td><td>0.87624</td></tr><tr><td>eval/recall</td><td>0.5655</td></tr><tr><td>eval/runtime</td><td>2.7838</td></tr><tr><td>eval/samples_per_second</td><td>87.651</td></tr><tr><td>eval/steps_per_second</td><td>5.748</td></tr><tr><td>total_flos</td><td>2421223110623232.0</td></tr><tr><td>train/epoch</td><td>7.0</td></tr><tr><td>train/global_step</td><td>427</td></tr><tr><td>train/grad_norm</td><td>1.36533</td></tr><tr><td>train/learning_rate</td><td>0.0</td></tr><tr><td>train/loss</td><td>0.2203</td></tr><tr><td>train_loss</td><td>0.32448</td></tr><tr><td>train_runtime</td><td>339.3111</td></tr><tr><td>train_samples_per_second</td><td>20.073</td></tr><tr><td>train_steps_per_second</td><td>1.258</td></tr></table><br/></div></div>"
      ],
      "text/plain": [
       "<IPython.core.display.HTML object>"
      ]
     },
     "metadata": {},
     "output_type": "display_data"
    },
    {
     "data": {
      "text/html": [
       " View run <strong style=\"color:#cdcd00\">blooming-sweep-14</strong> at: <a href='https://wandb.ai/ai-aloe/metacognitive_classifier/runs/1yh39cxx' target=\"_blank\">https://wandb.ai/ai-aloe/metacognitive_classifier/runs/1yh39cxx</a><br/> View project at: <a href='https://wandb.ai/ai-aloe/metacognitive_classifier' target=\"_blank\">https://wandb.ai/ai-aloe/metacognitive_classifier</a><br/>Synced 6 W&B file(s), 0 media file(s), 0 artifact file(s) and 0 other file(s)"
      ],
      "text/plain": [
       "<IPython.core.display.HTML object>"
      ]
     },
     "metadata": {},
     "output_type": "display_data"
    },
    {
     "data": {
      "text/html": [
       "Find logs at: <code>./wandb/run-20240517_215138-1yh39cxx/logs</code>"
      ],
      "text/plain": [
       "<IPython.core.display.HTML object>"
      ]
     },
     "metadata": {},
     "output_type": "display_data"
    },
    {
     "name": "stderr",
     "output_type": "stream",
     "text": [
      "\u001b[34m\u001b[1mwandb\u001b[0m: Agent Starting Run: juvbjo01 with config:\n",
      "\u001b[34m\u001b[1mwandb\u001b[0m: \tepochs: 10\n",
      "\u001b[34m\u001b[1mwandb\u001b[0m: \tlearning_rate: 6.956512493102417e-06\n",
      "\u001b[34m\u001b[1mwandb\u001b[0m: \twarmup_steps: 500\n",
      "\u001b[34m\u001b[1mwandb\u001b[0m: \tweight_decay: 0.01\n",
      "Failed to detect the name of this notebook, you can set it manually with the WANDB_NOTEBOOK_NAME environment variable to enable code saving.\n"
     ]
    },
    {
     "data": {
      "text/html": [
       "wandb version 0.17.0 is available!  To upgrade, please run:\n",
       " $ pip install wandb --upgrade"
      ],
      "text/plain": [
       "<IPython.core.display.HTML object>"
      ]
     },
     "metadata": {},
     "output_type": "display_data"
    },
    {
     "data": {
      "text/html": [
       "Tracking run with wandb version 0.16.6"
      ],
      "text/plain": [
       "<IPython.core.display.HTML object>"
      ]
     },
     "metadata": {},
     "output_type": "display_data"
    },
    {
     "data": {
      "text/html": [
       "Run data is saved locally in <code>/home/jovyan/metacognitive-span-categorization/src/classification/wandb/run-20240517_215731-juvbjo01</code>"
      ],
      "text/plain": [
       "<IPython.core.display.HTML object>"
      ]
     },
     "metadata": {},
     "output_type": "display_data"
    },
    {
     "data": {
      "text/html": [
       "Syncing run <strong><a href='https://wandb.ai/ai-aloe/metacognitive_classifier/runs/juvbjo01' target=\"_blank\">young-sweep-15</a></strong> to <a href='https://wandb.ai/ai-aloe/metacognitive_classifier' target=\"_blank\">Weights & Biases</a> (<a href='https://wandb.me/run' target=\"_blank\">docs</a>)<br/>Sweep page: <a href='https://wandb.ai/ai-aloe/metacognitive_classifier/sweeps/8ellv5tx' target=\"_blank\">https://wandb.ai/ai-aloe/metacognitive_classifier/sweeps/8ellv5tx</a>"
      ],
      "text/plain": [
       "<IPython.core.display.HTML object>"
      ]
     },
     "metadata": {},
     "output_type": "display_data"
    },
    {
     "data": {
      "text/html": [
       " View project at <a href='https://wandb.ai/ai-aloe/metacognitive_classifier' target=\"_blank\">https://wandb.ai/ai-aloe/metacognitive_classifier</a>"
      ],
      "text/plain": [
       "<IPython.core.display.HTML object>"
      ]
     },
     "metadata": {},
     "output_type": "display_data"
    },
    {
     "data": {
      "text/html": [
       " View sweep at <a href='https://wandb.ai/ai-aloe/metacognitive_classifier/sweeps/8ellv5tx' target=\"_blank\">https://wandb.ai/ai-aloe/metacognitive_classifier/sweeps/8ellv5tx</a>"
      ],
      "text/plain": [
       "<IPython.core.display.HTML object>"
      ]
     },
     "metadata": {},
     "output_type": "display_data"
    },
    {
     "data": {
      "text/html": [
       " View run at <a href='https://wandb.ai/ai-aloe/metacognitive_classifier/runs/juvbjo01' target=\"_blank\">https://wandb.ai/ai-aloe/metacognitive_classifier/runs/juvbjo01</a>"
      ],
      "text/plain": [
       "<IPython.core.display.HTML object>"
      ]
     },
     "metadata": {},
     "output_type": "display_data"
    },
    {
     "name": "stderr",
     "output_type": "stream",
     "text": [
      "Some weights of DebertaV2ForSequenceClassification were not initialized from the model checkpoint at microsoft/deberta-v3-large and are newly initialized: ['classifier.bias', 'classifier.weight', 'pooler.dense.bias', 'pooler.dense.weight']\n",
      "You should probably TRAIN this model on a down-stream task to be able to use it for predictions and inference.\n",
      "\u001b[34m\u001b[1mwandb\u001b[0m: \u001b[33mWARNING\u001b[0m Config item 'learning_rate' was locked by 'sweep' (ignored update).\n",
      "\u001b[34m\u001b[1mwandb\u001b[0m: \u001b[33mWARNING\u001b[0m Config item 'weight_decay' was locked by 'sweep' (ignored update).\n",
      "\u001b[34m\u001b[1mwandb\u001b[0m: \u001b[33mWARNING\u001b[0m Config item 'warmup_steps' was locked by 'sweep' (ignored update).\n"
     ]
    },
    {
     "data": {
      "text/html": [
       "\n",
       "    <div>\n",
       "      \n",
       "      <progress value='610' max='610' style='width:300px; height:20px; vertical-align: middle;'></progress>\n",
       "      [610/610 08:07, Epoch 10/10]\n",
       "    </div>\n",
       "    <table border=\"1\" class=\"dataframe\">\n",
       "  <thead>\n",
       " <tr style=\"text-align: left;\">\n",
       "      <th>Epoch</th>\n",
       "      <th>Training Loss</th>\n",
       "      <th>Validation Loss</th>\n",
       "      <th>Accuracy</th>\n",
       "      <th>F1</th>\n",
       "      <th>Precision</th>\n",
       "      <th>Recall</th>\n",
       "    </tr>\n",
       "  </thead>\n",
       "  <tbody>\n",
       "    <tr>\n",
       "      <td>1</td>\n",
       "      <td>0.657300</td>\n",
       "      <td>0.646566</td>\n",
       "      <td>0.662398</td>\n",
       "      <td>0.344279</td>\n",
       "      <td>0.250000</td>\n",
       "      <td>0.552716</td>\n",
       "    </tr>\n",
       "    <tr>\n",
       "      <td>2</td>\n",
       "      <td>0.595500</td>\n",
       "      <td>0.481894</td>\n",
       "      <td>0.846311</td>\n",
       "      <td>0.096386</td>\n",
       "      <td>0.842105</td>\n",
       "      <td>0.051118</td>\n",
       "    </tr>\n",
       "    <tr>\n",
       "      <td>3</td>\n",
       "      <td>0.412000</td>\n",
       "      <td>0.357612</td>\n",
       "      <td>0.871414</td>\n",
       "      <td>0.453159</td>\n",
       "      <td>0.712329</td>\n",
       "      <td>0.332268</td>\n",
       "    </tr>\n",
       "    <tr>\n",
       "      <td>4</td>\n",
       "      <td>0.348000</td>\n",
       "      <td>0.324943</td>\n",
       "      <td>0.880123</td>\n",
       "      <td>0.502128</td>\n",
       "      <td>0.751592</td>\n",
       "      <td>0.376997</td>\n",
       "    </tr>\n",
       "    <tr>\n",
       "      <td>5</td>\n",
       "      <td>0.317600</td>\n",
       "      <td>0.295389</td>\n",
       "      <td>0.896004</td>\n",
       "      <td>0.557734</td>\n",
       "      <td>0.876712</td>\n",
       "      <td>0.408946</td>\n",
       "    </tr>\n",
       "    <tr>\n",
       "      <td>6</td>\n",
       "      <td>0.281300</td>\n",
       "      <td>0.284476</td>\n",
       "      <td>0.903689</td>\n",
       "      <td>0.658182</td>\n",
       "      <td>0.763713</td>\n",
       "      <td>0.578275</td>\n",
       "    </tr>\n",
       "    <tr>\n",
       "      <td>7</td>\n",
       "      <td>0.242500</td>\n",
       "      <td>0.238947</td>\n",
       "      <td>0.918033</td>\n",
       "      <td>0.715302</td>\n",
       "      <td>0.807229</td>\n",
       "      <td>0.642173</td>\n",
       "    </tr>\n",
       "    <tr>\n",
       "      <td>8</td>\n",
       "      <td>0.207100</td>\n",
       "      <td>0.218550</td>\n",
       "      <td>0.927254</td>\n",
       "      <td>0.738971</td>\n",
       "      <td>0.870130</td>\n",
       "      <td>0.642173</td>\n",
       "    </tr>\n",
       "    <tr>\n",
       "      <td>9</td>\n",
       "      <td>0.178400</td>\n",
       "      <td>0.236607</td>\n",
       "      <td>0.913422</td>\n",
       "      <td>0.731320</td>\n",
       "      <td>0.727848</td>\n",
       "      <td>0.734824</td>\n",
       "    </tr>\n",
       "    <tr>\n",
       "      <td>10</td>\n",
       "      <td>0.155300</td>\n",
       "      <td>0.196458</td>\n",
       "      <td>0.935451</td>\n",
       "      <td>0.779720</td>\n",
       "      <td>0.861004</td>\n",
       "      <td>0.712460</td>\n",
       "    </tr>\n",
       "  </tbody>\n",
       "</table><p>"
      ],
      "text/plain": [
       "<IPython.core.display.HTML object>"
      ]
     },
     "metadata": {},
     "output_type": "display_data"
    },
    {
     "data": {
      "application/vnd.jupyter.widget-view+json": {
       "model_id": "",
       "version_major": 2,
       "version_minor": 0
      },
      "text/plain": [
       "VBox(children=(Label(value='0.027 MB of 0.027 MB uploaded\\r'), FloatProgress(value=1.0, max=1.0)))"
      ]
     },
     "metadata": {},
     "output_type": "display_data"
    },
    {
     "data": {
      "text/html": [
       "<style>\n",
       "    table.wandb td:nth-child(1) { padding: 0 10px; text-align: left ; width: auto;} td:nth-child(2) {text-align: left ; width: 100%}\n",
       "    .wandb-row { display: flex; flex-direction: row; flex-wrap: wrap; justify-content: flex-start; width: 100% }\n",
       "    .wandb-col { display: flex; flex-direction: column; flex-basis: 100%; flex: 1; padding: 10px; }\n",
       "    </style>\n",
       "<div class=\"wandb-row\"><div class=\"wandb-col\"><h3>Run history:</h3><br/><table class=\"wandb\"><tr><td>eval/accuracy</td><td>▁▆▆▇▇▇██▇█</td></tr><tr><td>eval/f1</td><td>▄▁▅▅▆▇▇███</td></tr><tr><td>eval/loss</td><td>█▅▄▃▃▂▂▁▂▁</td></tr><tr><td>eval/precision</td><td>▁█▆▇█▇▇█▆█</td></tr><tr><td>eval/recall</td><td>▆▁▄▄▅▆▇▇██</td></tr><tr><td>eval/runtime</td><td>▃▄▄▂▂▄▂█▂▁</td></tr><tr><td>eval/samples_per_second</td><td>▆▅▅▇▇▅▇▁▇█</td></tr><tr><td>eval/steps_per_second</td><td>▆▅▅▇▇▅▇▁▇█</td></tr><tr><td>train/epoch</td><td>▁▁▂▂▃▃▃▃▄▄▅▅▆▆▆▆▇▇███</td></tr><tr><td>train/global_step</td><td>▁▁▂▂▃▃▃▃▄▄▅▅▆▆▆▆▇▇███</td></tr><tr><td>train/grad_norm</td><td>▂▂▁▁▁█▃▄▂▃</td></tr><tr><td>train/learning_rate</td><td>▂▃▄▅▅▆▇█▅▁</td></tr><tr><td>train/loss</td><td>█▇▅▄▃▃▂▂▁▁</td></tr></table><br/></div><div class=\"wandb-col\"><h3>Run summary:</h3><br/><table class=\"wandb\"><tr><td>eval/accuracy</td><td>0.93545</td></tr><tr><td>eval/f1</td><td>0.77972</td></tr><tr><td>eval/loss</td><td>0.19646</td></tr><tr><td>eval/precision</td><td>0.861</td></tr><tr><td>eval/recall</td><td>0.71246</td></tr><tr><td>eval/runtime</td><td>2.7687</td></tr><tr><td>eval/samples_per_second</td><td>88.127</td></tr><tr><td>eval/steps_per_second</td><td>5.779</td></tr><tr><td>total_flos</td><td>3444860883575808.0</td></tr><tr><td>train/epoch</td><td>10.0</td></tr><tr><td>train/global_step</td><td>610</td></tr><tr><td>train/grad_norm</td><td>1.86112</td></tr><tr><td>train/learning_rate</td><td>0.0</td></tr><tr><td>train/loss</td><td>0.1553</td></tr><tr><td>train_loss</td><td>0.3395</td></tr><tr><td>train_runtime</td><td>487.9374</td></tr><tr><td>train_samples_per_second</td><td>19.941</td></tr><tr><td>train_steps_per_second</td><td>1.25</td></tr></table><br/></div></div>"
      ],
      "text/plain": [
       "<IPython.core.display.HTML object>"
      ]
     },
     "metadata": {},
     "output_type": "display_data"
    },
    {
     "data": {
      "text/html": [
       " View run <strong style=\"color:#cdcd00\">young-sweep-15</strong> at: <a href='https://wandb.ai/ai-aloe/metacognitive_classifier/runs/juvbjo01' target=\"_blank\">https://wandb.ai/ai-aloe/metacognitive_classifier/runs/juvbjo01</a><br/> View project at: <a href='https://wandb.ai/ai-aloe/metacognitive_classifier' target=\"_blank\">https://wandb.ai/ai-aloe/metacognitive_classifier</a><br/>Synced 6 W&B file(s), 0 media file(s), 0 artifact file(s) and 0 other file(s)"
      ],
      "text/plain": [
       "<IPython.core.display.HTML object>"
      ]
     },
     "metadata": {},
     "output_type": "display_data"
    },
    {
     "data": {
      "text/html": [
       "Find logs at: <code>./wandb/run-20240517_215731-juvbjo01/logs</code>"
      ],
      "text/plain": [
       "<IPython.core.display.HTML object>"
      ]
     },
     "metadata": {},
     "output_type": "display_data"
    },
    {
     "name": "stderr",
     "output_type": "stream",
     "text": [
      "\u001b[34m\u001b[1mwandb\u001b[0m: Agent Starting Run: zx9ym5y8 with config:\n",
      "\u001b[34m\u001b[1mwandb\u001b[0m: \tepochs: 9\n",
      "\u001b[34m\u001b[1mwandb\u001b[0m: \tlearning_rate: 5.9183055813707145e-06\n",
      "\u001b[34m\u001b[1mwandb\u001b[0m: \twarmup_steps: 100\n",
      "\u001b[34m\u001b[1mwandb\u001b[0m: \tweight_decay: 0.01\n",
      "Failed to detect the name of this notebook, you can set it manually with the WANDB_NOTEBOOK_NAME environment variable to enable code saving.\n"
     ]
    },
    {
     "data": {
      "text/html": [
       "wandb version 0.17.0 is available!  To upgrade, please run:\n",
       " $ pip install wandb --upgrade"
      ],
      "text/plain": [
       "<IPython.core.display.HTML object>"
      ]
     },
     "metadata": {},
     "output_type": "display_data"
    },
    {
     "data": {
      "text/html": [
       "Tracking run with wandb version 0.16.6"
      ],
      "text/plain": [
       "<IPython.core.display.HTML object>"
      ]
     },
     "metadata": {},
     "output_type": "display_data"
    },
    {
     "data": {
      "text/html": [
       "Run data is saved locally in <code>/home/jovyan/metacognitive-span-categorization/src/classification/wandb/run-20240517_220553-zx9ym5y8</code>"
      ],
      "text/plain": [
       "<IPython.core.display.HTML object>"
      ]
     },
     "metadata": {},
     "output_type": "display_data"
    },
    {
     "data": {
      "text/html": [
       "Syncing run <strong><a href='https://wandb.ai/ai-aloe/metacognitive_classifier/runs/zx9ym5y8' target=\"_blank\">generous-sweep-16</a></strong> to <a href='https://wandb.ai/ai-aloe/metacognitive_classifier' target=\"_blank\">Weights & Biases</a> (<a href='https://wandb.me/run' target=\"_blank\">docs</a>)<br/>Sweep page: <a href='https://wandb.ai/ai-aloe/metacognitive_classifier/sweeps/8ellv5tx' target=\"_blank\">https://wandb.ai/ai-aloe/metacognitive_classifier/sweeps/8ellv5tx</a>"
      ],
      "text/plain": [
       "<IPython.core.display.HTML object>"
      ]
     },
     "metadata": {},
     "output_type": "display_data"
    },
    {
     "data": {
      "text/html": [
       " View project at <a href='https://wandb.ai/ai-aloe/metacognitive_classifier' target=\"_blank\">https://wandb.ai/ai-aloe/metacognitive_classifier</a>"
      ],
      "text/plain": [
       "<IPython.core.display.HTML object>"
      ]
     },
     "metadata": {},
     "output_type": "display_data"
    },
    {
     "data": {
      "text/html": [
       " View sweep at <a href='https://wandb.ai/ai-aloe/metacognitive_classifier/sweeps/8ellv5tx' target=\"_blank\">https://wandb.ai/ai-aloe/metacognitive_classifier/sweeps/8ellv5tx</a>"
      ],
      "text/plain": [
       "<IPython.core.display.HTML object>"
      ]
     },
     "metadata": {},
     "output_type": "display_data"
    },
    {
     "data": {
      "text/html": [
       " View run at <a href='https://wandb.ai/ai-aloe/metacognitive_classifier/runs/zx9ym5y8' target=\"_blank\">https://wandb.ai/ai-aloe/metacognitive_classifier/runs/zx9ym5y8</a>"
      ],
      "text/plain": [
       "<IPython.core.display.HTML object>"
      ]
     },
     "metadata": {},
     "output_type": "display_data"
    },
    {
     "name": "stderr",
     "output_type": "stream",
     "text": [
      "Some weights of DebertaV2ForSequenceClassification were not initialized from the model checkpoint at microsoft/deberta-v3-large and are newly initialized: ['classifier.bias', 'classifier.weight', 'pooler.dense.bias', 'pooler.dense.weight']\n",
      "You should probably TRAIN this model on a down-stream task to be able to use it for predictions and inference.\n",
      "\u001b[34m\u001b[1mwandb\u001b[0m: \u001b[33mWARNING\u001b[0m Config item 'learning_rate' was locked by 'sweep' (ignored update).\n",
      "\u001b[34m\u001b[1mwandb\u001b[0m: \u001b[33mWARNING\u001b[0m Config item 'weight_decay' was locked by 'sweep' (ignored update).\n",
      "\u001b[34m\u001b[1mwandb\u001b[0m: \u001b[33mWARNING\u001b[0m Config item 'warmup_steps' was locked by 'sweep' (ignored update).\n"
     ]
    },
    {
     "data": {
      "text/html": [
       "\n",
       "    <div>\n",
       "      \n",
       "      <progress value='549' max='549' style='width:300px; height:20px; vertical-align: middle;'></progress>\n",
       "      [549/549 07:16, Epoch 9/9]\n",
       "    </div>\n",
       "    <table border=\"1\" class=\"dataframe\">\n",
       "  <thead>\n",
       " <tr style=\"text-align: left;\">\n",
       "      <th>Epoch</th>\n",
       "      <th>Training Loss</th>\n",
       "      <th>Validation Loss</th>\n",
       "      <th>Accuracy</th>\n",
       "      <th>F1</th>\n",
       "      <th>Precision</th>\n",
       "      <th>Recall</th>\n",
       "    </tr>\n",
       "  </thead>\n",
       "  <tbody>\n",
       "    <tr>\n",
       "      <td>1</td>\n",
       "      <td>0.654100</td>\n",
       "      <td>0.554067</td>\n",
       "      <td>0.839139</td>\n",
       "      <td>0.000000</td>\n",
       "      <td>0.000000</td>\n",
       "      <td>0.000000</td>\n",
       "    </tr>\n",
       "    <tr>\n",
       "      <td>2</td>\n",
       "      <td>0.418100</td>\n",
       "      <td>0.347334</td>\n",
       "      <td>0.872951</td>\n",
       "      <td>0.441441</td>\n",
       "      <td>0.748092</td>\n",
       "      <td>0.313099</td>\n",
       "    </tr>\n",
       "    <tr>\n",
       "      <td>3</td>\n",
       "      <td>0.325700</td>\n",
       "      <td>0.301203</td>\n",
       "      <td>0.894980</td>\n",
       "      <td>0.553377</td>\n",
       "      <td>0.869863</td>\n",
       "      <td>0.405751</td>\n",
       "    </tr>\n",
       "    <tr>\n",
       "      <td>4</td>\n",
       "      <td>0.294000</td>\n",
       "      <td>0.286551</td>\n",
       "      <td>0.896516</td>\n",
       "      <td>0.538813</td>\n",
       "      <td>0.944000</td>\n",
       "      <td>0.376997</td>\n",
       "    </tr>\n",
       "    <tr>\n",
       "      <td>5</td>\n",
       "      <td>0.262800</td>\n",
       "      <td>0.259642</td>\n",
       "      <td>0.903176</td>\n",
       "      <td>0.584615</td>\n",
       "      <td>0.936620</td>\n",
       "      <td>0.424920</td>\n",
       "    </tr>\n",
       "    <tr>\n",
       "      <td>6</td>\n",
       "      <td>0.236600</td>\n",
       "      <td>0.248184</td>\n",
       "      <td>0.914959</td>\n",
       "      <td>0.670635</td>\n",
       "      <td>0.884817</td>\n",
       "      <td>0.539936</td>\n",
       "    </tr>\n",
       "    <tr>\n",
       "      <td>7</td>\n",
       "      <td>0.218900</td>\n",
       "      <td>0.240262</td>\n",
       "      <td>0.921107</td>\n",
       "      <td>0.709434</td>\n",
       "      <td>0.866359</td>\n",
       "      <td>0.600639</td>\n",
       "    </tr>\n",
       "    <tr>\n",
       "      <td>8</td>\n",
       "      <td>0.206100</td>\n",
       "      <td>0.231796</td>\n",
       "      <td>0.923668</td>\n",
       "      <td>0.720450</td>\n",
       "      <td>0.872727</td>\n",
       "      <td>0.613419</td>\n",
       "    </tr>\n",
       "    <tr>\n",
       "      <td>9</td>\n",
       "      <td>0.197400</td>\n",
       "      <td>0.229978</td>\n",
       "      <td>0.924693</td>\n",
       "      <td>0.725234</td>\n",
       "      <td>0.873874</td>\n",
       "      <td>0.619808</td>\n",
       "    </tr>\n",
       "  </tbody>\n",
       "</table><p>"
      ],
      "text/plain": [
       "<IPython.core.display.HTML object>"
      ]
     },
     "metadata": {},
     "output_type": "display_data"
    },
    {
     "data": {
      "application/vnd.jupyter.widget-view+json": {
       "model_id": "",
       "version_major": 2,
       "version_minor": 0
      },
      "text/plain": [
       "VBox(children=(Label(value='0.008 MB of 0.008 MB uploaded\\r'), FloatProgress(value=1.0, max=1.0)))"
      ]
     },
     "metadata": {},
     "output_type": "display_data"
    },
    {
     "data": {
      "text/html": [
       "<style>\n",
       "    table.wandb td:nth-child(1) { padding: 0 10px; text-align: left ; width: auto;} td:nth-child(2) {text-align: left ; width: 100%}\n",
       "    .wandb-row { display: flex; flex-direction: row; flex-wrap: wrap; justify-content: flex-start; width: 100% }\n",
       "    .wandb-col { display: flex; flex-direction: column; flex-basis: 100%; flex: 1; padding: 10px; }\n",
       "    </style>\n",
       "<div class=\"wandb-row\"><div class=\"wandb-col\"><h3>Run history:</h3><br/><table class=\"wandb\"><tr><td>eval/accuracy</td><td>▁▄▆▆▆▇███</td></tr><tr><td>eval/f1</td><td>▁▅▆▆▇▇███</td></tr><tr><td>eval/loss</td><td>█▄▃▂▂▁▁▁▁</td></tr><tr><td>eval/precision</td><td>▁▇▇███▇▇▇</td></tr><tr><td>eval/recall</td><td>▁▅▆▅▆▇███</td></tr><tr><td>eval/runtime</td><td>▁█▅▅▄▄▅▅▂</td></tr><tr><td>eval/samples_per_second</td><td>█▁▄▄▅▅▄▄▇</td></tr><tr><td>eval/steps_per_second</td><td>█▁▄▄▅▅▄▄▇</td></tr><tr><td>train/epoch</td><td>▁▁▂▂▃▃▄▄▅▅▅▅▆▆▇▇███</td></tr><tr><td>train/global_step</td><td>▁▁▂▂▃▃▄▄▅▅▅▅▆▆▇▇███</td></tr><tr><td>train/grad_norm</td><td>▅▁▄▄▃█▅▅▄</td></tr><tr><td>train/learning_rate</td><td>▅█▇▆▅▄▃▂▁</td></tr><tr><td>train/loss</td><td>█▄▃▂▂▂▁▁▁</td></tr></table><br/></div><div class=\"wandb-col\"><h3>Run summary:</h3><br/><table class=\"wandb\"><tr><td>eval/accuracy</td><td>0.92469</td></tr><tr><td>eval/f1</td><td>0.72523</td></tr><tr><td>eval/loss</td><td>0.22998</td></tr><tr><td>eval/precision</td><td>0.87387</td></tr><tr><td>eval/recall</td><td>0.61981</td></tr><tr><td>eval/runtime</td><td>2.7657</td></tr><tr><td>eval/samples_per_second</td><td>88.222</td></tr><tr><td>eval/steps_per_second</td><td>5.785</td></tr><tr><td>total_flos</td><td>3104813238276096.0</td></tr><tr><td>train/epoch</td><td>9.0</td></tr><tr><td>train/global_step</td><td>549</td></tr><tr><td>train/grad_norm</td><td>1.5388</td></tr><tr><td>train/learning_rate</td><td>0.0</td></tr><tr><td>train/loss</td><td>0.1974</td></tr><tr><td>train_loss</td><td>0.31263</td></tr><tr><td>train_runtime</td><td>437.2416</td></tr><tr><td>train_samples_per_second</td><td>20.028</td></tr><tr><td>train_steps_per_second</td><td>1.256</td></tr></table><br/></div></div>"
      ],
      "text/plain": [
       "<IPython.core.display.HTML object>"
      ]
     },
     "metadata": {},
     "output_type": "display_data"
    },
    {
     "data": {
      "text/html": [
       " View run <strong style=\"color:#cdcd00\">generous-sweep-16</strong> at: <a href='https://wandb.ai/ai-aloe/metacognitive_classifier/runs/zx9ym5y8' target=\"_blank\">https://wandb.ai/ai-aloe/metacognitive_classifier/runs/zx9ym5y8</a><br/> View project at: <a href='https://wandb.ai/ai-aloe/metacognitive_classifier' target=\"_blank\">https://wandb.ai/ai-aloe/metacognitive_classifier</a><br/>Synced 6 W&B file(s), 0 media file(s), 0 artifact file(s) and 0 other file(s)"
      ],
      "text/plain": [
       "<IPython.core.display.HTML object>"
      ]
     },
     "metadata": {},
     "output_type": "display_data"
    },
    {
     "data": {
      "text/html": [
       "Find logs at: <code>./wandb/run-20240517_220553-zx9ym5y8/logs</code>"
      ],
      "text/plain": [
       "<IPython.core.display.HTML object>"
      ]
     },
     "metadata": {},
     "output_type": "display_data"
    },
    {
     "name": "stderr",
     "output_type": "stream",
     "text": [
      "\u001b[34m\u001b[1mwandb\u001b[0m: Agent Starting Run: mme497yw with config:\n",
      "\u001b[34m\u001b[1mwandb\u001b[0m: \tepochs: 5\n",
      "\u001b[34m\u001b[1mwandb\u001b[0m: \tlearning_rate: 8.037016383176912e-06\n",
      "\u001b[34m\u001b[1mwandb\u001b[0m: \twarmup_steps: 500\n",
      "\u001b[34m\u001b[1mwandb\u001b[0m: \tweight_decay: 0.01\n",
      "Failed to detect the name of this notebook, you can set it manually with the WANDB_NOTEBOOK_NAME environment variable to enable code saving.\n"
     ]
    },
    {
     "data": {
      "text/html": [
       "wandb version 0.17.0 is available!  To upgrade, please run:\n",
       " $ pip install wandb --upgrade"
      ],
      "text/plain": [
       "<IPython.core.display.HTML object>"
      ]
     },
     "metadata": {},
     "output_type": "display_data"
    },
    {
     "data": {
      "text/html": [
       "Tracking run with wandb version 0.16.6"
      ],
      "text/plain": [
       "<IPython.core.display.HTML object>"
      ]
     },
     "metadata": {},
     "output_type": "display_data"
    },
    {
     "data": {
      "text/html": [
       "Run data is saved locally in <code>/home/jovyan/metacognitive-span-categorization/src/classification/wandb/run-20240517_221324-mme497yw</code>"
      ],
      "text/plain": [
       "<IPython.core.display.HTML object>"
      ]
     },
     "metadata": {},
     "output_type": "display_data"
    },
    {
     "data": {
      "text/html": [
       "Syncing run <strong><a href='https://wandb.ai/ai-aloe/metacognitive_classifier/runs/mme497yw' target=\"_blank\">major-sweep-17</a></strong> to <a href='https://wandb.ai/ai-aloe/metacognitive_classifier' target=\"_blank\">Weights & Biases</a> (<a href='https://wandb.me/run' target=\"_blank\">docs</a>)<br/>Sweep page: <a href='https://wandb.ai/ai-aloe/metacognitive_classifier/sweeps/8ellv5tx' target=\"_blank\">https://wandb.ai/ai-aloe/metacognitive_classifier/sweeps/8ellv5tx</a>"
      ],
      "text/plain": [
       "<IPython.core.display.HTML object>"
      ]
     },
     "metadata": {},
     "output_type": "display_data"
    },
    {
     "data": {
      "text/html": [
       " View project at <a href='https://wandb.ai/ai-aloe/metacognitive_classifier' target=\"_blank\">https://wandb.ai/ai-aloe/metacognitive_classifier</a>"
      ],
      "text/plain": [
       "<IPython.core.display.HTML object>"
      ]
     },
     "metadata": {},
     "output_type": "display_data"
    },
    {
     "data": {
      "text/html": [
       " View sweep at <a href='https://wandb.ai/ai-aloe/metacognitive_classifier/sweeps/8ellv5tx' target=\"_blank\">https://wandb.ai/ai-aloe/metacognitive_classifier/sweeps/8ellv5tx</a>"
      ],
      "text/plain": [
       "<IPython.core.display.HTML object>"
      ]
     },
     "metadata": {},
     "output_type": "display_data"
    },
    {
     "data": {
      "text/html": [
       " View run at <a href='https://wandb.ai/ai-aloe/metacognitive_classifier/runs/mme497yw' target=\"_blank\">https://wandb.ai/ai-aloe/metacognitive_classifier/runs/mme497yw</a>"
      ],
      "text/plain": [
       "<IPython.core.display.HTML object>"
      ]
     },
     "metadata": {},
     "output_type": "display_data"
    },
    {
     "name": "stderr",
     "output_type": "stream",
     "text": [
      "Some weights of DebertaV2ForSequenceClassification were not initialized from the model checkpoint at microsoft/deberta-v3-large and are newly initialized: ['classifier.bias', 'classifier.weight', 'pooler.dense.bias', 'pooler.dense.weight']\n",
      "You should probably TRAIN this model on a down-stream task to be able to use it for predictions and inference.\n",
      "\u001b[34m\u001b[1mwandb\u001b[0m: \u001b[33mWARNING\u001b[0m Config item 'learning_rate' was locked by 'sweep' (ignored update).\n",
      "\u001b[34m\u001b[1mwandb\u001b[0m: \u001b[33mWARNING\u001b[0m Config item 'weight_decay' was locked by 'sweep' (ignored update).\n",
      "\u001b[34m\u001b[1mwandb\u001b[0m: \u001b[33mWARNING\u001b[0m Config item 'warmup_steps' was locked by 'sweep' (ignored update).\n"
     ]
    },
    {
     "data": {
      "text/html": [
       "\n",
       "    <div>\n",
       "      \n",
       "      <progress value='305' max='305' style='width:300px; height:20px; vertical-align: middle;'></progress>\n",
       "      [305/305 04:00, Epoch 5/5]\n",
       "    </div>\n",
       "    <table border=\"1\" class=\"dataframe\">\n",
       "  <thead>\n",
       " <tr style=\"text-align: left;\">\n",
       "      <th>Epoch</th>\n",
       "      <th>Training Loss</th>\n",
       "      <th>Validation Loss</th>\n",
       "      <th>Accuracy</th>\n",
       "      <th>F1</th>\n",
       "      <th>Precision</th>\n",
       "      <th>Recall</th>\n",
       "    </tr>\n",
       "  </thead>\n",
       "  <tbody>\n",
       "    <tr>\n",
       "      <td>1</td>\n",
       "      <td>0.646000</td>\n",
       "      <td>0.632627</td>\n",
       "      <td>0.726947</td>\n",
       "      <td>0.043088</td>\n",
       "      <td>0.049180</td>\n",
       "      <td>0.038339</td>\n",
       "    </tr>\n",
       "    <tr>\n",
       "      <td>2</td>\n",
       "      <td>0.572200</td>\n",
       "      <td>0.435233</td>\n",
       "      <td>0.861168</td>\n",
       "      <td>0.299742</td>\n",
       "      <td>0.783784</td>\n",
       "      <td>0.185304</td>\n",
       "    </tr>\n",
       "    <tr>\n",
       "      <td>3</td>\n",
       "      <td>0.382100</td>\n",
       "      <td>0.343814</td>\n",
       "      <td>0.876537</td>\n",
       "      <td>0.488323</td>\n",
       "      <td>0.727848</td>\n",
       "      <td>0.367412</td>\n",
       "    </tr>\n",
       "    <tr>\n",
       "      <td>4</td>\n",
       "      <td>0.328700</td>\n",
       "      <td>0.304704</td>\n",
       "      <td>0.892930</td>\n",
       "      <td>0.538631</td>\n",
       "      <td>0.871429</td>\n",
       "      <td>0.389776</td>\n",
       "    </tr>\n",
       "    <tr>\n",
       "      <td>5</td>\n",
       "      <td>0.290900</td>\n",
       "      <td>0.283351</td>\n",
       "      <td>0.901639</td>\n",
       "      <td>0.591489</td>\n",
       "      <td>0.885350</td>\n",
       "      <td>0.444089</td>\n",
       "    </tr>\n",
       "  </tbody>\n",
       "</table><p>"
      ],
      "text/plain": [
       "<IPython.core.display.HTML object>"
      ]
     },
     "metadata": {},
     "output_type": "display_data"
    },
    {
     "data": {
      "application/vnd.jupyter.widget-view+json": {
       "model_id": "",
       "version_major": 2,
       "version_minor": 0
      },
      "text/plain": [
       "VBox(children=(Label(value='0.008 MB of 0.008 MB uploaded\\r'), FloatProgress(value=1.0, max=1.0)))"
      ]
     },
     "metadata": {},
     "output_type": "display_data"
    },
    {
     "data": {
      "text/html": [
       "<style>\n",
       "    table.wandb td:nth-child(1) { padding: 0 10px; text-align: left ; width: auto;} td:nth-child(2) {text-align: left ; width: 100%}\n",
       "    .wandb-row { display: flex; flex-direction: row; flex-wrap: wrap; justify-content: flex-start; width: 100% }\n",
       "    .wandb-col { display: flex; flex-direction: column; flex-basis: 100%; flex: 1; padding: 10px; }\n",
       "    </style>\n",
       "<div class=\"wandb-row\"><div class=\"wandb-col\"><h3>Run history:</h3><br/><table class=\"wandb\"><tr><td>eval/accuracy</td><td>▁▆▇██</td></tr><tr><td>eval/f1</td><td>▁▄▇▇█</td></tr><tr><td>eval/loss</td><td>█▄▂▁▁</td></tr><tr><td>eval/precision</td><td>▁▇▇██</td></tr><tr><td>eval/recall</td><td>▁▄▇▇█</td></tr><tr><td>eval/runtime</td><td>▄▆▅▁█</td></tr><tr><td>eval/samples_per_second</td><td>▅▃▄█▁</td></tr><tr><td>eval/steps_per_second</td><td>▅▄▅█▁</td></tr><tr><td>train/epoch</td><td>▁▁▃▃▅▅▆▆███</td></tr><tr><td>train/global_step</td><td>▁▁▃▃▅▅▆▆███</td></tr><tr><td>train/grad_norm</td><td>▅▄▁█▅</td></tr><tr><td>train/learning_rate</td><td>▁▃▅▆█</td></tr><tr><td>train/loss</td><td>█▇▃▂▁</td></tr></table><br/></div><div class=\"wandb-col\"><h3>Run summary:</h3><br/><table class=\"wandb\"><tr><td>eval/accuracy</td><td>0.90164</td></tr><tr><td>eval/f1</td><td>0.59149</td></tr><tr><td>eval/loss</td><td>0.28335</td></tr><tr><td>eval/precision</td><td>0.88535</td></tr><tr><td>eval/recall</td><td>0.44409</td></tr><tr><td>eval/runtime</td><td>2.7874</td></tr><tr><td>eval/samples_per_second</td><td>87.536</td></tr><tr><td>eval/steps_per_second</td><td>5.74</td></tr><tr><td>total_flos</td><td>1737574735686144.0</td></tr><tr><td>train/epoch</td><td>5.0</td></tr><tr><td>train/global_step</td><td>305</td></tr><tr><td>train/grad_norm</td><td>1.52389</td></tr><tr><td>train/learning_rate</td><td>0.0</td></tr><tr><td>train/loss</td><td>0.2909</td></tr><tr><td>train_loss</td><td>0.44397</td></tr><tr><td>train_runtime</td><td>241.0927</td></tr><tr><td>train_samples_per_second</td><td>20.179</td></tr><tr><td>train_steps_per_second</td><td>1.265</td></tr></table><br/></div></div>"
      ],
      "text/plain": [
       "<IPython.core.display.HTML object>"
      ]
     },
     "metadata": {},
     "output_type": "display_data"
    },
    {
     "data": {
      "text/html": [
       " View run <strong style=\"color:#cdcd00\">major-sweep-17</strong> at: <a href='https://wandb.ai/ai-aloe/metacognitive_classifier/runs/mme497yw' target=\"_blank\">https://wandb.ai/ai-aloe/metacognitive_classifier/runs/mme497yw</a><br/> View project at: <a href='https://wandb.ai/ai-aloe/metacognitive_classifier' target=\"_blank\">https://wandb.ai/ai-aloe/metacognitive_classifier</a><br/>Synced 6 W&B file(s), 0 media file(s), 0 artifact file(s) and 0 other file(s)"
      ],
      "text/plain": [
       "<IPython.core.display.HTML object>"
      ]
     },
     "metadata": {},
     "output_type": "display_data"
    },
    {
     "data": {
      "text/html": [
       "Find logs at: <code>./wandb/run-20240517_221324-mme497yw/logs</code>"
      ],
      "text/plain": [
       "<IPython.core.display.HTML object>"
      ]
     },
     "metadata": {},
     "output_type": "display_data"
    },
    {
     "name": "stderr",
     "output_type": "stream",
     "text": [
      "\u001b[34m\u001b[1mwandb\u001b[0m: Agent Starting Run: sxyo09pw with config:\n",
      "\u001b[34m\u001b[1mwandb\u001b[0m: \tepochs: 3\n",
      "\u001b[34m\u001b[1mwandb\u001b[0m: \tlearning_rate: 8.02383033686227e-06\n",
      "\u001b[34m\u001b[1mwandb\u001b[0m: \twarmup_steps: 100\n",
      "\u001b[34m\u001b[1mwandb\u001b[0m: \tweight_decay: 0.01\n",
      "Failed to detect the name of this notebook, you can set it manually with the WANDB_NOTEBOOK_NAME environment variable to enable code saving.\n"
     ]
    },
    {
     "data": {
      "text/html": [
       "wandb version 0.17.0 is available!  To upgrade, please run:\n",
       " $ pip install wandb --upgrade"
      ],
      "text/plain": [
       "<IPython.core.display.HTML object>"
      ]
     },
     "metadata": {},
     "output_type": "display_data"
    },
    {
     "data": {
      "text/html": [
       "Tracking run with wandb version 0.16.6"
      ],
      "text/plain": [
       "<IPython.core.display.HTML object>"
      ]
     },
     "metadata": {},
     "output_type": "display_data"
    },
    {
     "data": {
      "text/html": [
       "Run data is saved locally in <code>/home/jovyan/metacognitive-span-categorization/src/classification/wandb/run-20240517_221738-sxyo09pw</code>"
      ],
      "text/plain": [
       "<IPython.core.display.HTML object>"
      ]
     },
     "metadata": {},
     "output_type": "display_data"
    },
    {
     "data": {
      "text/html": [
       "Syncing run <strong><a href='https://wandb.ai/ai-aloe/metacognitive_classifier/runs/sxyo09pw' target=\"_blank\">peach-sweep-18</a></strong> to <a href='https://wandb.ai/ai-aloe/metacognitive_classifier' target=\"_blank\">Weights & Biases</a> (<a href='https://wandb.me/run' target=\"_blank\">docs</a>)<br/>Sweep page: <a href='https://wandb.ai/ai-aloe/metacognitive_classifier/sweeps/8ellv5tx' target=\"_blank\">https://wandb.ai/ai-aloe/metacognitive_classifier/sweeps/8ellv5tx</a>"
      ],
      "text/plain": [
       "<IPython.core.display.HTML object>"
      ]
     },
     "metadata": {},
     "output_type": "display_data"
    },
    {
     "data": {
      "text/html": [
       " View project at <a href='https://wandb.ai/ai-aloe/metacognitive_classifier' target=\"_blank\">https://wandb.ai/ai-aloe/metacognitive_classifier</a>"
      ],
      "text/plain": [
       "<IPython.core.display.HTML object>"
      ]
     },
     "metadata": {},
     "output_type": "display_data"
    },
    {
     "data": {
      "text/html": [
       " View sweep at <a href='https://wandb.ai/ai-aloe/metacognitive_classifier/sweeps/8ellv5tx' target=\"_blank\">https://wandb.ai/ai-aloe/metacognitive_classifier/sweeps/8ellv5tx</a>"
      ],
      "text/plain": [
       "<IPython.core.display.HTML object>"
      ]
     },
     "metadata": {},
     "output_type": "display_data"
    },
    {
     "data": {
      "text/html": [
       " View run at <a href='https://wandb.ai/ai-aloe/metacognitive_classifier/runs/sxyo09pw' target=\"_blank\">https://wandb.ai/ai-aloe/metacognitive_classifier/runs/sxyo09pw</a>"
      ],
      "text/plain": [
       "<IPython.core.display.HTML object>"
      ]
     },
     "metadata": {},
     "output_type": "display_data"
    },
    {
     "name": "stderr",
     "output_type": "stream",
     "text": [
      "Some weights of DebertaV2ForSequenceClassification were not initialized from the model checkpoint at microsoft/deberta-v3-large and are newly initialized: ['classifier.bias', 'classifier.weight', 'pooler.dense.bias', 'pooler.dense.weight']\n",
      "You should probably TRAIN this model on a down-stream task to be able to use it for predictions and inference.\n",
      "\u001b[34m\u001b[1mwandb\u001b[0m: \u001b[33mWARNING\u001b[0m Config item 'learning_rate' was locked by 'sweep' (ignored update).\n",
      "\u001b[34m\u001b[1mwandb\u001b[0m: \u001b[33mWARNING\u001b[0m Config item 'weight_decay' was locked by 'sweep' (ignored update).\n",
      "\u001b[34m\u001b[1mwandb\u001b[0m: \u001b[33mWARNING\u001b[0m Config item 'warmup_steps' was locked by 'sweep' (ignored update).\n"
     ]
    },
    {
     "data": {
      "text/html": [
       "\n",
       "    <div>\n",
       "      \n",
       "      <progress value='183' max='183' style='width:300px; height:20px; vertical-align: middle;'></progress>\n",
       "      [183/183 02:24, Epoch 3/3]\n",
       "    </div>\n",
       "    <table border=\"1\" class=\"dataframe\">\n",
       "  <thead>\n",
       " <tr style=\"text-align: left;\">\n",
       "      <th>Epoch</th>\n",
       "      <th>Training Loss</th>\n",
       "      <th>Validation Loss</th>\n",
       "      <th>Accuracy</th>\n",
       "      <th>F1</th>\n",
       "      <th>Precision</th>\n",
       "      <th>Recall</th>\n",
       "    </tr>\n",
       "  </thead>\n",
       "  <tbody>\n",
       "    <tr>\n",
       "      <td>1</td>\n",
       "      <td>0.616000</td>\n",
       "      <td>0.410101</td>\n",
       "      <td>0.870389</td>\n",
       "      <td>0.512524</td>\n",
       "      <td>0.645631</td>\n",
       "      <td>0.424920</td>\n",
       "    </tr>\n",
       "    <tr>\n",
       "      <td>2</td>\n",
       "      <td>0.359600</td>\n",
       "      <td>0.322151</td>\n",
       "      <td>0.883709</td>\n",
       "      <td>0.515991</td>\n",
       "      <td>0.775641</td>\n",
       "      <td>0.386581</td>\n",
       "    </tr>\n",
       "    <tr>\n",
       "      <td>3</td>\n",
       "      <td>0.312900</td>\n",
       "      <td>0.303012</td>\n",
       "      <td>0.895492</td>\n",
       "      <td>0.550661</td>\n",
       "      <td>0.886525</td>\n",
       "      <td>0.399361</td>\n",
       "    </tr>\n",
       "  </tbody>\n",
       "</table><p>"
      ],
      "text/plain": [
       "<IPython.core.display.HTML object>"
      ]
     },
     "metadata": {},
     "output_type": "display_data"
    },
    {
     "data": {
      "application/vnd.jupyter.widget-view+json": {
       "model_id": "",
       "version_major": 2,
       "version_minor": 0
      },
      "text/plain": [
       "VBox(children=(Label(value='0.008 MB of 0.008 MB uploaded\\r'), FloatProgress(value=1.0, max=1.0)))"
      ]
     },
     "metadata": {},
     "output_type": "display_data"
    },
    {
     "data": {
      "text/html": [
       "<style>\n",
       "    table.wandb td:nth-child(1) { padding: 0 10px; text-align: left ; width: auto;} td:nth-child(2) {text-align: left ; width: 100%}\n",
       "    .wandb-row { display: flex; flex-direction: row; flex-wrap: wrap; justify-content: flex-start; width: 100% }\n",
       "    .wandb-col { display: flex; flex-direction: column; flex-basis: 100%; flex: 1; padding: 10px; }\n",
       "    </style>\n",
       "<div class=\"wandb-row\"><div class=\"wandb-col\"><h3>Run history:</h3><br/><table class=\"wandb\"><tr><td>eval/accuracy</td><td>▁▅█</td></tr><tr><td>eval/f1</td><td>▁▂█</td></tr><tr><td>eval/loss</td><td>█▂▁</td></tr><tr><td>eval/precision</td><td>▁▅█</td></tr><tr><td>eval/recall</td><td>█▁▃</td></tr><tr><td>eval/runtime</td><td>▄▁█</td></tr><tr><td>eval/samples_per_second</td><td>▅█▁</td></tr><tr><td>eval/steps_per_second</td><td>▅█▁</td></tr><tr><td>train/epoch</td><td>▁▁▅▅███</td></tr><tr><td>train/global_step</td><td>▁▁▅▅███</td></tr><tr><td>train/grad_norm</td><td>█▁▄</td></tr><tr><td>train/learning_rate</td><td>▇█▁</td></tr><tr><td>train/loss</td><td>█▂▁</td></tr></table><br/></div><div class=\"wandb-col\"><h3>Run summary:</h3><br/><table class=\"wandb\"><tr><td>eval/accuracy</td><td>0.89549</td></tr><tr><td>eval/f1</td><td>0.55066</td></tr><tr><td>eval/loss</td><td>0.30301</td></tr><tr><td>eval/precision</td><td>0.88652</td></tr><tr><td>eval/recall</td><td>0.39936</td></tr><tr><td>eval/runtime</td><td>2.7741</td></tr><tr><td>eval/samples_per_second</td><td>87.957</td></tr><tr><td>eval/steps_per_second</td><td>5.768</td></tr><tr><td>total_flos</td><td>1046849315715840.0</td></tr><tr><td>train/epoch</td><td>3.0</td></tr><tr><td>train/global_step</td><td>183</td></tr><tr><td>train/grad_norm</td><td>1.38631</td></tr><tr><td>train/learning_rate</td><td>0.0</td></tr><tr><td>train/loss</td><td>0.3129</td></tr><tr><td>train_loss</td><td>0.42951</td></tr><tr><td>train_runtime</td><td>145.2989</td></tr><tr><td>train_samples_per_second</td><td>20.09</td></tr><tr><td>train_steps_per_second</td><td>1.259</td></tr></table><br/></div></div>"
      ],
      "text/plain": [
       "<IPython.core.display.HTML object>"
      ]
     },
     "metadata": {},
     "output_type": "display_data"
    },
    {
     "data": {
      "text/html": [
       " View run <strong style=\"color:#cdcd00\">peach-sweep-18</strong> at: <a href='https://wandb.ai/ai-aloe/metacognitive_classifier/runs/sxyo09pw' target=\"_blank\">https://wandb.ai/ai-aloe/metacognitive_classifier/runs/sxyo09pw</a><br/> View project at: <a href='https://wandb.ai/ai-aloe/metacognitive_classifier' target=\"_blank\">https://wandb.ai/ai-aloe/metacognitive_classifier</a><br/>Synced 6 W&B file(s), 0 media file(s), 0 artifact file(s) and 0 other file(s)"
      ],
      "text/plain": [
       "<IPython.core.display.HTML object>"
      ]
     },
     "metadata": {},
     "output_type": "display_data"
    },
    {
     "data": {
      "text/html": [
       "Find logs at: <code>./wandb/run-20240517_221738-sxyo09pw/logs</code>"
      ],
      "text/plain": [
       "<IPython.core.display.HTML object>"
      ]
     },
     "metadata": {},
     "output_type": "display_data"
    },
    {
     "name": "stderr",
     "output_type": "stream",
     "text": [
      "\u001b[34m\u001b[1mwandb\u001b[0m: Sweep Agent: Waiting for job.\n",
      "\u001b[34m\u001b[1mwandb\u001b[0m: Job received.\n",
      "\u001b[34m\u001b[1mwandb\u001b[0m: Agent Starting Run: ooihww4q with config:\n",
      "\u001b[34m\u001b[1mwandb\u001b[0m: \tepochs: 5\n",
      "\u001b[34m\u001b[1mwandb\u001b[0m: \tlearning_rate: 6.025434790489964e-06\n",
      "\u001b[34m\u001b[1mwandb\u001b[0m: \twarmup_steps: 50\n",
      "\u001b[34m\u001b[1mwandb\u001b[0m: \tweight_decay: 0.01\n",
      "Failed to detect the name of this notebook, you can set it manually with the WANDB_NOTEBOOK_NAME environment variable to enable code saving.\n"
     ]
    },
    {
     "data": {
      "text/html": [
       "wandb version 0.17.0 is available!  To upgrade, please run:\n",
       " $ pip install wandb --upgrade"
      ],
      "text/plain": [
       "<IPython.core.display.HTML object>"
      ]
     },
     "metadata": {},
     "output_type": "display_data"
    },
    {
     "data": {
      "text/html": [
       "Tracking run with wandb version 0.16.6"
      ],
      "text/plain": [
       "<IPython.core.display.HTML object>"
      ]
     },
     "metadata": {},
     "output_type": "display_data"
    },
    {
     "data": {
      "text/html": [
       "Run data is saved locally in <code>/home/jovyan/metacognitive-span-categorization/src/classification/wandb/run-20240517_222026-ooihww4q</code>"
      ],
      "text/plain": [
       "<IPython.core.display.HTML object>"
      ]
     },
     "metadata": {},
     "output_type": "display_data"
    },
    {
     "data": {
      "text/html": [
       "Syncing run <strong><a href='https://wandb.ai/ai-aloe/metacognitive_classifier/runs/ooihww4q' target=\"_blank\">unique-sweep-19</a></strong> to <a href='https://wandb.ai/ai-aloe/metacognitive_classifier' target=\"_blank\">Weights & Biases</a> (<a href='https://wandb.me/run' target=\"_blank\">docs</a>)<br/>Sweep page: <a href='https://wandb.ai/ai-aloe/metacognitive_classifier/sweeps/8ellv5tx' target=\"_blank\">https://wandb.ai/ai-aloe/metacognitive_classifier/sweeps/8ellv5tx</a>"
      ],
      "text/plain": [
       "<IPython.core.display.HTML object>"
      ]
     },
     "metadata": {},
     "output_type": "display_data"
    },
    {
     "data": {
      "text/html": [
       " View project at <a href='https://wandb.ai/ai-aloe/metacognitive_classifier' target=\"_blank\">https://wandb.ai/ai-aloe/metacognitive_classifier</a>"
      ],
      "text/plain": [
       "<IPython.core.display.HTML object>"
      ]
     },
     "metadata": {},
     "output_type": "display_data"
    },
    {
     "data": {
      "text/html": [
       " View sweep at <a href='https://wandb.ai/ai-aloe/metacognitive_classifier/sweeps/8ellv5tx' target=\"_blank\">https://wandb.ai/ai-aloe/metacognitive_classifier/sweeps/8ellv5tx</a>"
      ],
      "text/plain": [
       "<IPython.core.display.HTML object>"
      ]
     },
     "metadata": {},
     "output_type": "display_data"
    },
    {
     "data": {
      "text/html": [
       " View run at <a href='https://wandb.ai/ai-aloe/metacognitive_classifier/runs/ooihww4q' target=\"_blank\">https://wandb.ai/ai-aloe/metacognitive_classifier/runs/ooihww4q</a>"
      ],
      "text/plain": [
       "<IPython.core.display.HTML object>"
      ]
     },
     "metadata": {},
     "output_type": "display_data"
    },
    {
     "name": "stderr",
     "output_type": "stream",
     "text": [
      "Some weights of DebertaV2ForSequenceClassification were not initialized from the model checkpoint at microsoft/deberta-v3-large and are newly initialized: ['classifier.bias', 'classifier.weight', 'pooler.dense.bias', 'pooler.dense.weight']\n",
      "You should probably TRAIN this model on a down-stream task to be able to use it for predictions and inference.\n",
      "\u001b[34m\u001b[1mwandb\u001b[0m: \u001b[33mWARNING\u001b[0m Config item 'learning_rate' was locked by 'sweep' (ignored update).\n",
      "\u001b[34m\u001b[1mwandb\u001b[0m: \u001b[33mWARNING\u001b[0m Config item 'weight_decay' was locked by 'sweep' (ignored update).\n",
      "\u001b[34m\u001b[1mwandb\u001b[0m: \u001b[33mWARNING\u001b[0m Config item 'warmup_steps' was locked by 'sweep' (ignored update).\n"
     ]
    },
    {
     "data": {
      "text/html": [
       "\n",
       "    <div>\n",
       "      \n",
       "      <progress value='305' max='305' style='width:300px; height:20px; vertical-align: middle;'></progress>\n",
       "      [305/305 04:00, Epoch 5/5]\n",
       "    </div>\n",
       "    <table border=\"1\" class=\"dataframe\">\n",
       "  <thead>\n",
       " <tr style=\"text-align: left;\">\n",
       "      <th>Epoch</th>\n",
       "      <th>Training Loss</th>\n",
       "      <th>Validation Loss</th>\n",
       "      <th>Accuracy</th>\n",
       "      <th>F1</th>\n",
       "      <th>Precision</th>\n",
       "      <th>Recall</th>\n",
       "    </tr>\n",
       "  </thead>\n",
       "  <tbody>\n",
       "    <tr>\n",
       "      <td>1</td>\n",
       "      <td>0.545600</td>\n",
       "      <td>0.362388</td>\n",
       "      <td>0.869877</td>\n",
       "      <td>0.507752</td>\n",
       "      <td>0.645320</td>\n",
       "      <td>0.418530</td>\n",
       "    </tr>\n",
       "    <tr>\n",
       "      <td>2</td>\n",
       "      <td>0.347900</td>\n",
       "      <td>0.327492</td>\n",
       "      <td>0.883709</td>\n",
       "      <td>0.522105</td>\n",
       "      <td>0.765432</td>\n",
       "      <td>0.396166</td>\n",
       "    </tr>\n",
       "    <tr>\n",
       "      <td>3</td>\n",
       "      <td>0.314000</td>\n",
       "      <td>0.301947</td>\n",
       "      <td>0.894980</td>\n",
       "      <td>0.547461</td>\n",
       "      <td>0.885714</td>\n",
       "      <td>0.396166</td>\n",
       "    </tr>\n",
       "    <tr>\n",
       "      <td>4</td>\n",
       "      <td>0.286200</td>\n",
       "      <td>0.289060</td>\n",
       "      <td>0.901639</td>\n",
       "      <td>0.586207</td>\n",
       "      <td>0.900662</td>\n",
       "      <td>0.434505</td>\n",
       "    </tr>\n",
       "    <tr>\n",
       "      <td>5</td>\n",
       "      <td>0.270700</td>\n",
       "      <td>0.285154</td>\n",
       "      <td>0.901127</td>\n",
       "      <td>0.581345</td>\n",
       "      <td>0.905405</td>\n",
       "      <td>0.428115</td>\n",
       "    </tr>\n",
       "  </tbody>\n",
       "</table><p>"
      ],
      "text/plain": [
       "<IPython.core.display.HTML object>"
      ]
     },
     "metadata": {},
     "output_type": "display_data"
    },
    {
     "data": {
      "application/vnd.jupyter.widget-view+json": {
       "model_id": "",
       "version_major": 2,
       "version_minor": 0
      },
      "text/plain": [
       "VBox(children=(Label(value='0.008 MB of 0.008 MB uploaded\\r'), FloatProgress(value=1.0, max=1.0)))"
      ]
     },
     "metadata": {},
     "output_type": "display_data"
    },
    {
     "data": {
      "text/html": [
       "<style>\n",
       "    table.wandb td:nth-child(1) { padding: 0 10px; text-align: left ; width: auto;} td:nth-child(2) {text-align: left ; width: 100%}\n",
       "    .wandb-row { display: flex; flex-direction: row; flex-wrap: wrap; justify-content: flex-start; width: 100% }\n",
       "    .wandb-col { display: flex; flex-direction: column; flex-basis: 100%; flex: 1; padding: 10px; }\n",
       "    </style>\n",
       "<div class=\"wandb-row\"><div class=\"wandb-col\"><h3>Run history:</h3><br/><table class=\"wandb\"><tr><td>eval/accuracy</td><td>▁▄▇██</td></tr><tr><td>eval/f1</td><td>▁▂▅██</td></tr><tr><td>eval/loss</td><td>█▅▃▁▁</td></tr><tr><td>eval/precision</td><td>▁▄▇██</td></tr><tr><td>eval/recall</td><td>▅▁▁█▇</td></tr><tr><td>eval/runtime</td><td>▁▅▂█▄</td></tr><tr><td>eval/samples_per_second</td><td>█▄▇▁▅</td></tr><tr><td>eval/steps_per_second</td><td>█▅▇▁▅</td></tr><tr><td>train/epoch</td><td>▁▁▃▃▅▅▆▆███</td></tr><tr><td>train/global_step</td><td>▁▁▃▃▅▅▆▆███</td></tr><tr><td>train/grad_norm</td><td>█▂▁▇▁</td></tr><tr><td>train/learning_rate</td><td>█▆▅▃▁</td></tr><tr><td>train/loss</td><td>█▃▂▁▁</td></tr></table><br/></div><div class=\"wandb-col\"><h3>Run summary:</h3><br/><table class=\"wandb\"><tr><td>eval/accuracy</td><td>0.90113</td></tr><tr><td>eval/f1</td><td>0.58134</td></tr><tr><td>eval/loss</td><td>0.28515</td></tr><tr><td>eval/precision</td><td>0.90541</td></tr><tr><td>eval/recall</td><td>0.42812</td></tr><tr><td>eval/runtime</td><td>2.7724</td></tr><tr><td>eval/samples_per_second</td><td>88.011</td></tr><tr><td>eval/steps_per_second</td><td>5.771</td></tr><tr><td>total_flos</td><td>1737574735686144.0</td></tr><tr><td>train/epoch</td><td>5.0</td></tr><tr><td>train/global_step</td><td>305</td></tr><tr><td>train/grad_norm</td><td>1.38343</td></tr><tr><td>train/learning_rate</td><td>0.0</td></tr><tr><td>train/loss</td><td>0.2707</td></tr><tr><td>train_loss</td><td>0.35287</td></tr><tr><td>train_runtime</td><td>241.0537</td></tr><tr><td>train_samples_per_second</td><td>20.182</td></tr><tr><td>train_steps_per_second</td><td>1.265</td></tr></table><br/></div></div>"
      ],
      "text/plain": [
       "<IPython.core.display.HTML object>"
      ]
     },
     "metadata": {},
     "output_type": "display_data"
    },
    {
     "data": {
      "text/html": [
       " View run <strong style=\"color:#cdcd00\">unique-sweep-19</strong> at: <a href='https://wandb.ai/ai-aloe/metacognitive_classifier/runs/ooihww4q' target=\"_blank\">https://wandb.ai/ai-aloe/metacognitive_classifier/runs/ooihww4q</a><br/> View project at: <a href='https://wandb.ai/ai-aloe/metacognitive_classifier' target=\"_blank\">https://wandb.ai/ai-aloe/metacognitive_classifier</a><br/>Synced 6 W&B file(s), 0 media file(s), 0 artifact file(s) and 0 other file(s)"
      ],
      "text/plain": [
       "<IPython.core.display.HTML object>"
      ]
     },
     "metadata": {},
     "output_type": "display_data"
    },
    {
     "data": {
      "text/html": [
       "Find logs at: <code>./wandb/run-20240517_222026-ooihww4q/logs</code>"
      ],
      "text/plain": [
       "<IPython.core.display.HTML object>"
      ]
     },
     "metadata": {},
     "output_type": "display_data"
    },
    {
     "name": "stderr",
     "output_type": "stream",
     "text": [
      "\u001b[34m\u001b[1mwandb\u001b[0m: Agent Starting Run: uh3amdxu with config:\n",
      "\u001b[34m\u001b[1mwandb\u001b[0m: \tepochs: 9\n",
      "\u001b[34m\u001b[1mwandb\u001b[0m: \tlearning_rate: 7.986301123571913e-06\n",
      "\u001b[34m\u001b[1mwandb\u001b[0m: \twarmup_steps: 100\n",
      "\u001b[34m\u001b[1mwandb\u001b[0m: \tweight_decay: 0.01\n",
      "Failed to detect the name of this notebook, you can set it manually with the WANDB_NOTEBOOK_NAME environment variable to enable code saving.\n"
     ]
    },
    {
     "data": {
      "text/html": [
       "wandb version 0.17.0 is available!  To upgrade, please run:\n",
       " $ pip install wandb --upgrade"
      ],
      "text/plain": [
       "<IPython.core.display.HTML object>"
      ]
     },
     "metadata": {},
     "output_type": "display_data"
    },
    {
     "data": {
      "text/html": [
       "Tracking run with wandb version 0.16.6"
      ],
      "text/plain": [
       "<IPython.core.display.HTML object>"
      ]
     },
     "metadata": {},
     "output_type": "display_data"
    },
    {
     "data": {
      "text/html": [
       "Run data is saved locally in <code>/home/jovyan/metacognitive-span-categorization/src/classification/wandb/run-20240517_222442-uh3amdxu</code>"
      ],
      "text/plain": [
       "<IPython.core.display.HTML object>"
      ]
     },
     "metadata": {},
     "output_type": "display_data"
    },
    {
     "data": {
      "text/html": [
       "Syncing run <strong><a href='https://wandb.ai/ai-aloe/metacognitive_classifier/runs/uh3amdxu' target=\"_blank\">ancient-sweep-20</a></strong> to <a href='https://wandb.ai/ai-aloe/metacognitive_classifier' target=\"_blank\">Weights & Biases</a> (<a href='https://wandb.me/run' target=\"_blank\">docs</a>)<br/>Sweep page: <a href='https://wandb.ai/ai-aloe/metacognitive_classifier/sweeps/8ellv5tx' target=\"_blank\">https://wandb.ai/ai-aloe/metacognitive_classifier/sweeps/8ellv5tx</a>"
      ],
      "text/plain": [
       "<IPython.core.display.HTML object>"
      ]
     },
     "metadata": {},
     "output_type": "display_data"
    },
    {
     "data": {
      "text/html": [
       " View project at <a href='https://wandb.ai/ai-aloe/metacognitive_classifier' target=\"_blank\">https://wandb.ai/ai-aloe/metacognitive_classifier</a>"
      ],
      "text/plain": [
       "<IPython.core.display.HTML object>"
      ]
     },
     "metadata": {},
     "output_type": "display_data"
    },
    {
     "data": {
      "text/html": [
       " View sweep at <a href='https://wandb.ai/ai-aloe/metacognitive_classifier/sweeps/8ellv5tx' target=\"_blank\">https://wandb.ai/ai-aloe/metacognitive_classifier/sweeps/8ellv5tx</a>"
      ],
      "text/plain": [
       "<IPython.core.display.HTML object>"
      ]
     },
     "metadata": {},
     "output_type": "display_data"
    },
    {
     "data": {
      "text/html": [
       " View run at <a href='https://wandb.ai/ai-aloe/metacognitive_classifier/runs/uh3amdxu' target=\"_blank\">https://wandb.ai/ai-aloe/metacognitive_classifier/runs/uh3amdxu</a>"
      ],
      "text/plain": [
       "<IPython.core.display.HTML object>"
      ]
     },
     "metadata": {},
     "output_type": "display_data"
    },
    {
     "name": "stderr",
     "output_type": "stream",
     "text": [
      "Some weights of DebertaV2ForSequenceClassification were not initialized from the model checkpoint at microsoft/deberta-v3-large and are newly initialized: ['classifier.bias', 'classifier.weight', 'pooler.dense.bias', 'pooler.dense.weight']\n",
      "You should probably TRAIN this model on a down-stream task to be able to use it for predictions and inference.\n",
      "\u001b[34m\u001b[1mwandb\u001b[0m: \u001b[33mWARNING\u001b[0m Config item 'learning_rate' was locked by 'sweep' (ignored update).\n",
      "\u001b[34m\u001b[1mwandb\u001b[0m: \u001b[33mWARNING\u001b[0m Config item 'weight_decay' was locked by 'sweep' (ignored update).\n",
      "\u001b[34m\u001b[1mwandb\u001b[0m: \u001b[33mWARNING\u001b[0m Config item 'warmup_steps' was locked by 'sweep' (ignored update).\n"
     ]
    },
    {
     "data": {
      "text/html": [
       "\n",
       "    <div>\n",
       "      \n",
       "      <progress value='549' max='549' style='width:300px; height:20px; vertical-align: middle;'></progress>\n",
       "      [549/549 07:16, Epoch 9/9]\n",
       "    </div>\n",
       "    <table border=\"1\" class=\"dataframe\">\n",
       "  <thead>\n",
       " <tr style=\"text-align: left;\">\n",
       "      <th>Epoch</th>\n",
       "      <th>Training Loss</th>\n",
       "      <th>Validation Loss</th>\n",
       "      <th>Accuracy</th>\n",
       "      <th>F1</th>\n",
       "      <th>Precision</th>\n",
       "      <th>Recall</th>\n",
       "    </tr>\n",
       "  </thead>\n",
       "  <tbody>\n",
       "    <tr>\n",
       "      <td>1</td>\n",
       "      <td>0.616400</td>\n",
       "      <td>0.410839</td>\n",
       "      <td>0.872951</td>\n",
       "      <td>0.515625</td>\n",
       "      <td>0.663317</td>\n",
       "      <td>0.421725</td>\n",
       "    </tr>\n",
       "    <tr>\n",
       "      <td>2</td>\n",
       "      <td>0.359800</td>\n",
       "      <td>0.320977</td>\n",
       "      <td>0.885758</td>\n",
       "      <td>0.512035</td>\n",
       "      <td>0.812500</td>\n",
       "      <td>0.373802</td>\n",
       "    </tr>\n",
       "    <tr>\n",
       "      <td>3</td>\n",
       "      <td>0.305700</td>\n",
       "      <td>0.289577</td>\n",
       "      <td>0.899078</td>\n",
       "      <td>0.561247</td>\n",
       "      <td>0.926471</td>\n",
       "      <td>0.402556</td>\n",
       "    </tr>\n",
       "    <tr>\n",
       "      <td>4</td>\n",
       "      <td>0.263200</td>\n",
       "      <td>0.260395</td>\n",
       "      <td>0.906762</td>\n",
       "      <td>0.614407</td>\n",
       "      <td>0.911950</td>\n",
       "      <td>0.463259</td>\n",
       "    </tr>\n",
       "    <tr>\n",
       "      <td>5</td>\n",
       "      <td>0.224900</td>\n",
       "      <td>0.240441</td>\n",
       "      <td>0.920594</td>\n",
       "      <td>0.704762</td>\n",
       "      <td>0.872642</td>\n",
       "      <td>0.591054</td>\n",
       "    </tr>\n",
       "    <tr>\n",
       "      <td>6</td>\n",
       "      <td>0.201800</td>\n",
       "      <td>0.231387</td>\n",
       "      <td>0.918545</td>\n",
       "      <td>0.720562</td>\n",
       "      <td>0.800781</td>\n",
       "      <td>0.654952</td>\n",
       "    </tr>\n",
       "    <tr>\n",
       "      <td>7</td>\n",
       "      <td>0.181000</td>\n",
       "      <td>0.214021</td>\n",
       "      <td>0.928279</td>\n",
       "      <td>0.751773</td>\n",
       "      <td>0.844622</td>\n",
       "      <td>0.677316</td>\n",
       "    </tr>\n",
       "    <tr>\n",
       "      <td>8</td>\n",
       "      <td>0.165500</td>\n",
       "      <td>0.201543</td>\n",
       "      <td>0.931352</td>\n",
       "      <td>0.755474</td>\n",
       "      <td>0.880851</td>\n",
       "      <td>0.661342</td>\n",
       "    </tr>\n",
       "    <tr>\n",
       "      <td>9</td>\n",
       "      <td>0.156800</td>\n",
       "      <td>0.200660</td>\n",
       "      <td>0.930840</td>\n",
       "      <td>0.754991</td>\n",
       "      <td>0.873950</td>\n",
       "      <td>0.664537</td>\n",
       "    </tr>\n",
       "  </tbody>\n",
       "</table><p>"
      ],
      "text/plain": [
       "<IPython.core.display.HTML object>"
      ]
     },
     "metadata": {},
     "output_type": "display_data"
    },
    {
     "data": {
      "application/vnd.jupyter.widget-view+json": {
       "model_id": "",
       "version_major": 2,
       "version_minor": 0
      },
      "text/plain": [
       "VBox(children=(Label(value='0.008 MB of 0.008 MB uploaded\\r'), FloatProgress(value=1.0, max=1.0)))"
      ]
     },
     "metadata": {},
     "output_type": "display_data"
    },
    {
     "data": {
      "text/html": [
       "<style>\n",
       "    table.wandb td:nth-child(1) { padding: 0 10px; text-align: left ; width: auto;} td:nth-child(2) {text-align: left ; width: 100%}\n",
       "    .wandb-row { display: flex; flex-direction: row; flex-wrap: wrap; justify-content: flex-start; width: 100% }\n",
       "    .wandb-col { display: flex; flex-direction: column; flex-basis: 100%; flex: 1; padding: 10px; }\n",
       "    </style>\n",
       "<div class=\"wandb-row\"><div class=\"wandb-col\"><h3>Run history:</h3><br/><table class=\"wandb\"><tr><td>eval/accuracy</td><td>▁▃▄▅▇▆███</td></tr><tr><td>eval/f1</td><td>▁▁▂▄▇▇███</td></tr><tr><td>eval/loss</td><td>█▅▄▃▂▂▁▁▁</td></tr><tr><td>eval/precision</td><td>▁▅██▇▅▆▇▇</td></tr><tr><td>eval/recall</td><td>▂▁▂▃▆▇███</td></tr><tr><td>eval/runtime</td><td>▁▄█▅▄█▇▂▃</td></tr><tr><td>eval/samples_per_second</td><td>█▅▁▄▅▁▂▇▆</td></tr><tr><td>eval/steps_per_second</td><td>█▅▁▄▅▁▂▇▆</td></tr><tr><td>train/epoch</td><td>▁▁▂▂▃▃▄▄▅▅▅▅▆▆▇▇███</td></tr><tr><td>train/global_step</td><td>▁▁▂▂▃▃▄▄▅▅▅▅▆▆▇▇███</td></tr><tr><td>train/grad_norm</td><td>▅▁▃▁▂█▅▃▅</td></tr><tr><td>train/learning_rate</td><td>▅█▇▆▅▄▃▂▁</td></tr><tr><td>train/loss</td><td>█▄▃▃▂▂▁▁▁</td></tr></table><br/></div><div class=\"wandb-col\"><h3>Run summary:</h3><br/><table class=\"wandb\"><tr><td>eval/accuracy</td><td>0.93084</td></tr><tr><td>eval/f1</td><td>0.75499</td></tr><tr><td>eval/loss</td><td>0.20066</td></tr><tr><td>eval/precision</td><td>0.87395</td></tr><tr><td>eval/recall</td><td>0.66454</td></tr><tr><td>eval/runtime</td><td>2.7698</td></tr><tr><td>eval/samples_per_second</td><td>88.092</td></tr><tr><td>eval/steps_per_second</td><td>5.777</td></tr><tr><td>total_flos</td><td>3104813238276096.0</td></tr><tr><td>train/epoch</td><td>9.0</td></tr><tr><td>train/global_step</td><td>549</td></tr><tr><td>train/grad_norm</td><td>1.63331</td></tr><tr><td>train/learning_rate</td><td>0.0</td></tr><tr><td>train/loss</td><td>0.1568</td></tr><tr><td>train_loss</td><td>0.27501</td></tr><tr><td>train_runtime</td><td>437.0053</td></tr><tr><td>train_samples_per_second</td><td>20.039</td></tr><tr><td>train_steps_per_second</td><td>1.256</td></tr></table><br/></div></div>"
      ],
      "text/plain": [
       "<IPython.core.display.HTML object>"
      ]
     },
     "metadata": {},
     "output_type": "display_data"
    },
    {
     "data": {
      "text/html": [
       " View run <strong style=\"color:#cdcd00\">ancient-sweep-20</strong> at: <a href='https://wandb.ai/ai-aloe/metacognitive_classifier/runs/uh3amdxu' target=\"_blank\">https://wandb.ai/ai-aloe/metacognitive_classifier/runs/uh3amdxu</a><br/> View project at: <a href='https://wandb.ai/ai-aloe/metacognitive_classifier' target=\"_blank\">https://wandb.ai/ai-aloe/metacognitive_classifier</a><br/>Synced 6 W&B file(s), 0 media file(s), 0 artifact file(s) and 0 other file(s)"
      ],
      "text/plain": [
       "<IPython.core.display.HTML object>"
      ]
     },
     "metadata": {},
     "output_type": "display_data"
    },
    {
     "data": {
      "text/html": [
       "Find logs at: <code>./wandb/run-20240517_222442-uh3amdxu/logs</code>"
      ],
      "text/plain": [
       "<IPython.core.display.HTML object>"
      ]
     },
     "metadata": {},
     "output_type": "display_data"
    },
    {
     "name": "stderr",
     "output_type": "stream",
     "text": [
      "\u001b[34m\u001b[1mwandb\u001b[0m: Agent Starting Run: wm3w8nyr with config:\n",
      "\u001b[34m\u001b[1mwandb\u001b[0m: \tepochs: 3\n",
      "\u001b[34m\u001b[1mwandb\u001b[0m: \tlearning_rate: 5.167044915740036e-06\n",
      "\u001b[34m\u001b[1mwandb\u001b[0m: \twarmup_steps: 1000\n",
      "\u001b[34m\u001b[1mwandb\u001b[0m: \tweight_decay: 0.01\n",
      "Failed to detect the name of this notebook, you can set it manually with the WANDB_NOTEBOOK_NAME environment variable to enable code saving.\n"
     ]
    },
    {
     "data": {
      "text/html": [
       "wandb version 0.17.0 is available!  To upgrade, please run:\n",
       " $ pip install wandb --upgrade"
      ],
      "text/plain": [
       "<IPython.core.display.HTML object>"
      ]
     },
     "metadata": {},
     "output_type": "display_data"
    },
    {
     "data": {
      "text/html": [
       "Tracking run with wandb version 0.16.6"
      ],
      "text/plain": [
       "<IPython.core.display.HTML object>"
      ]
     },
     "metadata": {},
     "output_type": "display_data"
    },
    {
     "data": {
      "text/html": [
       "Run data is saved locally in <code>/home/jovyan/metacognitive-span-categorization/src/classification/wandb/run-20240517_223213-wm3w8nyr</code>"
      ],
      "text/plain": [
       "<IPython.core.display.HTML object>"
      ]
     },
     "metadata": {},
     "output_type": "display_data"
    },
    {
     "data": {
      "text/html": [
       "Syncing run <strong><a href='https://wandb.ai/ai-aloe/metacognitive_classifier/runs/wm3w8nyr' target=\"_blank\">snowy-sweep-21</a></strong> to <a href='https://wandb.ai/ai-aloe/metacognitive_classifier' target=\"_blank\">Weights & Biases</a> (<a href='https://wandb.me/run' target=\"_blank\">docs</a>)<br/>Sweep page: <a href='https://wandb.ai/ai-aloe/metacognitive_classifier/sweeps/8ellv5tx' target=\"_blank\">https://wandb.ai/ai-aloe/metacognitive_classifier/sweeps/8ellv5tx</a>"
      ],
      "text/plain": [
       "<IPython.core.display.HTML object>"
      ]
     },
     "metadata": {},
     "output_type": "display_data"
    },
    {
     "data": {
      "text/html": [
       " View project at <a href='https://wandb.ai/ai-aloe/metacognitive_classifier' target=\"_blank\">https://wandb.ai/ai-aloe/metacognitive_classifier</a>"
      ],
      "text/plain": [
       "<IPython.core.display.HTML object>"
      ]
     },
     "metadata": {},
     "output_type": "display_data"
    },
    {
     "data": {
      "text/html": [
       " View sweep at <a href='https://wandb.ai/ai-aloe/metacognitive_classifier/sweeps/8ellv5tx' target=\"_blank\">https://wandb.ai/ai-aloe/metacognitive_classifier/sweeps/8ellv5tx</a>"
      ],
      "text/plain": [
       "<IPython.core.display.HTML object>"
      ]
     },
     "metadata": {},
     "output_type": "display_data"
    },
    {
     "data": {
      "text/html": [
       " View run at <a href='https://wandb.ai/ai-aloe/metacognitive_classifier/runs/wm3w8nyr' target=\"_blank\">https://wandb.ai/ai-aloe/metacognitive_classifier/runs/wm3w8nyr</a>"
      ],
      "text/plain": [
       "<IPython.core.display.HTML object>"
      ]
     },
     "metadata": {},
     "output_type": "display_data"
    },
    {
     "name": "stderr",
     "output_type": "stream",
     "text": [
      "Some weights of DebertaV2ForSequenceClassification were not initialized from the model checkpoint at microsoft/deberta-v3-large and are newly initialized: ['classifier.bias', 'classifier.weight', 'pooler.dense.bias', 'pooler.dense.weight']\n",
      "You should probably TRAIN this model on a down-stream task to be able to use it for predictions and inference.\n",
      "\u001b[34m\u001b[1mwandb\u001b[0m: \u001b[33mWARNING\u001b[0m Config item 'learning_rate' was locked by 'sweep' (ignored update).\n",
      "\u001b[34m\u001b[1mwandb\u001b[0m: \u001b[33mWARNING\u001b[0m Config item 'weight_decay' was locked by 'sweep' (ignored update).\n",
      "\u001b[34m\u001b[1mwandb\u001b[0m: \u001b[33mWARNING\u001b[0m Config item 'warmup_steps' was locked by 'sweep' (ignored update).\n"
     ]
    },
    {
     "data": {
      "text/html": [
       "\n",
       "    <div>\n",
       "      \n",
       "      <progress value='183' max='183' style='width:300px; height:20px; vertical-align: middle;'></progress>\n",
       "      [183/183 02:24, Epoch 3/3]\n",
       "    </div>\n",
       "    <table border=\"1\" class=\"dataframe\">\n",
       "  <thead>\n",
       " <tr style=\"text-align: left;\">\n",
       "      <th>Epoch</th>\n",
       "      <th>Training Loss</th>\n",
       "      <th>Validation Loss</th>\n",
       "      <th>Accuracy</th>\n",
       "      <th>F1</th>\n",
       "      <th>Precision</th>\n",
       "      <th>Recall</th>\n",
       "    </tr>\n",
       "  </thead>\n",
       "  <tbody>\n",
       "    <tr>\n",
       "      <td>1</td>\n",
       "      <td>0.649300</td>\n",
       "      <td>0.643750</td>\n",
       "      <td>0.726947</td>\n",
       "      <td>0.043088</td>\n",
       "      <td>0.049180</td>\n",
       "      <td>0.038339</td>\n",
       "    </tr>\n",
       "    <tr>\n",
       "      <td>2</td>\n",
       "      <td>0.639200</td>\n",
       "      <td>0.625775</td>\n",
       "      <td>0.727971</td>\n",
       "      <td>0.043243</td>\n",
       "      <td>0.049587</td>\n",
       "      <td>0.038339</td>\n",
       "    </tr>\n",
       "    <tr>\n",
       "      <td>3</td>\n",
       "      <td>0.586000</td>\n",
       "      <td>0.488127</td>\n",
       "      <td>0.839652</td>\n",
       "      <td>0.000000</td>\n",
       "      <td>0.000000</td>\n",
       "      <td>0.000000</td>\n",
       "    </tr>\n",
       "  </tbody>\n",
       "</table><p>"
      ],
      "text/plain": [
       "<IPython.core.display.HTML object>"
      ]
     },
     "metadata": {},
     "output_type": "display_data"
    },
    {
     "name": "stderr",
     "output_type": "stream",
     "text": [
      "/home/jovyan/conda_envs/wes-env/lib/python3.12/site-packages/sklearn/metrics/_classification.py:1509: UndefinedMetricWarning: Precision is ill-defined and being set to 0.0 due to no predicted samples. Use `zero_division` parameter to control this behavior.\n",
      "  _warn_prf(average, modifier, f\"{metric.capitalize()} is\", len(result))\n"
     ]
    },
    {
     "data": {
      "application/vnd.jupyter.widget-view+json": {
       "model_id": "",
       "version_major": 2,
       "version_minor": 0
      },
      "text/plain": [
       "VBox(children=(Label(value='0.008 MB of 0.008 MB uploaded\\r'), FloatProgress(value=1.0, max=1.0)))"
      ]
     },
     "metadata": {},
     "output_type": "display_data"
    },
    {
     "data": {
      "text/html": [
       "<style>\n",
       "    table.wandb td:nth-child(1) { padding: 0 10px; text-align: left ; width: auto;} td:nth-child(2) {text-align: left ; width: 100%}\n",
       "    .wandb-row { display: flex; flex-direction: row; flex-wrap: wrap; justify-content: flex-start; width: 100% }\n",
       "    .wandb-col { display: flex; flex-direction: column; flex-basis: 100%; flex: 1; padding: 10px; }\n",
       "    </style>\n",
       "<div class=\"wandb-row\"><div class=\"wandb-col\"><h3>Run history:</h3><br/><table class=\"wandb\"><tr><td>eval/accuracy</td><td>▁▁█</td></tr><tr><td>eval/f1</td><td>██▁</td></tr><tr><td>eval/loss</td><td>█▇▁</td></tr><tr><td>eval/precision</td><td>██▁</td></tr><tr><td>eval/recall</td><td>██▁</td></tr><tr><td>eval/runtime</td><td>█▁▁</td></tr><tr><td>eval/samples_per_second</td><td>▁██</td></tr><tr><td>eval/steps_per_second</td><td>▁██</td></tr><tr><td>train/epoch</td><td>▁▁▅▅███</td></tr><tr><td>train/global_step</td><td>▁▁▅▅███</td></tr><tr><td>train/grad_norm</td><td>▅█▁</td></tr><tr><td>train/learning_rate</td><td>▁▄█</td></tr><tr><td>train/loss</td><td>█▇▁</td></tr></table><br/></div><div class=\"wandb-col\"><h3>Run summary:</h3><br/><table class=\"wandb\"><tr><td>eval/accuracy</td><td>0.83965</td></tr><tr><td>eval/f1</td><td>0.0</td></tr><tr><td>eval/loss</td><td>0.48813</td></tr><tr><td>eval/precision</td><td>0.0</td></tr><tr><td>eval/recall</td><td>0.0</td></tr><tr><td>eval/runtime</td><td>2.7752</td></tr><tr><td>eval/samples_per_second</td><td>87.922</td></tr><tr><td>eval/steps_per_second</td><td>5.765</td></tr><tr><td>total_flos</td><td>1046849315715840.0</td></tr><tr><td>train/epoch</td><td>3.0</td></tr><tr><td>train/global_step</td><td>183</td></tr><tr><td>train/grad_norm</td><td>1.41887</td></tr><tr><td>train/learning_rate</td><td>0.0</td></tr><tr><td>train/loss</td><td>0.586</td></tr><tr><td>train_loss</td><td>0.62484</td></tr><tr><td>train_runtime</td><td>145.0923</td></tr><tr><td>train_samples_per_second</td><td>20.118</td></tr><tr><td>train_steps_per_second</td><td>1.261</td></tr></table><br/></div></div>"
      ],
      "text/plain": [
       "<IPython.core.display.HTML object>"
      ]
     },
     "metadata": {},
     "output_type": "display_data"
    },
    {
     "data": {
      "text/html": [
       " View run <strong style=\"color:#cdcd00\">snowy-sweep-21</strong> at: <a href='https://wandb.ai/ai-aloe/metacognitive_classifier/runs/wm3w8nyr' target=\"_blank\">https://wandb.ai/ai-aloe/metacognitive_classifier/runs/wm3w8nyr</a><br/> View project at: <a href='https://wandb.ai/ai-aloe/metacognitive_classifier' target=\"_blank\">https://wandb.ai/ai-aloe/metacognitive_classifier</a><br/>Synced 6 W&B file(s), 0 media file(s), 0 artifact file(s) and 0 other file(s)"
      ],
      "text/plain": [
       "<IPython.core.display.HTML object>"
      ]
     },
     "metadata": {},
     "output_type": "display_data"
    },
    {
     "data": {
      "text/html": [
       "Find logs at: <code>./wandb/run-20240517_223213-wm3w8nyr/logs</code>"
      ],
      "text/plain": [
       "<IPython.core.display.HTML object>"
      ]
     },
     "metadata": {},
     "output_type": "display_data"
    },
    {
     "name": "stderr",
     "output_type": "stream",
     "text": [
      "\u001b[34m\u001b[1mwandb\u001b[0m: Sweep Agent: Waiting for job.\n",
      "\u001b[34m\u001b[1mwandb\u001b[0m: Job received.\n",
      "\u001b[34m\u001b[1mwandb\u001b[0m: Agent Starting Run: 4dralhbj with config:\n",
      "\u001b[34m\u001b[1mwandb\u001b[0m: \tepochs: 5\n",
      "\u001b[34m\u001b[1mwandb\u001b[0m: \tlearning_rate: 6.462772644232436e-06\n",
      "\u001b[34m\u001b[1mwandb\u001b[0m: \twarmup_steps: 500\n",
      "\u001b[34m\u001b[1mwandb\u001b[0m: \tweight_decay: 0.01\n",
      "Failed to detect the name of this notebook, you can set it manually with the WANDB_NOTEBOOK_NAME environment variable to enable code saving.\n"
     ]
    },
    {
     "data": {
      "text/html": [
       "wandb version 0.17.0 is available!  To upgrade, please run:\n",
       " $ pip install wandb --upgrade"
      ],
      "text/plain": [
       "<IPython.core.display.HTML object>"
      ]
     },
     "metadata": {},
     "output_type": "display_data"
    },
    {
     "data": {
      "text/html": [
       "Tracking run with wandb version 0.16.6"
      ],
      "text/plain": [
       "<IPython.core.display.HTML object>"
      ]
     },
     "metadata": {},
     "output_type": "display_data"
    },
    {
     "data": {
      "text/html": [
       "Run data is saved locally in <code>/home/jovyan/metacognitive-span-categorization/src/classification/wandb/run-20240517_223504-4dralhbj</code>"
      ],
      "text/plain": [
       "<IPython.core.display.HTML object>"
      ]
     },
     "metadata": {},
     "output_type": "display_data"
    },
    {
     "data": {
      "text/html": [
       "Syncing run <strong><a href='https://wandb.ai/ai-aloe/metacognitive_classifier/runs/4dralhbj' target=\"_blank\">floral-sweep-22</a></strong> to <a href='https://wandb.ai/ai-aloe/metacognitive_classifier' target=\"_blank\">Weights & Biases</a> (<a href='https://wandb.me/run' target=\"_blank\">docs</a>)<br/>Sweep page: <a href='https://wandb.ai/ai-aloe/metacognitive_classifier/sweeps/8ellv5tx' target=\"_blank\">https://wandb.ai/ai-aloe/metacognitive_classifier/sweeps/8ellv5tx</a>"
      ],
      "text/plain": [
       "<IPython.core.display.HTML object>"
      ]
     },
     "metadata": {},
     "output_type": "display_data"
    },
    {
     "data": {
      "text/html": [
       " View project at <a href='https://wandb.ai/ai-aloe/metacognitive_classifier' target=\"_blank\">https://wandb.ai/ai-aloe/metacognitive_classifier</a>"
      ],
      "text/plain": [
       "<IPython.core.display.HTML object>"
      ]
     },
     "metadata": {},
     "output_type": "display_data"
    },
    {
     "data": {
      "text/html": [
       " View sweep at <a href='https://wandb.ai/ai-aloe/metacognitive_classifier/sweeps/8ellv5tx' target=\"_blank\">https://wandb.ai/ai-aloe/metacognitive_classifier/sweeps/8ellv5tx</a>"
      ],
      "text/plain": [
       "<IPython.core.display.HTML object>"
      ]
     },
     "metadata": {},
     "output_type": "display_data"
    },
    {
     "data": {
      "text/html": [
       " View run at <a href='https://wandb.ai/ai-aloe/metacognitive_classifier/runs/4dralhbj' target=\"_blank\">https://wandb.ai/ai-aloe/metacognitive_classifier/runs/4dralhbj</a>"
      ],
      "text/plain": [
       "<IPython.core.display.HTML object>"
      ]
     },
     "metadata": {},
     "output_type": "display_data"
    },
    {
     "name": "stderr",
     "output_type": "stream",
     "text": [
      "Some weights of DebertaV2ForSequenceClassification were not initialized from the model checkpoint at microsoft/deberta-v3-large and are newly initialized: ['classifier.bias', 'classifier.weight', 'pooler.dense.bias', 'pooler.dense.weight']\n",
      "You should probably TRAIN this model on a down-stream task to be able to use it for predictions and inference.\n",
      "\u001b[34m\u001b[1mwandb\u001b[0m: \u001b[33mWARNING\u001b[0m Config item 'learning_rate' was locked by 'sweep' (ignored update).\n",
      "\u001b[34m\u001b[1mwandb\u001b[0m: \u001b[33mWARNING\u001b[0m Config item 'weight_decay' was locked by 'sweep' (ignored update).\n",
      "\u001b[34m\u001b[1mwandb\u001b[0m: \u001b[33mWARNING\u001b[0m Config item 'warmup_steps' was locked by 'sweep' (ignored update).\n"
     ]
    },
    {
     "data": {
      "text/html": [
       "\n",
       "    <div>\n",
       "      \n",
       "      <progress value='305' max='305' style='width:300px; height:20px; vertical-align: middle;'></progress>\n",
       "      [305/305 04:00, Epoch 5/5]\n",
       "    </div>\n",
       "    <table border=\"1\" class=\"dataframe\">\n",
       "  <thead>\n",
       " <tr style=\"text-align: left;\">\n",
       "      <th>Epoch</th>\n",
       "      <th>Training Loss</th>\n",
       "      <th>Validation Loss</th>\n",
       "      <th>Accuracy</th>\n",
       "      <th>F1</th>\n",
       "      <th>Precision</th>\n",
       "      <th>Recall</th>\n",
       "    </tr>\n",
       "  </thead>\n",
       "  <tbody>\n",
       "    <tr>\n",
       "      <td>1</td>\n",
       "      <td>0.637300</td>\n",
       "      <td>0.614061</td>\n",
       "      <td>0.855020</td>\n",
       "      <td>0.491921</td>\n",
       "      <td>0.561475</td>\n",
       "      <td>0.437700</td>\n",
       "    </tr>\n",
       "    <tr>\n",
       "      <td>2</td>\n",
       "      <td>0.535300</td>\n",
       "      <td>0.408613</td>\n",
       "      <td>0.859119</td>\n",
       "      <td>0.499089</td>\n",
       "      <td>0.580508</td>\n",
       "      <td>0.437700</td>\n",
       "    </tr>\n",
       "    <tr>\n",
       "      <td>3</td>\n",
       "      <td>0.382100</td>\n",
       "      <td>0.346853</td>\n",
       "      <td>0.878074</td>\n",
       "      <td>0.504167</td>\n",
       "      <td>0.724551</td>\n",
       "      <td>0.386581</td>\n",
       "    </tr>\n",
       "    <tr>\n",
       "      <td>4</td>\n",
       "      <td>0.339300</td>\n",
       "      <td>0.323683</td>\n",
       "      <td>0.882684</td>\n",
       "      <td>0.466200</td>\n",
       "      <td>0.862069</td>\n",
       "      <td>0.319489</td>\n",
       "    </tr>\n",
       "    <tr>\n",
       "      <td>5</td>\n",
       "      <td>0.308700</td>\n",
       "      <td>0.309609</td>\n",
       "      <td>0.889857</td>\n",
       "      <td>0.549266</td>\n",
       "      <td>0.798780</td>\n",
       "      <td>0.418530</td>\n",
       "    </tr>\n",
       "  </tbody>\n",
       "</table><p>"
      ],
      "text/plain": [
       "<IPython.core.display.HTML object>"
      ]
     },
     "metadata": {},
     "output_type": "display_data"
    },
    {
     "data": {
      "application/vnd.jupyter.widget-view+json": {
       "model_id": "",
       "version_major": 2,
       "version_minor": 0
      },
      "text/plain": [
       "VBox(children=(Label(value='0.008 MB of 0.008 MB uploaded\\r'), FloatProgress(value=1.0, max=1.0)))"
      ]
     },
     "metadata": {},
     "output_type": "display_data"
    },
    {
     "data": {
      "text/html": [
       "<style>\n",
       "    table.wandb td:nth-child(1) { padding: 0 10px; text-align: left ; width: auto;} td:nth-child(2) {text-align: left ; width: 100%}\n",
       "    .wandb-row { display: flex; flex-direction: row; flex-wrap: wrap; justify-content: flex-start; width: 100% }\n",
       "    .wandb-col { display: flex; flex-direction: column; flex-basis: 100%; flex: 1; padding: 10px; }\n",
       "    </style>\n",
       "<div class=\"wandb-row\"><div class=\"wandb-col\"><h3>Run history:</h3><br/><table class=\"wandb\"><tr><td>eval/accuracy</td><td>▁▂▆▇█</td></tr><tr><td>eval/f1</td><td>▃▄▄▁█</td></tr><tr><td>eval/loss</td><td>█▃▂▁▁</td></tr><tr><td>eval/precision</td><td>▁▁▅█▇</td></tr><tr><td>eval/recall</td><td>██▅▁▇</td></tr><tr><td>eval/runtime</td><td>▁█▇▆▆</td></tr><tr><td>eval/samples_per_second</td><td>█▁▂▃▃</td></tr><tr><td>eval/steps_per_second</td><td>█▁▂▃▃</td></tr><tr><td>train/epoch</td><td>▁▁▃▃▅▅▆▆███</td></tr><tr><td>train/global_step</td><td>▁▁▃▃▅▅▆▆███</td></tr><tr><td>train/grad_norm</td><td>▃▂▁▄█</td></tr><tr><td>train/learning_rate</td><td>▁▃▄▆█</td></tr><tr><td>train/loss</td><td>█▆▃▂▁</td></tr></table><br/></div><div class=\"wandb-col\"><h3>Run summary:</h3><br/><table class=\"wandb\"><tr><td>eval/accuracy</td><td>0.88986</td></tr><tr><td>eval/f1</td><td>0.54927</td></tr><tr><td>eval/loss</td><td>0.30961</td></tr><tr><td>eval/precision</td><td>0.79878</td></tr><tr><td>eval/recall</td><td>0.41853</td></tr><tr><td>eval/runtime</td><td>2.7696</td></tr><tr><td>eval/samples_per_second</td><td>88.098</td></tr><tr><td>eval/steps_per_second</td><td>5.777</td></tr><tr><td>total_flos</td><td>1737574735686144.0</td></tr><tr><td>train/epoch</td><td>5.0</td></tr><tr><td>train/global_step</td><td>305</td></tr><tr><td>train/grad_norm</td><td>2.2952</td></tr><tr><td>train/learning_rate</td><td>0.0</td></tr><tr><td>train/loss</td><td>0.3087</td></tr><tr><td>train_loss</td><td>0.44052</td></tr><tr><td>train_runtime</td><td>240.787</td></tr><tr><td>train_samples_per_second</td><td>20.205</td></tr><tr><td>train_steps_per_second</td><td>1.267</td></tr></table><br/></div></div>"
      ],
      "text/plain": [
       "<IPython.core.display.HTML object>"
      ]
     },
     "metadata": {},
     "output_type": "display_data"
    },
    {
     "data": {
      "text/html": [
       " View run <strong style=\"color:#cdcd00\">floral-sweep-22</strong> at: <a href='https://wandb.ai/ai-aloe/metacognitive_classifier/runs/4dralhbj' target=\"_blank\">https://wandb.ai/ai-aloe/metacognitive_classifier/runs/4dralhbj</a><br/> View project at: <a href='https://wandb.ai/ai-aloe/metacognitive_classifier' target=\"_blank\">https://wandb.ai/ai-aloe/metacognitive_classifier</a><br/>Synced 6 W&B file(s), 0 media file(s), 0 artifact file(s) and 0 other file(s)"
      ],
      "text/plain": [
       "<IPython.core.display.HTML object>"
      ]
     },
     "metadata": {},
     "output_type": "display_data"
    },
    {
     "data": {
      "text/html": [
       "Find logs at: <code>./wandb/run-20240517_223504-4dralhbj/logs</code>"
      ],
      "text/plain": [
       "<IPython.core.display.HTML object>"
      ]
     },
     "metadata": {},
     "output_type": "display_data"
    },
    {
     "name": "stderr",
     "output_type": "stream",
     "text": [
      "\u001b[34m\u001b[1mwandb\u001b[0m: Agent Starting Run: fzb79a4e with config:\n",
      "\u001b[34m\u001b[1mwandb\u001b[0m: \tepochs: 3\n",
      "\u001b[34m\u001b[1mwandb\u001b[0m: \tlearning_rate: 5.467769403244844e-06\n",
      "\u001b[34m\u001b[1mwandb\u001b[0m: \twarmup_steps: 1000\n",
      "\u001b[34m\u001b[1mwandb\u001b[0m: \tweight_decay: 0.01\n",
      "Failed to detect the name of this notebook, you can set it manually with the WANDB_NOTEBOOK_NAME environment variable to enable code saving.\n"
     ]
    },
    {
     "data": {
      "text/html": [
       "wandb version 0.17.0 is available!  To upgrade, please run:\n",
       " $ pip install wandb --upgrade"
      ],
      "text/plain": [
       "<IPython.core.display.HTML object>"
      ]
     },
     "metadata": {},
     "output_type": "display_data"
    },
    {
     "data": {
      "text/html": [
       "Tracking run with wandb version 0.16.6"
      ],
      "text/plain": [
       "<IPython.core.display.HTML object>"
      ]
     },
     "metadata": {},
     "output_type": "display_data"
    },
    {
     "data": {
      "text/html": [
       "Run data is saved locally in <code>/home/jovyan/metacognitive-span-categorization/src/classification/wandb/run-20240517_223919-fzb79a4e</code>"
      ],
      "text/plain": [
       "<IPython.core.display.HTML object>"
      ]
     },
     "metadata": {},
     "output_type": "display_data"
    },
    {
     "data": {
      "text/html": [
       "Syncing run <strong><a href='https://wandb.ai/ai-aloe/metacognitive_classifier/runs/fzb79a4e' target=\"_blank\">comfy-sweep-23</a></strong> to <a href='https://wandb.ai/ai-aloe/metacognitive_classifier' target=\"_blank\">Weights & Biases</a> (<a href='https://wandb.me/run' target=\"_blank\">docs</a>)<br/>Sweep page: <a href='https://wandb.ai/ai-aloe/metacognitive_classifier/sweeps/8ellv5tx' target=\"_blank\">https://wandb.ai/ai-aloe/metacognitive_classifier/sweeps/8ellv5tx</a>"
      ],
      "text/plain": [
       "<IPython.core.display.HTML object>"
      ]
     },
     "metadata": {},
     "output_type": "display_data"
    },
    {
     "data": {
      "text/html": [
       " View project at <a href='https://wandb.ai/ai-aloe/metacognitive_classifier' target=\"_blank\">https://wandb.ai/ai-aloe/metacognitive_classifier</a>"
      ],
      "text/plain": [
       "<IPython.core.display.HTML object>"
      ]
     },
     "metadata": {},
     "output_type": "display_data"
    },
    {
     "data": {
      "text/html": [
       " View sweep at <a href='https://wandb.ai/ai-aloe/metacognitive_classifier/sweeps/8ellv5tx' target=\"_blank\">https://wandb.ai/ai-aloe/metacognitive_classifier/sweeps/8ellv5tx</a>"
      ],
      "text/plain": [
       "<IPython.core.display.HTML object>"
      ]
     },
     "metadata": {},
     "output_type": "display_data"
    },
    {
     "data": {
      "text/html": [
       " View run at <a href='https://wandb.ai/ai-aloe/metacognitive_classifier/runs/fzb79a4e' target=\"_blank\">https://wandb.ai/ai-aloe/metacognitive_classifier/runs/fzb79a4e</a>"
      ],
      "text/plain": [
       "<IPython.core.display.HTML object>"
      ]
     },
     "metadata": {},
     "output_type": "display_data"
    },
    {
     "name": "stderr",
     "output_type": "stream",
     "text": [
      "Some weights of DebertaV2ForSequenceClassification were not initialized from the model checkpoint at microsoft/deberta-v3-large and are newly initialized: ['classifier.bias', 'classifier.weight', 'pooler.dense.bias', 'pooler.dense.weight']\n",
      "You should probably TRAIN this model on a down-stream task to be able to use it for predictions and inference.\n",
      "\u001b[34m\u001b[1mwandb\u001b[0m: \u001b[33mWARNING\u001b[0m Config item 'learning_rate' was locked by 'sweep' (ignored update).\n",
      "\u001b[34m\u001b[1mwandb\u001b[0m: \u001b[33mWARNING\u001b[0m Config item 'weight_decay' was locked by 'sweep' (ignored update).\n",
      "\u001b[34m\u001b[1mwandb\u001b[0m: \u001b[33mWARNING\u001b[0m Config item 'warmup_steps' was locked by 'sweep' (ignored update).\n"
     ]
    },
    {
     "data": {
      "text/html": [
       "\n",
       "    <div>\n",
       "      \n",
       "      <progress value='183' max='183' style='width:300px; height:20px; vertical-align: middle;'></progress>\n",
       "      [183/183 02:24, Epoch 3/3]\n",
       "    </div>\n",
       "    <table border=\"1\" class=\"dataframe\">\n",
       "  <thead>\n",
       " <tr style=\"text-align: left;\">\n",
       "      <th>Epoch</th>\n",
       "      <th>Training Loss</th>\n",
       "      <th>Validation Loss</th>\n",
       "      <th>Accuracy</th>\n",
       "      <th>F1</th>\n",
       "      <th>Precision</th>\n",
       "      <th>Recall</th>\n",
       "    </tr>\n",
       "  </thead>\n",
       "  <tbody>\n",
       "    <tr>\n",
       "      <td>1</td>\n",
       "      <td>0.671200</td>\n",
       "      <td>0.664985</td>\n",
       "      <td>0.619877</td>\n",
       "      <td>0.074813</td>\n",
       "      <td>0.061350</td>\n",
       "      <td>0.095847</td>\n",
       "    </tr>\n",
       "    <tr>\n",
       "      <td>2</td>\n",
       "      <td>0.658200</td>\n",
       "      <td>0.641441</td>\n",
       "      <td>0.635758</td>\n",
       "      <td>0.075423</td>\n",
       "      <td>0.063596</td>\n",
       "      <td>0.092652</td>\n",
       "    </tr>\n",
       "    <tr>\n",
       "      <td>3</td>\n",
       "      <td>0.555800</td>\n",
       "      <td>0.424981</td>\n",
       "      <td>0.876025</td>\n",
       "      <td>0.480687</td>\n",
       "      <td>0.732026</td>\n",
       "      <td>0.357827</td>\n",
       "    </tr>\n",
       "  </tbody>\n",
       "</table><p>"
      ],
      "text/plain": [
       "<IPython.core.display.HTML object>"
      ]
     },
     "metadata": {},
     "output_type": "display_data"
    },
    {
     "data": {
      "application/vnd.jupyter.widget-view+json": {
       "model_id": "",
       "version_major": 2,
       "version_minor": 0
      },
      "text/plain": [
       "VBox(children=(Label(value='0.008 MB of 0.008 MB uploaded\\r'), FloatProgress(value=1.0, max=1.0)))"
      ]
     },
     "metadata": {},
     "output_type": "display_data"
    },
    {
     "data": {
      "text/html": [
       "<style>\n",
       "    table.wandb td:nth-child(1) { padding: 0 10px; text-align: left ; width: auto;} td:nth-child(2) {text-align: left ; width: 100%}\n",
       "    .wandb-row { display: flex; flex-direction: row; flex-wrap: wrap; justify-content: flex-start; width: 100% }\n",
       "    .wandb-col { display: flex; flex-direction: column; flex-basis: 100%; flex: 1; padding: 10px; }\n",
       "    </style>\n",
       "<div class=\"wandb-row\"><div class=\"wandb-col\"><h3>Run history:</h3><br/><table class=\"wandb\"><tr><td>eval/accuracy</td><td>▁▁█</td></tr><tr><td>eval/f1</td><td>▁▁█</td></tr><tr><td>eval/loss</td><td>█▇▁</td></tr><tr><td>eval/precision</td><td>▁▁█</td></tr><tr><td>eval/recall</td><td>▁▁█</td></tr><tr><td>eval/runtime</td><td>▁▄█</td></tr><tr><td>eval/samples_per_second</td><td>█▅▁</td></tr><tr><td>eval/steps_per_second</td><td>█▅▁</td></tr><tr><td>train/epoch</td><td>▁▁▅▅███</td></tr><tr><td>train/global_step</td><td>▁▁▅▅███</td></tr><tr><td>train/grad_norm</td><td>▂█▁</td></tr><tr><td>train/learning_rate</td><td>▁▄█</td></tr><tr><td>train/loss</td><td>█▇▁</td></tr></table><br/></div><div class=\"wandb-col\"><h3>Run summary:</h3><br/><table class=\"wandb\"><tr><td>eval/accuracy</td><td>0.87602</td></tr><tr><td>eval/f1</td><td>0.48069</td></tr><tr><td>eval/loss</td><td>0.42498</td></tr><tr><td>eval/precision</td><td>0.73203</td></tr><tr><td>eval/recall</td><td>0.35783</td></tr><tr><td>eval/runtime</td><td>2.7788</td></tr><tr><td>eval/samples_per_second</td><td>87.809</td></tr><tr><td>eval/steps_per_second</td><td>5.758</td></tr><tr><td>total_flos</td><td>1046849315715840.0</td></tr><tr><td>train/epoch</td><td>3.0</td></tr><tr><td>train/global_step</td><td>183</td></tr><tr><td>train/grad_norm</td><td>1.65285</td></tr><tr><td>train/learning_rate</td><td>0.0</td></tr><tr><td>train/loss</td><td>0.5558</td></tr><tr><td>train_loss</td><td>0.62838</td></tr><tr><td>train_runtime</td><td>145.2119</td></tr><tr><td>train_samples_per_second</td><td>20.102</td></tr><tr><td>train_steps_per_second</td><td>1.26</td></tr></table><br/></div></div>"
      ],
      "text/plain": [
       "<IPython.core.display.HTML object>"
      ]
     },
     "metadata": {},
     "output_type": "display_data"
    },
    {
     "data": {
      "text/html": [
       " View run <strong style=\"color:#cdcd00\">comfy-sweep-23</strong> at: <a href='https://wandb.ai/ai-aloe/metacognitive_classifier/runs/fzb79a4e' target=\"_blank\">https://wandb.ai/ai-aloe/metacognitive_classifier/runs/fzb79a4e</a><br/> View project at: <a href='https://wandb.ai/ai-aloe/metacognitive_classifier' target=\"_blank\">https://wandb.ai/ai-aloe/metacognitive_classifier</a><br/>Synced 6 W&B file(s), 0 media file(s), 0 artifact file(s) and 0 other file(s)"
      ],
      "text/plain": [
       "<IPython.core.display.HTML object>"
      ]
     },
     "metadata": {},
     "output_type": "display_data"
    },
    {
     "data": {
      "text/html": [
       "Find logs at: <code>./wandb/run-20240517_223919-fzb79a4e/logs</code>"
      ],
      "text/plain": [
       "<IPython.core.display.HTML object>"
      ]
     },
     "metadata": {},
     "output_type": "display_data"
    },
    {
     "name": "stderr",
     "output_type": "stream",
     "text": [
      "\u001b[34m\u001b[1mwandb\u001b[0m: Agent Starting Run: mbp8dacj with config:\n",
      "\u001b[34m\u001b[1mwandb\u001b[0m: \tepochs: 1\n",
      "\u001b[34m\u001b[1mwandb\u001b[0m: \tlearning_rate: 6.733189579445929e-06\n",
      "\u001b[34m\u001b[1mwandb\u001b[0m: \twarmup_steps: 500\n",
      "\u001b[34m\u001b[1mwandb\u001b[0m: \tweight_decay: 0.01\n",
      "Failed to detect the name of this notebook, you can set it manually with the WANDB_NOTEBOOK_NAME environment variable to enable code saving.\n"
     ]
    },
    {
     "data": {
      "text/html": [
       "wandb version 0.17.0 is available!  To upgrade, please run:\n",
       " $ pip install wandb --upgrade"
      ],
      "text/plain": [
       "<IPython.core.display.HTML object>"
      ]
     },
     "metadata": {},
     "output_type": "display_data"
    },
    {
     "data": {
      "text/html": [
       "Tracking run with wandb version 0.16.6"
      ],
      "text/plain": [
       "<IPython.core.display.HTML object>"
      ]
     },
     "metadata": {},
     "output_type": "display_data"
    },
    {
     "data": {
      "text/html": [
       "Run data is saved locally in <code>/home/jovyan/metacognitive-span-categorization/src/classification/wandb/run-20240517_224158-mbp8dacj</code>"
      ],
      "text/plain": [
       "<IPython.core.display.HTML object>"
      ]
     },
     "metadata": {},
     "output_type": "display_data"
    },
    {
     "data": {
      "text/html": [
       "Syncing run <strong><a href='https://wandb.ai/ai-aloe/metacognitive_classifier/runs/mbp8dacj' target=\"_blank\">clean-sweep-24</a></strong> to <a href='https://wandb.ai/ai-aloe/metacognitive_classifier' target=\"_blank\">Weights & Biases</a> (<a href='https://wandb.me/run' target=\"_blank\">docs</a>)<br/>Sweep page: <a href='https://wandb.ai/ai-aloe/metacognitive_classifier/sweeps/8ellv5tx' target=\"_blank\">https://wandb.ai/ai-aloe/metacognitive_classifier/sweeps/8ellv5tx</a>"
      ],
      "text/plain": [
       "<IPython.core.display.HTML object>"
      ]
     },
     "metadata": {},
     "output_type": "display_data"
    },
    {
     "data": {
      "text/html": [
       " View project at <a href='https://wandb.ai/ai-aloe/metacognitive_classifier' target=\"_blank\">https://wandb.ai/ai-aloe/metacognitive_classifier</a>"
      ],
      "text/plain": [
       "<IPython.core.display.HTML object>"
      ]
     },
     "metadata": {},
     "output_type": "display_data"
    },
    {
     "data": {
      "text/html": [
       " View sweep at <a href='https://wandb.ai/ai-aloe/metacognitive_classifier/sweeps/8ellv5tx' target=\"_blank\">https://wandb.ai/ai-aloe/metacognitive_classifier/sweeps/8ellv5tx</a>"
      ],
      "text/plain": [
       "<IPython.core.display.HTML object>"
      ]
     },
     "metadata": {},
     "output_type": "display_data"
    },
    {
     "data": {
      "text/html": [
       " View run at <a href='https://wandb.ai/ai-aloe/metacognitive_classifier/runs/mbp8dacj' target=\"_blank\">https://wandb.ai/ai-aloe/metacognitive_classifier/runs/mbp8dacj</a>"
      ],
      "text/plain": [
       "<IPython.core.display.HTML object>"
      ]
     },
     "metadata": {},
     "output_type": "display_data"
    },
    {
     "name": "stderr",
     "output_type": "stream",
     "text": [
      "Some weights of DebertaV2ForSequenceClassification were not initialized from the model checkpoint at microsoft/deberta-v3-large and are newly initialized: ['classifier.bias', 'classifier.weight', 'pooler.dense.bias', 'pooler.dense.weight']\n",
      "You should probably TRAIN this model on a down-stream task to be able to use it for predictions and inference.\n",
      "\u001b[34m\u001b[1mwandb\u001b[0m: \u001b[33mWARNING\u001b[0m Config item 'learning_rate' was locked by 'sweep' (ignored update).\n",
      "\u001b[34m\u001b[1mwandb\u001b[0m: \u001b[33mWARNING\u001b[0m Config item 'weight_decay' was locked by 'sweep' (ignored update).\n",
      "\u001b[34m\u001b[1mwandb\u001b[0m: \u001b[33mWARNING\u001b[0m Config item 'warmup_steps' was locked by 'sweep' (ignored update).\n"
     ]
    },
    {
     "data": {
      "text/html": [
       "\n",
       "    <div>\n",
       "      \n",
       "      <progress value='61' max='61' style='width:300px; height:20px; vertical-align: middle;'></progress>\n",
       "      [61/61 00:48, Epoch 1/1]\n",
       "    </div>\n",
       "    <table border=\"1\" class=\"dataframe\">\n",
       "  <thead>\n",
       " <tr style=\"text-align: left;\">\n",
       "      <th>Epoch</th>\n",
       "      <th>Training Loss</th>\n",
       "      <th>Validation Loss</th>\n",
       "      <th>Accuracy</th>\n",
       "      <th>F1</th>\n",
       "      <th>Precision</th>\n",
       "      <th>Recall</th>\n",
       "    </tr>\n",
       "  </thead>\n",
       "  <tbody>\n",
       "    <tr>\n",
       "      <td>1</td>\n",
       "      <td>0.636900</td>\n",
       "      <td>0.612422</td>\n",
       "      <td>0.855020</td>\n",
       "      <td>0.491921</td>\n",
       "      <td>0.561475</td>\n",
       "      <td>0.437700</td>\n",
       "    </tr>\n",
       "  </tbody>\n",
       "</table><p>"
      ],
      "text/plain": [
       "<IPython.core.display.HTML object>"
      ]
     },
     "metadata": {},
     "output_type": "display_data"
    },
    {
     "data": {
      "application/vnd.jupyter.widget-view+json": {
       "model_id": "",
       "version_major": 2,
       "version_minor": 0
      },
      "text/plain": [
       "VBox(children=(Label(value='0.008 MB of 0.008 MB uploaded\\r'), FloatProgress(value=1.0, max=1.0)))"
      ]
     },
     "metadata": {},
     "output_type": "display_data"
    },
    {
     "data": {
      "text/html": [
       "<style>\n",
       "    table.wandb td:nth-child(1) { padding: 0 10px; text-align: left ; width: auto;} td:nth-child(2) {text-align: left ; width: 100%}\n",
       "    .wandb-row { display: flex; flex-direction: row; flex-wrap: wrap; justify-content: flex-start; width: 100% }\n",
       "    .wandb-col { display: flex; flex-direction: column; flex-basis: 100%; flex: 1; padding: 10px; }\n",
       "    </style>\n",
       "<div class=\"wandb-row\"><div class=\"wandb-col\"><h3>Run history:</h3><br/><table class=\"wandb\"><tr><td>eval/accuracy</td><td>▁</td></tr><tr><td>eval/f1</td><td>▁</td></tr><tr><td>eval/loss</td><td>▁</td></tr><tr><td>eval/precision</td><td>▁</td></tr><tr><td>eval/recall</td><td>▁</td></tr><tr><td>eval/runtime</td><td>▁</td></tr><tr><td>eval/samples_per_second</td><td>▁</td></tr><tr><td>eval/steps_per_second</td><td>▁</td></tr><tr><td>train/epoch</td><td>▁▁▁</td></tr><tr><td>train/global_step</td><td>▁▁▁</td></tr><tr><td>train/grad_norm</td><td>▁</td></tr><tr><td>train/learning_rate</td><td>▁</td></tr><tr><td>train/loss</td><td>▁</td></tr></table><br/></div><div class=\"wandb-col\"><h3>Run summary:</h3><br/><table class=\"wandb\"><tr><td>eval/accuracy</td><td>0.85502</td></tr><tr><td>eval/f1</td><td>0.49192</td></tr><tr><td>eval/loss</td><td>0.61242</td></tr><tr><td>eval/precision</td><td>0.56148</td></tr><tr><td>eval/recall</td><td>0.4377</td></tr><tr><td>eval/runtime</td><td>2.7644</td></tr><tr><td>eval/samples_per_second</td><td>88.267</td></tr><tr><td>eval/steps_per_second</td><td>5.788</td></tr><tr><td>total_flos</td><td>350939887449600.0</td></tr><tr><td>train/epoch</td><td>1.0</td></tr><tr><td>train/global_step</td><td>61</td></tr><tr><td>train/grad_norm</td><td>1.5798</td></tr><tr><td>train/learning_rate</td><td>0.0</td></tr><tr><td>train/loss</td><td>0.6369</td></tr><tr><td>train_loss</td><td>0.63694</td></tr><tr><td>train_runtime</td><td>48.7851</td></tr><tr><td>train_samples_per_second</td><td>19.945</td></tr><tr><td>train_steps_per_second</td><td>1.25</td></tr></table><br/></div></div>"
      ],
      "text/plain": [
       "<IPython.core.display.HTML object>"
      ]
     },
     "metadata": {},
     "output_type": "display_data"
    },
    {
     "data": {
      "text/html": [
       " View run <strong style=\"color:#cdcd00\">clean-sweep-24</strong> at: <a href='https://wandb.ai/ai-aloe/metacognitive_classifier/runs/mbp8dacj' target=\"_blank\">https://wandb.ai/ai-aloe/metacognitive_classifier/runs/mbp8dacj</a><br/> View project at: <a href='https://wandb.ai/ai-aloe/metacognitive_classifier' target=\"_blank\">https://wandb.ai/ai-aloe/metacognitive_classifier</a><br/>Synced 6 W&B file(s), 0 media file(s), 0 artifact file(s) and 0 other file(s)"
      ],
      "text/plain": [
       "<IPython.core.display.HTML object>"
      ]
     },
     "metadata": {},
     "output_type": "display_data"
    },
    {
     "data": {
      "text/html": [
       "Find logs at: <code>./wandb/run-20240517_224158-mbp8dacj/logs</code>"
      ],
      "text/plain": [
       "<IPython.core.display.HTML object>"
      ]
     },
     "metadata": {},
     "output_type": "display_data"
    },
    {
     "name": "stderr",
     "output_type": "stream",
     "text": [
      "\u001b[34m\u001b[1mwandb\u001b[0m: Agent Starting Run: hyibz6b0 with config:\n",
      "\u001b[34m\u001b[1mwandb\u001b[0m: \tepochs: 8\n",
      "\u001b[34m\u001b[1mwandb\u001b[0m: \tlearning_rate: 9.829080036348189e-06\n",
      "\u001b[34m\u001b[1mwandb\u001b[0m: \twarmup_steps: 1000\n",
      "\u001b[34m\u001b[1mwandb\u001b[0m: \tweight_decay: 0.01\n",
      "Failed to detect the name of this notebook, you can set it manually with the WANDB_NOTEBOOK_NAME environment variable to enable code saving.\n"
     ]
    },
    {
     "data": {
      "text/html": [
       "wandb version 0.17.0 is available!  To upgrade, please run:\n",
       " $ pip install wandb --upgrade"
      ],
      "text/plain": [
       "<IPython.core.display.HTML object>"
      ]
     },
     "metadata": {},
     "output_type": "display_data"
    },
    {
     "data": {
      "text/html": [
       "Tracking run with wandb version 0.16.6"
      ],
      "text/plain": [
       "<IPython.core.display.HTML object>"
      ]
     },
     "metadata": {},
     "output_type": "display_data"
    },
    {
     "data": {
      "text/html": [
       "Run data is saved locally in <code>/home/jovyan/metacognitive-span-categorization/src/classification/wandb/run-20240517_224300-hyibz6b0</code>"
      ],
      "text/plain": [
       "<IPython.core.display.HTML object>"
      ]
     },
     "metadata": {},
     "output_type": "display_data"
    },
    {
     "data": {
      "text/html": [
       "Syncing run <strong><a href='https://wandb.ai/ai-aloe/metacognitive_classifier/runs/hyibz6b0' target=\"_blank\">rare-sweep-25</a></strong> to <a href='https://wandb.ai/ai-aloe/metacognitive_classifier' target=\"_blank\">Weights & Biases</a> (<a href='https://wandb.me/run' target=\"_blank\">docs</a>)<br/>Sweep page: <a href='https://wandb.ai/ai-aloe/metacognitive_classifier/sweeps/8ellv5tx' target=\"_blank\">https://wandb.ai/ai-aloe/metacognitive_classifier/sweeps/8ellv5tx</a>"
      ],
      "text/plain": [
       "<IPython.core.display.HTML object>"
      ]
     },
     "metadata": {},
     "output_type": "display_data"
    },
    {
     "data": {
      "text/html": [
       " View project at <a href='https://wandb.ai/ai-aloe/metacognitive_classifier' target=\"_blank\">https://wandb.ai/ai-aloe/metacognitive_classifier</a>"
      ],
      "text/plain": [
       "<IPython.core.display.HTML object>"
      ]
     },
     "metadata": {},
     "output_type": "display_data"
    },
    {
     "data": {
      "text/html": [
       " View sweep at <a href='https://wandb.ai/ai-aloe/metacognitive_classifier/sweeps/8ellv5tx' target=\"_blank\">https://wandb.ai/ai-aloe/metacognitive_classifier/sweeps/8ellv5tx</a>"
      ],
      "text/plain": [
       "<IPython.core.display.HTML object>"
      ]
     },
     "metadata": {},
     "output_type": "display_data"
    },
    {
     "data": {
      "text/html": [
       " View run at <a href='https://wandb.ai/ai-aloe/metacognitive_classifier/runs/hyibz6b0' target=\"_blank\">https://wandb.ai/ai-aloe/metacognitive_classifier/runs/hyibz6b0</a>"
      ],
      "text/plain": [
       "<IPython.core.display.HTML object>"
      ]
     },
     "metadata": {},
     "output_type": "display_data"
    },
    {
     "name": "stderr",
     "output_type": "stream",
     "text": [
      "Some weights of DebertaV2ForSequenceClassification were not initialized from the model checkpoint at microsoft/deberta-v3-large and are newly initialized: ['classifier.bias', 'classifier.weight', 'pooler.dense.bias', 'pooler.dense.weight']\n",
      "You should probably TRAIN this model on a down-stream task to be able to use it for predictions and inference.\n",
      "\u001b[34m\u001b[1mwandb\u001b[0m: \u001b[33mWARNING\u001b[0m Config item 'learning_rate' was locked by 'sweep' (ignored update).\n",
      "\u001b[34m\u001b[1mwandb\u001b[0m: \u001b[33mWARNING\u001b[0m Config item 'weight_decay' was locked by 'sweep' (ignored update).\n",
      "\u001b[34m\u001b[1mwandb\u001b[0m: \u001b[33mWARNING\u001b[0m Config item 'warmup_steps' was locked by 'sweep' (ignored update).\n"
     ]
    },
    {
     "data": {
      "text/html": [
       "\n",
       "    <div>\n",
       "      \n",
       "      <progress value='488' max='488' style='width:300px; height:20px; vertical-align: middle;'></progress>\n",
       "      [488/488 06:27, Epoch 8/8]\n",
       "    </div>\n",
       "    <table border=\"1\" class=\"dataframe\">\n",
       "  <thead>\n",
       " <tr style=\"text-align: left;\">\n",
       "      <th>Epoch</th>\n",
       "      <th>Training Loss</th>\n",
       "      <th>Validation Loss</th>\n",
       "      <th>Accuracy</th>\n",
       "      <th>F1</th>\n",
       "      <th>Precision</th>\n",
       "      <th>Recall</th>\n",
       "    </tr>\n",
       "  </thead>\n",
       "  <tbody>\n",
       "    <tr>\n",
       "      <td>1</td>\n",
       "      <td>0.726600</td>\n",
       "      <td>0.720645</td>\n",
       "      <td>0.336578</td>\n",
       "      <td>0.298863</td>\n",
       "      <td>0.179922</td>\n",
       "      <td>0.881789</td>\n",
       "    </tr>\n",
       "    <tr>\n",
       "      <td>2</td>\n",
       "      <td>0.706100</td>\n",
       "      <td>0.679733</td>\n",
       "      <td>0.679816</td>\n",
       "      <td>0.371859</td>\n",
       "      <td>0.271261</td>\n",
       "      <td>0.591054</td>\n",
       "    </tr>\n",
       "    <tr>\n",
       "      <td>3</td>\n",
       "      <td>0.475500</td>\n",
       "      <td>0.362569</td>\n",
       "      <td>0.876025</td>\n",
       "      <td>0.464602</td>\n",
       "      <td>0.755396</td>\n",
       "      <td>0.335463</td>\n",
       "    </tr>\n",
       "    <tr>\n",
       "      <td>4</td>\n",
       "      <td>0.349000</td>\n",
       "      <td>0.322822</td>\n",
       "      <td>0.885246</td>\n",
       "      <td>0.513043</td>\n",
       "      <td>0.802721</td>\n",
       "      <td>0.376997</td>\n",
       "    </tr>\n",
       "    <tr>\n",
       "      <td>5</td>\n",
       "      <td>0.314800</td>\n",
       "      <td>0.294308</td>\n",
       "      <td>0.894980</td>\n",
       "      <td>0.557235</td>\n",
       "      <td>0.860000</td>\n",
       "      <td>0.412141</td>\n",
       "    </tr>\n",
       "    <tr>\n",
       "      <td>6</td>\n",
       "      <td>0.286700</td>\n",
       "      <td>0.274785</td>\n",
       "      <td>0.908811</td>\n",
       "      <td>0.641129</td>\n",
       "      <td>0.868852</td>\n",
       "      <td>0.507987</td>\n",
       "    </tr>\n",
       "    <tr>\n",
       "      <td>7</td>\n",
       "      <td>0.256700</td>\n",
       "      <td>0.261019</td>\n",
       "      <td>0.913934</td>\n",
       "      <td>0.695652</td>\n",
       "      <td>0.803347</td>\n",
       "      <td>0.613419</td>\n",
       "    </tr>\n",
       "    <tr>\n",
       "      <td>8</td>\n",
       "      <td>0.229300</td>\n",
       "      <td>0.238346</td>\n",
       "      <td>0.919057</td>\n",
       "      <td>0.709559</td>\n",
       "      <td>0.835498</td>\n",
       "      <td>0.616613</td>\n",
       "    </tr>\n",
       "  </tbody>\n",
       "</table><p>"
      ],
      "text/plain": [
       "<IPython.core.display.HTML object>"
      ]
     },
     "metadata": {},
     "output_type": "display_data"
    },
    {
     "data": {
      "application/vnd.jupyter.widget-view+json": {
       "model_id": "",
       "version_major": 2,
       "version_minor": 0
      },
      "text/plain": [
       "VBox(children=(Label(value='0.008 MB of 0.008 MB uploaded\\r'), FloatProgress(value=1.0, max=1.0)))"
      ]
     },
     "metadata": {},
     "output_type": "display_data"
    },
    {
     "data": {
      "text/html": [
       "<style>\n",
       "    table.wandb td:nth-child(1) { padding: 0 10px; text-align: left ; width: auto;} td:nth-child(2) {text-align: left ; width: 100%}\n",
       "    .wandb-row { display: flex; flex-direction: row; flex-wrap: wrap; justify-content: flex-start; width: 100% }\n",
       "    .wandb-col { display: flex; flex-direction: column; flex-basis: 100%; flex: 1; padding: 10px; }\n",
       "    </style>\n",
       "<div class=\"wandb-row\"><div class=\"wandb-col\"><h3>Run history:</h3><br/><table class=\"wandb\"><tr><td>eval/accuracy</td><td>▁▅▇█████</td></tr><tr><td>eval/f1</td><td>▁▂▄▅▅▇██</td></tr><tr><td>eval/loss</td><td>█▇▃▂▂▂▁▁</td></tr><tr><td>eval/precision</td><td>▁▂▇▇██▇█</td></tr><tr><td>eval/recall</td><td>█▄▁▂▂▃▅▅</td></tr><tr><td>eval/runtime</td><td>▂▃▁▅█▃▂▁</td></tr><tr><td>eval/samples_per_second</td><td>▇▆█▄▁▆██</td></tr><tr><td>eval/steps_per_second</td><td>▇▆█▄▁▆██</td></tr><tr><td>train/epoch</td><td>▁▁▂▂▃▃▄▄▅▅▆▆▇▇███</td></tr><tr><td>train/global_step</td><td>▁▁▂▂▃▃▄▄▅▅▆▆▇▇███</td></tr><tr><td>train/grad_norm</td><td>▄▅▁▃▁██▄</td></tr><tr><td>train/learning_rate</td><td>▁▂▃▄▅▆▇█</td></tr><tr><td>train/loss</td><td>██▄▃▂▂▁▁</td></tr></table><br/></div><div class=\"wandb-col\"><h3>Run summary:</h3><br/><table class=\"wandb\"><tr><td>eval/accuracy</td><td>0.91906</td></tr><tr><td>eval/f1</td><td>0.70956</td></tr><tr><td>eval/loss</td><td>0.23835</td></tr><tr><td>eval/precision</td><td>0.8355</td></tr><tr><td>eval/recall</td><td>0.61661</td></tr><tr><td>eval/runtime</td><td>2.7711</td></tr><tr><td>eval/samples_per_second</td><td>88.053</td></tr><tr><td>eval/steps_per_second</td><td>5.774</td></tr><tr><td>total_flos</td><td>2764882087544832.0</td></tr><tr><td>train/epoch</td><td>8.0</td></tr><tr><td>train/global_step</td><td>488</td></tr><tr><td>train/grad_norm</td><td>1.85855</td></tr><tr><td>train/learning_rate</td><td>0.0</td></tr><tr><td>train/loss</td><td>0.2293</td></tr><tr><td>train_loss</td><td>0.41808</td></tr><tr><td>train_runtime</td><td>388.3099</td></tr><tr><td>train_samples_per_second</td><td>20.046</td></tr><tr><td>train_steps_per_second</td><td>1.257</td></tr></table><br/></div></div>"
      ],
      "text/plain": [
       "<IPython.core.display.HTML object>"
      ]
     },
     "metadata": {},
     "output_type": "display_data"
    },
    {
     "data": {
      "text/html": [
       " View run <strong style=\"color:#cdcd00\">rare-sweep-25</strong> at: <a href='https://wandb.ai/ai-aloe/metacognitive_classifier/runs/hyibz6b0' target=\"_blank\">https://wandb.ai/ai-aloe/metacognitive_classifier/runs/hyibz6b0</a><br/> View project at: <a href='https://wandb.ai/ai-aloe/metacognitive_classifier' target=\"_blank\">https://wandb.ai/ai-aloe/metacognitive_classifier</a><br/>Synced 6 W&B file(s), 0 media file(s), 0 artifact file(s) and 0 other file(s)"
      ],
      "text/plain": [
       "<IPython.core.display.HTML object>"
      ]
     },
     "metadata": {},
     "output_type": "display_data"
    },
    {
     "data": {
      "text/html": [
       "Find logs at: <code>./wandb/run-20240517_224300-hyibz6b0/logs</code>"
      ],
      "text/plain": [
       "<IPython.core.display.HTML object>"
      ]
     },
     "metadata": {},
     "output_type": "display_data"
    },
    {
     "name": "stderr",
     "output_type": "stream",
     "text": [
      "\u001b[34m\u001b[1mwandb\u001b[0m: Sweep Agent: Waiting for job.\n",
      "\u001b[34m\u001b[1mwandb\u001b[0m: Job received.\n",
      "\u001b[34m\u001b[1mwandb\u001b[0m: Agent Starting Run: s17r3zik with config:\n",
      "\u001b[34m\u001b[1mwandb\u001b[0m: \tepochs: 9\n",
      "\u001b[34m\u001b[1mwandb\u001b[0m: \tlearning_rate: 5.442631041052797e-06\n",
      "\u001b[34m\u001b[1mwandb\u001b[0m: \twarmup_steps: 1000\n",
      "\u001b[34m\u001b[1mwandb\u001b[0m: \tweight_decay: 0.01\n",
      "Failed to detect the name of this notebook, you can set it manually with the WANDB_NOTEBOOK_NAME environment variable to enable code saving.\n"
     ]
    },
    {
     "data": {
      "text/html": [
       "wandb version 0.17.0 is available!  To upgrade, please run:\n",
       " $ pip install wandb --upgrade"
      ],
      "text/plain": [
       "<IPython.core.display.HTML object>"
      ]
     },
     "metadata": {},
     "output_type": "display_data"
    },
    {
     "data": {
      "text/html": [
       "Tracking run with wandb version 0.16.6"
      ],
      "text/plain": [
       "<IPython.core.display.HTML object>"
      ]
     },
     "metadata": {},
     "output_type": "display_data"
    },
    {
     "data": {
      "text/html": [
       "Run data is saved locally in <code>/home/jovyan/metacognitive-span-categorization/src/classification/wandb/run-20240517_224955-s17r3zik</code>"
      ],
      "text/plain": [
       "<IPython.core.display.HTML object>"
      ]
     },
     "metadata": {},
     "output_type": "display_data"
    },
    {
     "data": {
      "text/html": [
       "Syncing run <strong><a href='https://wandb.ai/ai-aloe/metacognitive_classifier/runs/s17r3zik' target=\"_blank\">gallant-sweep-26</a></strong> to <a href='https://wandb.ai/ai-aloe/metacognitive_classifier' target=\"_blank\">Weights & Biases</a> (<a href='https://wandb.me/run' target=\"_blank\">docs</a>)<br/>Sweep page: <a href='https://wandb.ai/ai-aloe/metacognitive_classifier/sweeps/8ellv5tx' target=\"_blank\">https://wandb.ai/ai-aloe/metacognitive_classifier/sweeps/8ellv5tx</a>"
      ],
      "text/plain": [
       "<IPython.core.display.HTML object>"
      ]
     },
     "metadata": {},
     "output_type": "display_data"
    },
    {
     "data": {
      "text/html": [
       " View project at <a href='https://wandb.ai/ai-aloe/metacognitive_classifier' target=\"_blank\">https://wandb.ai/ai-aloe/metacognitive_classifier</a>"
      ],
      "text/plain": [
       "<IPython.core.display.HTML object>"
      ]
     },
     "metadata": {},
     "output_type": "display_data"
    },
    {
     "data": {
      "text/html": [
       " View sweep at <a href='https://wandb.ai/ai-aloe/metacognitive_classifier/sweeps/8ellv5tx' target=\"_blank\">https://wandb.ai/ai-aloe/metacognitive_classifier/sweeps/8ellv5tx</a>"
      ],
      "text/plain": [
       "<IPython.core.display.HTML object>"
      ]
     },
     "metadata": {},
     "output_type": "display_data"
    },
    {
     "data": {
      "text/html": [
       " View run at <a href='https://wandb.ai/ai-aloe/metacognitive_classifier/runs/s17r3zik' target=\"_blank\">https://wandb.ai/ai-aloe/metacognitive_classifier/runs/s17r3zik</a>"
      ],
      "text/plain": [
       "<IPython.core.display.HTML object>"
      ]
     },
     "metadata": {},
     "output_type": "display_data"
    },
    {
     "name": "stderr",
     "output_type": "stream",
     "text": [
      "Some weights of DebertaV2ForSequenceClassification were not initialized from the model checkpoint at microsoft/deberta-v3-large and are newly initialized: ['classifier.bias', 'classifier.weight', 'pooler.dense.bias', 'pooler.dense.weight']\n",
      "You should probably TRAIN this model on a down-stream task to be able to use it for predictions and inference.\n",
      "\u001b[34m\u001b[1mwandb\u001b[0m: \u001b[33mWARNING\u001b[0m Config item 'learning_rate' was locked by 'sweep' (ignored update).\n",
      "\u001b[34m\u001b[1mwandb\u001b[0m: \u001b[33mWARNING\u001b[0m Config item 'weight_decay' was locked by 'sweep' (ignored update).\n",
      "\u001b[34m\u001b[1mwandb\u001b[0m: \u001b[33mWARNING\u001b[0m Config item 'warmup_steps' was locked by 'sweep' (ignored update).\n"
     ]
    },
    {
     "data": {
      "text/html": [
       "\n",
       "    <div>\n",
       "      \n",
       "      <progress value='549' max='549' style='width:300px; height:20px; vertical-align: middle;'></progress>\n",
       "      [549/549 07:16, Epoch 9/9]\n",
       "    </div>\n",
       "    <table border=\"1\" class=\"dataframe\">\n",
       "  <thead>\n",
       " <tr style=\"text-align: left;\">\n",
       "      <th>Epoch</th>\n",
       "      <th>Training Loss</th>\n",
       "      <th>Validation Loss</th>\n",
       "      <th>Accuracy</th>\n",
       "      <th>F1</th>\n",
       "      <th>Precision</th>\n",
       "      <th>Recall</th>\n",
       "    </tr>\n",
       "  </thead>\n",
       "  <tbody>\n",
       "    <tr>\n",
       "      <td>1</td>\n",
       "      <td>0.656400</td>\n",
       "      <td>0.649651</td>\n",
       "      <td>0.651639</td>\n",
       "      <td>0.360902</td>\n",
       "      <td>0.255659</td>\n",
       "      <td>0.613419</td>\n",
       "    </tr>\n",
       "    <tr>\n",
       "      <td>2</td>\n",
       "      <td>0.625500</td>\n",
       "      <td>0.571607</td>\n",
       "      <td>0.850922</td>\n",
       "      <td>0.488576</td>\n",
       "      <td>0.542969</td>\n",
       "      <td>0.444089</td>\n",
       "    </tr>\n",
       "    <tr>\n",
       "      <td>3</td>\n",
       "      <td>0.535300</td>\n",
       "      <td>0.464605</td>\n",
       "      <td>0.856045</td>\n",
       "      <td>0.495512</td>\n",
       "      <td>0.565574</td>\n",
       "      <td>0.440895</td>\n",
       "    </tr>\n",
       "    <tr>\n",
       "      <td>4</td>\n",
       "      <td>0.421600</td>\n",
       "      <td>0.362645</td>\n",
       "      <td>0.871926</td>\n",
       "      <td>0.513619</td>\n",
       "      <td>0.656716</td>\n",
       "      <td>0.421725</td>\n",
       "    </tr>\n",
       "    <tr>\n",
       "      <td>5</td>\n",
       "      <td>0.360400</td>\n",
       "      <td>0.335715</td>\n",
       "      <td>0.884734</td>\n",
       "      <td>0.520256</td>\n",
       "      <td>0.782051</td>\n",
       "      <td>0.389776</td>\n",
       "    </tr>\n",
       "    <tr>\n",
       "      <td>6</td>\n",
       "      <td>0.331400</td>\n",
       "      <td>0.313266</td>\n",
       "      <td>0.894467</td>\n",
       "      <td>0.561702</td>\n",
       "      <td>0.840764</td>\n",
       "      <td>0.421725</td>\n",
       "    </tr>\n",
       "    <tr>\n",
       "      <td>7</td>\n",
       "      <td>0.307000</td>\n",
       "      <td>0.303139</td>\n",
       "      <td>0.893955</td>\n",
       "      <td>0.567850</td>\n",
       "      <td>0.819277</td>\n",
       "      <td>0.434505</td>\n",
       "    </tr>\n",
       "    <tr>\n",
       "      <td>8</td>\n",
       "      <td>0.284600</td>\n",
       "      <td>0.283537</td>\n",
       "      <td>0.906250</td>\n",
       "      <td>0.611465</td>\n",
       "      <td>0.911392</td>\n",
       "      <td>0.460064</td>\n",
       "    </tr>\n",
       "    <tr>\n",
       "      <td>9</td>\n",
       "      <td>0.267700</td>\n",
       "      <td>0.296679</td>\n",
       "      <td>0.896516</td>\n",
       "      <td>0.648084</td>\n",
       "      <td>0.712644</td>\n",
       "      <td>0.594249</td>\n",
       "    </tr>\n",
       "  </tbody>\n",
       "</table><p>"
      ],
      "text/plain": [
       "<IPython.core.display.HTML object>"
      ]
     },
     "metadata": {},
     "output_type": "display_data"
    },
    {
     "data": {
      "application/vnd.jupyter.widget-view+json": {
       "model_id": "",
       "version_major": 2,
       "version_minor": 0
      },
      "text/plain": [
       "VBox(children=(Label(value='0.008 MB of 0.026 MB uploaded\\r'), FloatProgress(value=0.2871724337628493, max=1.0…"
      ]
     },
     "metadata": {},
     "output_type": "display_data"
    },
    {
     "data": {
      "text/html": [
       "<style>\n",
       "    table.wandb td:nth-child(1) { padding: 0 10px; text-align: left ; width: auto;} td:nth-child(2) {text-align: left ; width: 100%}\n",
       "    .wandb-row { display: flex; flex-direction: row; flex-wrap: wrap; justify-content: flex-start; width: 100% }\n",
       "    .wandb-col { display: flex; flex-direction: column; flex-basis: 100%; flex: 1; padding: 10px; }\n",
       "    </style>\n",
       "<div class=\"wandb-row\"><div class=\"wandb-col\"><h3>Run history:</h3><br/><table class=\"wandb\"><tr><td>eval/accuracy</td><td>▁▆▇▇▇████</td></tr><tr><td>eval/f1</td><td>▁▄▄▅▅▆▆▇█</td></tr><tr><td>eval/loss</td><td>█▇▄▃▂▂▁▁▁</td></tr><tr><td>eval/precision</td><td>▁▄▄▅▇▇▇█▆</td></tr><tr><td>eval/recall</td><td>█▃▃▂▁▂▂▃▇</td></tr><tr><td>eval/runtime</td><td>▁▃██▅▅▇▄▅</td></tr><tr><td>eval/samples_per_second</td><td>█▆▁▁▄▄▂▅▄</td></tr><tr><td>eval/steps_per_second</td><td>█▆▁▁▄▄▂▅▄</td></tr><tr><td>train/epoch</td><td>▁▁▂▂▃▃▄▄▅▅▅▅▆▆▇▇███</td></tr><tr><td>train/global_step</td><td>▁▁▂▂▃▃▄▄▅▅▅▅▆▆▇▇███</td></tr><tr><td>train/grad_norm</td><td>▂▃▁▂▁█▁▃▆</td></tr><tr><td>train/learning_rate</td><td>▁▂▃▄▄▅▆▇█</td></tr><tr><td>train/loss</td><td>█▇▆▄▃▂▂▁▁</td></tr></table><br/></div><div class=\"wandb-col\"><h3>Run summary:</h3><br/><table class=\"wandb\"><tr><td>eval/accuracy</td><td>0.89652</td></tr><tr><td>eval/f1</td><td>0.64808</td></tr><tr><td>eval/loss</td><td>0.29668</td></tr><tr><td>eval/precision</td><td>0.71264</td></tr><tr><td>eval/recall</td><td>0.59425</td></tr><tr><td>eval/runtime</td><td>2.7755</td></tr><tr><td>eval/samples_per_second</td><td>87.914</td></tr><tr><td>eval/steps_per_second</td><td>5.765</td></tr><tr><td>total_flos</td><td>3104813238276096.0</td></tr><tr><td>train/epoch</td><td>9.0</td></tr><tr><td>train/global_step</td><td>549</td></tr><tr><td>train/grad_norm</td><td>2.98138</td></tr><tr><td>train/learning_rate</td><td>0.0</td></tr><tr><td>train/loss</td><td>0.2677</td></tr><tr><td>train_loss</td><td>0.42111</td></tr><tr><td>train_runtime</td><td>437.6064</td></tr><tr><td>train_samples_per_second</td><td>20.011</td></tr><tr><td>train_steps_per_second</td><td>1.255</td></tr></table><br/></div></div>"
      ],
      "text/plain": [
       "<IPython.core.display.HTML object>"
      ]
     },
     "metadata": {},
     "output_type": "display_data"
    },
    {
     "data": {
      "text/html": [
       " View run <strong style=\"color:#cdcd00\">gallant-sweep-26</strong> at: <a href='https://wandb.ai/ai-aloe/metacognitive_classifier/runs/s17r3zik' target=\"_blank\">https://wandb.ai/ai-aloe/metacognitive_classifier/runs/s17r3zik</a><br/> View project at: <a href='https://wandb.ai/ai-aloe/metacognitive_classifier' target=\"_blank\">https://wandb.ai/ai-aloe/metacognitive_classifier</a><br/>Synced 6 W&B file(s), 0 media file(s), 0 artifact file(s) and 0 other file(s)"
      ],
      "text/plain": [
       "<IPython.core.display.HTML object>"
      ]
     },
     "metadata": {},
     "output_type": "display_data"
    },
    {
     "data": {
      "text/html": [
       "Find logs at: <code>./wandb/run-20240517_224955-s17r3zik/logs</code>"
      ],
      "text/plain": [
       "<IPython.core.display.HTML object>"
      ]
     },
     "metadata": {},
     "output_type": "display_data"
    },
    {
     "name": "stderr",
     "output_type": "stream",
     "text": [
      "\u001b[34m\u001b[1mwandb\u001b[0m: Agent Starting Run: esi54qh8 with config:\n",
      "\u001b[34m\u001b[1mwandb\u001b[0m: \tepochs: 5\n",
      "\u001b[34m\u001b[1mwandb\u001b[0m: \tlearning_rate: 9.794509462485289e-06\n",
      "\u001b[34m\u001b[1mwandb\u001b[0m: \twarmup_steps: 50\n",
      "\u001b[34m\u001b[1mwandb\u001b[0m: \tweight_decay: 0.01\n",
      "Failed to detect the name of this notebook, you can set it manually with the WANDB_NOTEBOOK_NAME environment variable to enable code saving.\n"
     ]
    },
    {
     "data": {
      "text/html": [
       "wandb version 0.17.0 is available!  To upgrade, please run:\n",
       " $ pip install wandb --upgrade"
      ],
      "text/plain": [
       "<IPython.core.display.HTML object>"
      ]
     },
     "metadata": {},
     "output_type": "display_data"
    },
    {
     "data": {
      "text/html": [
       "Tracking run with wandb version 0.16.6"
      ],
      "text/plain": [
       "<IPython.core.display.HTML object>"
      ]
     },
     "metadata": {},
     "output_type": "display_data"
    },
    {
     "data": {
      "text/html": [
       "Run data is saved locally in <code>/home/jovyan/metacognitive-span-categorization/src/classification/wandb/run-20240517_225726-esi54qh8</code>"
      ],
      "text/plain": [
       "<IPython.core.display.HTML object>"
      ]
     },
     "metadata": {},
     "output_type": "display_data"
    },
    {
     "data": {
      "text/html": [
       "Syncing run <strong><a href='https://wandb.ai/ai-aloe/metacognitive_classifier/runs/esi54qh8' target=\"_blank\">hopeful-sweep-27</a></strong> to <a href='https://wandb.ai/ai-aloe/metacognitive_classifier' target=\"_blank\">Weights & Biases</a> (<a href='https://wandb.me/run' target=\"_blank\">docs</a>)<br/>Sweep page: <a href='https://wandb.ai/ai-aloe/metacognitive_classifier/sweeps/8ellv5tx' target=\"_blank\">https://wandb.ai/ai-aloe/metacognitive_classifier/sweeps/8ellv5tx</a>"
      ],
      "text/plain": [
       "<IPython.core.display.HTML object>"
      ]
     },
     "metadata": {},
     "output_type": "display_data"
    },
    {
     "data": {
      "text/html": [
       " View project at <a href='https://wandb.ai/ai-aloe/metacognitive_classifier' target=\"_blank\">https://wandb.ai/ai-aloe/metacognitive_classifier</a>"
      ],
      "text/plain": [
       "<IPython.core.display.HTML object>"
      ]
     },
     "metadata": {},
     "output_type": "display_data"
    },
    {
     "data": {
      "text/html": [
       " View sweep at <a href='https://wandb.ai/ai-aloe/metacognitive_classifier/sweeps/8ellv5tx' target=\"_blank\">https://wandb.ai/ai-aloe/metacognitive_classifier/sweeps/8ellv5tx</a>"
      ],
      "text/plain": [
       "<IPython.core.display.HTML object>"
      ]
     },
     "metadata": {},
     "output_type": "display_data"
    },
    {
     "data": {
      "text/html": [
       " View run at <a href='https://wandb.ai/ai-aloe/metacognitive_classifier/runs/esi54qh8' target=\"_blank\">https://wandb.ai/ai-aloe/metacognitive_classifier/runs/esi54qh8</a>"
      ],
      "text/plain": [
       "<IPython.core.display.HTML object>"
      ]
     },
     "metadata": {},
     "output_type": "display_data"
    },
    {
     "name": "stderr",
     "output_type": "stream",
     "text": [
      "Some weights of DebertaV2ForSequenceClassification were not initialized from the model checkpoint at microsoft/deberta-v3-large and are newly initialized: ['classifier.bias', 'classifier.weight', 'pooler.dense.bias', 'pooler.dense.weight']\n",
      "You should probably TRAIN this model on a down-stream task to be able to use it for predictions and inference.\n",
      "\u001b[34m\u001b[1mwandb\u001b[0m: \u001b[33mWARNING\u001b[0m Config item 'learning_rate' was locked by 'sweep' (ignored update).\n",
      "\u001b[34m\u001b[1mwandb\u001b[0m: \u001b[33mWARNING\u001b[0m Config item 'weight_decay' was locked by 'sweep' (ignored update).\n",
      "\u001b[34m\u001b[1mwandb\u001b[0m: \u001b[33mWARNING\u001b[0m Config item 'warmup_steps' was locked by 'sweep' (ignored update).\n"
     ]
    },
    {
     "data": {
      "text/html": [
       "\n",
       "    <div>\n",
       "      \n",
       "      <progress value='305' max='305' style='width:300px; height:20px; vertical-align: middle;'></progress>\n",
       "      [305/305 04:00, Epoch 5/5]\n",
       "    </div>\n",
       "    <table border=\"1\" class=\"dataframe\">\n",
       "  <thead>\n",
       " <tr style=\"text-align: left;\">\n",
       "      <th>Epoch</th>\n",
       "      <th>Training Loss</th>\n",
       "      <th>Validation Loss</th>\n",
       "      <th>Accuracy</th>\n",
       "      <th>F1</th>\n",
       "      <th>Precision</th>\n",
       "      <th>Recall</th>\n",
       "    </tr>\n",
       "  </thead>\n",
       "  <tbody>\n",
       "    <tr>\n",
       "      <td>1</td>\n",
       "      <td>0.542100</td>\n",
       "      <td>0.348640</td>\n",
       "      <td>0.873463</td>\n",
       "      <td>0.498986</td>\n",
       "      <td>0.683333</td>\n",
       "      <td>0.392971</td>\n",
       "    </tr>\n",
       "    <tr>\n",
       "      <td>2</td>\n",
       "      <td>0.329000</td>\n",
       "      <td>0.302310</td>\n",
       "      <td>0.898053</td>\n",
       "      <td>0.558758</td>\n",
       "      <td>0.913043</td>\n",
       "      <td>0.402556</td>\n",
       "    </tr>\n",
       "    <tr>\n",
       "      <td>3</td>\n",
       "      <td>0.289600</td>\n",
       "      <td>0.282084</td>\n",
       "      <td>0.904201</td>\n",
       "      <td>0.619145</td>\n",
       "      <td>0.853933</td>\n",
       "      <td>0.485623</td>\n",
       "    </tr>\n",
       "    <tr>\n",
       "      <td>4</td>\n",
       "      <td>0.253100</td>\n",
       "      <td>0.263777</td>\n",
       "      <td>0.906250</td>\n",
       "      <td>0.613108</td>\n",
       "      <td>0.906250</td>\n",
       "      <td>0.463259</td>\n",
       "    </tr>\n",
       "    <tr>\n",
       "      <td>5</td>\n",
       "      <td>0.231900</td>\n",
       "      <td>0.256196</td>\n",
       "      <td>0.909324</td>\n",
       "      <td>0.658960</td>\n",
       "      <td>0.830097</td>\n",
       "      <td>0.546326</td>\n",
       "    </tr>\n",
       "  </tbody>\n",
       "</table><p>"
      ],
      "text/plain": [
       "<IPython.core.display.HTML object>"
      ]
     },
     "metadata": {},
     "output_type": "display_data"
    },
    {
     "data": {
      "application/vnd.jupyter.widget-view+json": {
       "model_id": "",
       "version_major": 2,
       "version_minor": 0
      },
      "text/plain": [
       "VBox(children=(Label(value='0.008 MB of 0.008 MB uploaded\\r'), FloatProgress(value=1.0, max=1.0)))"
      ]
     },
     "metadata": {},
     "output_type": "display_data"
    },
    {
     "data": {
      "text/html": [
       "<style>\n",
       "    table.wandb td:nth-child(1) { padding: 0 10px; text-align: left ; width: auto;} td:nth-child(2) {text-align: left ; width: 100%}\n",
       "    .wandb-row { display: flex; flex-direction: row; flex-wrap: wrap; justify-content: flex-start; width: 100% }\n",
       "    .wandb-col { display: flex; flex-direction: column; flex-basis: 100%; flex: 1; padding: 10px; }\n",
       "    </style>\n",
       "<div class=\"wandb-row\"><div class=\"wandb-col\"><h3>Run history:</h3><br/><table class=\"wandb\"><tr><td>eval/accuracy</td><td>▁▆▇▇█</td></tr><tr><td>eval/f1</td><td>▁▄▆▆█</td></tr><tr><td>eval/loss</td><td>█▄▃▂▁</td></tr><tr><td>eval/precision</td><td>▁█▆█▅</td></tr><tr><td>eval/recall</td><td>▁▁▅▄█</td></tr><tr><td>eval/runtime</td><td>▄▅█▁▇</td></tr><tr><td>eval/samples_per_second</td><td>▅▄▁█▂</td></tr><tr><td>eval/steps_per_second</td><td>▅▄▁█▂</td></tr><tr><td>train/epoch</td><td>▁▁▃▃▅▅▆▆███</td></tr><tr><td>train/global_step</td><td>▁▁▃▃▅▅▆▆███</td></tr><tr><td>train/grad_norm</td><td>█▁▅▂▅</td></tr><tr><td>train/learning_rate</td><td>█▆▅▃▁</td></tr><tr><td>train/loss</td><td>█▃▂▁▁</td></tr></table><br/></div><div class=\"wandb-col\"><h3>Run summary:</h3><br/><table class=\"wandb\"><tr><td>eval/accuracy</td><td>0.90932</td></tr><tr><td>eval/f1</td><td>0.65896</td></tr><tr><td>eval/loss</td><td>0.2562</td></tr><tr><td>eval/precision</td><td>0.8301</td></tr><tr><td>eval/recall</td><td>0.54633</td></tr><tr><td>eval/runtime</td><td>2.7821</td></tr><tr><td>eval/samples_per_second</td><td>87.702</td></tr><tr><td>eval/steps_per_second</td><td>5.751</td></tr><tr><td>total_flos</td><td>1737574735686144.0</td></tr><tr><td>train/epoch</td><td>5.0</td></tr><tr><td>train/global_step</td><td>305</td></tr><tr><td>train/grad_norm</td><td>1.35282</td></tr><tr><td>train/learning_rate</td><td>0.0</td></tr><tr><td>train/loss</td><td>0.2319</td></tr><tr><td>train_loss</td><td>0.32914</td></tr><tr><td>train_runtime</td><td>241.2974</td></tr><tr><td>train_samples_per_second</td><td>20.162</td></tr><tr><td>train_steps_per_second</td><td>1.264</td></tr></table><br/></div></div>"
      ],
      "text/plain": [
       "<IPython.core.display.HTML object>"
      ]
     },
     "metadata": {},
     "output_type": "display_data"
    },
    {
     "data": {
      "text/html": [
       " View run <strong style=\"color:#cdcd00\">hopeful-sweep-27</strong> at: <a href='https://wandb.ai/ai-aloe/metacognitive_classifier/runs/esi54qh8' target=\"_blank\">https://wandb.ai/ai-aloe/metacognitive_classifier/runs/esi54qh8</a><br/> View project at: <a href='https://wandb.ai/ai-aloe/metacognitive_classifier' target=\"_blank\">https://wandb.ai/ai-aloe/metacognitive_classifier</a><br/>Synced 6 W&B file(s), 0 media file(s), 0 artifact file(s) and 0 other file(s)"
      ],
      "text/plain": [
       "<IPython.core.display.HTML object>"
      ]
     },
     "metadata": {},
     "output_type": "display_data"
    },
    {
     "data": {
      "text/html": [
       "Find logs at: <code>./wandb/run-20240517_225726-esi54qh8/logs</code>"
      ],
      "text/plain": [
       "<IPython.core.display.HTML object>"
      ]
     },
     "metadata": {},
     "output_type": "display_data"
    },
    {
     "name": "stderr",
     "output_type": "stream",
     "text": [
      "\u001b[34m\u001b[1mwandb\u001b[0m: Agent Starting Run: uirmmo0s with config:\n",
      "\u001b[34m\u001b[1mwandb\u001b[0m: \tepochs: 1\n",
      "\u001b[34m\u001b[1mwandb\u001b[0m: \tlearning_rate: 7.425516935504392e-06\n",
      "\u001b[34m\u001b[1mwandb\u001b[0m: \twarmup_steps: 50\n",
      "\u001b[34m\u001b[1mwandb\u001b[0m: \tweight_decay: 0.01\n",
      "Failed to detect the name of this notebook, you can set it manually with the WANDB_NOTEBOOK_NAME environment variable to enable code saving.\n"
     ]
    },
    {
     "data": {
      "text/html": [
       "wandb version 0.17.0 is available!  To upgrade, please run:\n",
       " $ pip install wandb --upgrade"
      ],
      "text/plain": [
       "<IPython.core.display.HTML object>"
      ]
     },
     "metadata": {},
     "output_type": "display_data"
    },
    {
     "data": {
      "text/html": [
       "Tracking run with wandb version 0.16.6"
      ],
      "text/plain": [
       "<IPython.core.display.HTML object>"
      ]
     },
     "metadata": {},
     "output_type": "display_data"
    },
    {
     "data": {
      "text/html": [
       "Run data is saved locally in <code>/home/jovyan/metacognitive-span-categorization/src/classification/wandb/run-20240517_230141-uirmmo0s</code>"
      ],
      "text/plain": [
       "<IPython.core.display.HTML object>"
      ]
     },
     "metadata": {},
     "output_type": "display_data"
    },
    {
     "data": {
      "text/html": [
       "Syncing run <strong><a href='https://wandb.ai/ai-aloe/metacognitive_classifier/runs/uirmmo0s' target=\"_blank\">leafy-sweep-28</a></strong> to <a href='https://wandb.ai/ai-aloe/metacognitive_classifier' target=\"_blank\">Weights & Biases</a> (<a href='https://wandb.me/run' target=\"_blank\">docs</a>)<br/>Sweep page: <a href='https://wandb.ai/ai-aloe/metacognitive_classifier/sweeps/8ellv5tx' target=\"_blank\">https://wandb.ai/ai-aloe/metacognitive_classifier/sweeps/8ellv5tx</a>"
      ],
      "text/plain": [
       "<IPython.core.display.HTML object>"
      ]
     },
     "metadata": {},
     "output_type": "display_data"
    },
    {
     "data": {
      "text/html": [
       " View project at <a href='https://wandb.ai/ai-aloe/metacognitive_classifier' target=\"_blank\">https://wandb.ai/ai-aloe/metacognitive_classifier</a>"
      ],
      "text/plain": [
       "<IPython.core.display.HTML object>"
      ]
     },
     "metadata": {},
     "output_type": "display_data"
    },
    {
     "data": {
      "text/html": [
       " View sweep at <a href='https://wandb.ai/ai-aloe/metacognitive_classifier/sweeps/8ellv5tx' target=\"_blank\">https://wandb.ai/ai-aloe/metacognitive_classifier/sweeps/8ellv5tx</a>"
      ],
      "text/plain": [
       "<IPython.core.display.HTML object>"
      ]
     },
     "metadata": {},
     "output_type": "display_data"
    },
    {
     "data": {
      "text/html": [
       " View run at <a href='https://wandb.ai/ai-aloe/metacognitive_classifier/runs/uirmmo0s' target=\"_blank\">https://wandb.ai/ai-aloe/metacognitive_classifier/runs/uirmmo0s</a>"
      ],
      "text/plain": [
       "<IPython.core.display.HTML object>"
      ]
     },
     "metadata": {},
     "output_type": "display_data"
    },
    {
     "name": "stderr",
     "output_type": "stream",
     "text": [
      "Some weights of DebertaV2ForSequenceClassification were not initialized from the model checkpoint at microsoft/deberta-v3-large and are newly initialized: ['classifier.bias', 'classifier.weight', 'pooler.dense.bias', 'pooler.dense.weight']\n",
      "You should probably TRAIN this model on a down-stream task to be able to use it for predictions and inference.\n",
      "\u001b[34m\u001b[1mwandb\u001b[0m: \u001b[33mWARNING\u001b[0m Config item 'learning_rate' was locked by 'sweep' (ignored update).\n",
      "\u001b[34m\u001b[1mwandb\u001b[0m: \u001b[33mWARNING\u001b[0m Config item 'weight_decay' was locked by 'sweep' (ignored update).\n",
      "\u001b[34m\u001b[1mwandb\u001b[0m: \u001b[33mWARNING\u001b[0m Config item 'warmup_steps' was locked by 'sweep' (ignored update).\n"
     ]
    },
    {
     "data": {
      "text/html": [
       "\n",
       "    <div>\n",
       "      \n",
       "      <progress value='61' max='61' style='width:300px; height:20px; vertical-align: middle;'></progress>\n",
       "      [61/61 00:47, Epoch 1/1]\n",
       "    </div>\n",
       "    <table border=\"1\" class=\"dataframe\">\n",
       "  <thead>\n",
       " <tr style=\"text-align: left;\">\n",
       "      <th>Epoch</th>\n",
       "      <th>Training Loss</th>\n",
       "      <th>Validation Loss</th>\n",
       "      <th>Accuracy</th>\n",
       "      <th>F1</th>\n",
       "      <th>Precision</th>\n",
       "      <th>Recall</th>\n",
       "    </tr>\n",
       "  </thead>\n",
       "  <tbody>\n",
       "    <tr>\n",
       "      <td>1</td>\n",
       "      <td>0.566800</td>\n",
       "      <td>0.365972</td>\n",
       "      <td>0.869365</td>\n",
       "      <td>0.506770</td>\n",
       "      <td>0.642157</td>\n",
       "      <td>0.418530</td>\n",
       "    </tr>\n",
       "  </tbody>\n",
       "</table><p>"
      ],
      "text/plain": [
       "<IPython.core.display.HTML object>"
      ]
     },
     "metadata": {},
     "output_type": "display_data"
    },
    {
     "data": {
      "application/vnd.jupyter.widget-view+json": {
       "model_id": "",
       "version_major": 2,
       "version_minor": 0
      },
      "text/plain": [
       "VBox(children=(Label(value='0.008 MB of 0.008 MB uploaded\\r'), FloatProgress(value=1.0, max=1.0)))"
      ]
     },
     "metadata": {},
     "output_type": "display_data"
    },
    {
     "data": {
      "text/html": [
       "<style>\n",
       "    table.wandb td:nth-child(1) { padding: 0 10px; text-align: left ; width: auto;} td:nth-child(2) {text-align: left ; width: 100%}\n",
       "    .wandb-row { display: flex; flex-direction: row; flex-wrap: wrap; justify-content: flex-start; width: 100% }\n",
       "    .wandb-col { display: flex; flex-direction: column; flex-basis: 100%; flex: 1; padding: 10px; }\n",
       "    </style>\n",
       "<div class=\"wandb-row\"><div class=\"wandb-col\"><h3>Run history:</h3><br/><table class=\"wandb\"><tr><td>eval/accuracy</td><td>▁</td></tr><tr><td>eval/f1</td><td>▁</td></tr><tr><td>eval/loss</td><td>▁</td></tr><tr><td>eval/precision</td><td>▁</td></tr><tr><td>eval/recall</td><td>▁</td></tr><tr><td>eval/runtime</td><td>▁</td></tr><tr><td>eval/samples_per_second</td><td>▁</td></tr><tr><td>eval/steps_per_second</td><td>▁</td></tr><tr><td>train/epoch</td><td>▁▁▁</td></tr><tr><td>train/global_step</td><td>▁▁▁</td></tr><tr><td>train/grad_norm</td><td>▁</td></tr><tr><td>train/learning_rate</td><td>▁</td></tr><tr><td>train/loss</td><td>▁</td></tr></table><br/></div><div class=\"wandb-col\"><h3>Run summary:</h3><br/><table class=\"wandb\"><tr><td>eval/accuracy</td><td>0.86936</td></tr><tr><td>eval/f1</td><td>0.50677</td></tr><tr><td>eval/loss</td><td>0.36597</td></tr><tr><td>eval/precision</td><td>0.64216</td></tr><tr><td>eval/recall</td><td>0.41853</td></tr><tr><td>eval/runtime</td><td>2.761</td></tr><tr><td>eval/samples_per_second</td><td>88.373</td></tr><tr><td>eval/steps_per_second</td><td>5.795</td></tr><tr><td>total_flos</td><td>350939887449600.0</td></tr><tr><td>train/epoch</td><td>1.0</td></tr><tr><td>train/global_step</td><td>61</td></tr><tr><td>train/grad_norm</td><td>1.46854</td></tr><tr><td>train/learning_rate</td><td>0.0</td></tr><tr><td>train/loss</td><td>0.5668</td></tr><tr><td>train_loss</td><td>0.56675</td></tr><tr><td>train_runtime</td><td>48.5678</td></tr><tr><td>train_samples_per_second</td><td>20.034</td></tr><tr><td>train_steps_per_second</td><td>1.256</td></tr></table><br/></div></div>"
      ],
      "text/plain": [
       "<IPython.core.display.HTML object>"
      ]
     },
     "metadata": {},
     "output_type": "display_data"
    },
    {
     "data": {
      "text/html": [
       " View run <strong style=\"color:#cdcd00\">leafy-sweep-28</strong> at: <a href='https://wandb.ai/ai-aloe/metacognitive_classifier/runs/uirmmo0s' target=\"_blank\">https://wandb.ai/ai-aloe/metacognitive_classifier/runs/uirmmo0s</a><br/> View project at: <a href='https://wandb.ai/ai-aloe/metacognitive_classifier' target=\"_blank\">https://wandb.ai/ai-aloe/metacognitive_classifier</a><br/>Synced 6 W&B file(s), 0 media file(s), 0 artifact file(s) and 0 other file(s)"
      ],
      "text/plain": [
       "<IPython.core.display.HTML object>"
      ]
     },
     "metadata": {},
     "output_type": "display_data"
    },
    {
     "data": {
      "text/html": [
       "Find logs at: <code>./wandb/run-20240517_230141-uirmmo0s/logs</code>"
      ],
      "text/plain": [
       "<IPython.core.display.HTML object>"
      ]
     },
     "metadata": {},
     "output_type": "display_data"
    },
    {
     "name": "stderr",
     "output_type": "stream",
     "text": [
      "\u001b[34m\u001b[1mwandb\u001b[0m: Agent Starting Run: sn8wc0y6 with config:\n",
      "\u001b[34m\u001b[1mwandb\u001b[0m: \tepochs: 10\n",
      "\u001b[34m\u001b[1mwandb\u001b[0m: \tlearning_rate: 5.183910896250867e-06\n",
      "\u001b[34m\u001b[1mwandb\u001b[0m: \twarmup_steps: 1000\n",
      "\u001b[34m\u001b[1mwandb\u001b[0m: \tweight_decay: 0.01\n",
      "Failed to detect the name of this notebook, you can set it manually with the WANDB_NOTEBOOK_NAME environment variable to enable code saving.\n"
     ]
    },
    {
     "data": {
      "text/html": [
       "wandb version 0.17.0 is available!  To upgrade, please run:\n",
       " $ pip install wandb --upgrade"
      ],
      "text/plain": [
       "<IPython.core.display.HTML object>"
      ]
     },
     "metadata": {},
     "output_type": "display_data"
    },
    {
     "data": {
      "text/html": [
       "Tracking run with wandb version 0.16.6"
      ],
      "text/plain": [
       "<IPython.core.display.HTML object>"
      ]
     },
     "metadata": {},
     "output_type": "display_data"
    },
    {
     "data": {
      "text/html": [
       "Run data is saved locally in <code>/home/jovyan/metacognitive-span-categorization/src/classification/wandb/run-20240517_230243-sn8wc0y6</code>"
      ],
      "text/plain": [
       "<IPython.core.display.HTML object>"
      ]
     },
     "metadata": {},
     "output_type": "display_data"
    },
    {
     "data": {
      "text/html": [
       "Syncing run <strong><a href='https://wandb.ai/ai-aloe/metacognitive_classifier/runs/sn8wc0y6' target=\"_blank\">iconic-sweep-29</a></strong> to <a href='https://wandb.ai/ai-aloe/metacognitive_classifier' target=\"_blank\">Weights & Biases</a> (<a href='https://wandb.me/run' target=\"_blank\">docs</a>)<br/>Sweep page: <a href='https://wandb.ai/ai-aloe/metacognitive_classifier/sweeps/8ellv5tx' target=\"_blank\">https://wandb.ai/ai-aloe/metacognitive_classifier/sweeps/8ellv5tx</a>"
      ],
      "text/plain": [
       "<IPython.core.display.HTML object>"
      ]
     },
     "metadata": {},
     "output_type": "display_data"
    },
    {
     "data": {
      "text/html": [
       " View project at <a href='https://wandb.ai/ai-aloe/metacognitive_classifier' target=\"_blank\">https://wandb.ai/ai-aloe/metacognitive_classifier</a>"
      ],
      "text/plain": [
       "<IPython.core.display.HTML object>"
      ]
     },
     "metadata": {},
     "output_type": "display_data"
    },
    {
     "data": {
      "text/html": [
       " View sweep at <a href='https://wandb.ai/ai-aloe/metacognitive_classifier/sweeps/8ellv5tx' target=\"_blank\">https://wandb.ai/ai-aloe/metacognitive_classifier/sweeps/8ellv5tx</a>"
      ],
      "text/plain": [
       "<IPython.core.display.HTML object>"
      ]
     },
     "metadata": {},
     "output_type": "display_data"
    },
    {
     "data": {
      "text/html": [
       " View run at <a href='https://wandb.ai/ai-aloe/metacognitive_classifier/runs/sn8wc0y6' target=\"_blank\">https://wandb.ai/ai-aloe/metacognitive_classifier/runs/sn8wc0y6</a>"
      ],
      "text/plain": [
       "<IPython.core.display.HTML object>"
      ]
     },
     "metadata": {},
     "output_type": "display_data"
    },
    {
     "name": "stderr",
     "output_type": "stream",
     "text": [
      "Some weights of DebertaV2ForSequenceClassification were not initialized from the model checkpoint at microsoft/deberta-v3-large and are newly initialized: ['classifier.bias', 'classifier.weight', 'pooler.dense.bias', 'pooler.dense.weight']\n",
      "You should probably TRAIN this model on a down-stream task to be able to use it for predictions and inference.\n",
      "\u001b[34m\u001b[1mwandb\u001b[0m: \u001b[33mWARNING\u001b[0m Config item 'learning_rate' was locked by 'sweep' (ignored update).\n",
      "\u001b[34m\u001b[1mwandb\u001b[0m: \u001b[33mWARNING\u001b[0m Config item 'weight_decay' was locked by 'sweep' (ignored update).\n",
      "\u001b[34m\u001b[1mwandb\u001b[0m: \u001b[33mWARNING\u001b[0m Config item 'warmup_steps' was locked by 'sweep' (ignored update).\n"
     ]
    },
    {
     "data": {
      "text/html": [
       "\n",
       "    <div>\n",
       "      \n",
       "      <progress value='610' max='610' style='width:300px; height:20px; vertical-align: middle;'></progress>\n",
       "      [610/610 08:06, Epoch 10/10]\n",
       "    </div>\n",
       "    <table border=\"1\" class=\"dataframe\">\n",
       "  <thead>\n",
       " <tr style=\"text-align: left;\">\n",
       "      <th>Epoch</th>\n",
       "      <th>Training Loss</th>\n",
       "      <th>Validation Loss</th>\n",
       "      <th>Accuracy</th>\n",
       "      <th>F1</th>\n",
       "      <th>Precision</th>\n",
       "      <th>Recall</th>\n",
       "    </tr>\n",
       "  </thead>\n",
       "  <tbody>\n",
       "    <tr>\n",
       "      <td>1</td>\n",
       "      <td>0.728400</td>\n",
       "      <td>0.726005</td>\n",
       "      <td>0.296619</td>\n",
       "      <td>0.291903</td>\n",
       "      <td>0.174047</td>\n",
       "      <td>0.904153</td>\n",
       "    </tr>\n",
       "    <tr>\n",
       "      <td>2</td>\n",
       "      <td>0.717400</td>\n",
       "      <td>0.709451</td>\n",
       "      <td>0.540984</td>\n",
       "      <td>0.352601</td>\n",
       "      <td>0.227824</td>\n",
       "      <td>0.779553</td>\n",
       "    </tr>\n",
       "    <tr>\n",
       "      <td>3</td>\n",
       "      <td>0.670300</td>\n",
       "      <td>0.525888</td>\n",
       "      <td>0.835553</td>\n",
       "      <td>0.000000</td>\n",
       "      <td>0.000000</td>\n",
       "      <td>0.000000</td>\n",
       "    </tr>\n",
       "    <tr>\n",
       "      <td>4</td>\n",
       "      <td>0.429000</td>\n",
       "      <td>0.360857</td>\n",
       "      <td>0.869365</td>\n",
       "      <td>0.508671</td>\n",
       "      <td>0.640777</td>\n",
       "      <td>0.421725</td>\n",
       "    </tr>\n",
       "    <tr>\n",
       "      <td>5</td>\n",
       "      <td>0.353000</td>\n",
       "      <td>0.327095</td>\n",
       "      <td>0.883709</td>\n",
       "      <td>0.511828</td>\n",
       "      <td>0.782895</td>\n",
       "      <td>0.380192</td>\n",
       "    </tr>\n",
       "    <tr>\n",
       "      <td>6</td>\n",
       "      <td>0.321600</td>\n",
       "      <td>0.301329</td>\n",
       "      <td>0.896004</td>\n",
       "      <td>0.551876</td>\n",
       "      <td>0.892857</td>\n",
       "      <td>0.399361</td>\n",
       "    </tr>\n",
       "    <tr>\n",
       "      <td>7</td>\n",
       "      <td>0.299100</td>\n",
       "      <td>0.290008</td>\n",
       "      <td>0.902152</td>\n",
       "      <td>0.604555</td>\n",
       "      <td>0.858824</td>\n",
       "      <td>0.466454</td>\n",
       "    </tr>\n",
       "    <tr>\n",
       "      <td>8</td>\n",
       "      <td>0.275000</td>\n",
       "      <td>0.270594</td>\n",
       "      <td>0.908811</td>\n",
       "      <td>0.622881</td>\n",
       "      <td>0.924528</td>\n",
       "      <td>0.469649</td>\n",
       "    </tr>\n",
       "    <tr>\n",
       "      <td>9</td>\n",
       "      <td>0.254300</td>\n",
       "      <td>0.261885</td>\n",
       "      <td>0.913422</td>\n",
       "      <td>0.691042</td>\n",
       "      <td>0.807692</td>\n",
       "      <td>0.603834</td>\n",
       "    </tr>\n",
       "    <tr>\n",
       "      <td>10</td>\n",
       "      <td>0.233300</td>\n",
       "      <td>0.246236</td>\n",
       "      <td>0.916496</td>\n",
       "      <td>0.697588</td>\n",
       "      <td>0.831858</td>\n",
       "      <td>0.600639</td>\n",
       "    </tr>\n",
       "  </tbody>\n",
       "</table><p>"
      ],
      "text/plain": [
       "<IPython.core.display.HTML object>"
      ]
     },
     "metadata": {},
     "output_type": "display_data"
    },
    {
     "data": {
      "application/vnd.jupyter.widget-view+json": {
       "model_id": "",
       "version_major": 2,
       "version_minor": 0
      },
      "text/plain": [
       "VBox(children=(Label(value='0.008 MB of 0.008 MB uploaded\\r'), FloatProgress(value=1.0, max=1.0)))"
      ]
     },
     "metadata": {},
     "output_type": "display_data"
    },
    {
     "data": {
      "text/html": [
       "<style>\n",
       "    table.wandb td:nth-child(1) { padding: 0 10px; text-align: left ; width: auto;} td:nth-child(2) {text-align: left ; width: 100%}\n",
       "    .wandb-row { display: flex; flex-direction: row; flex-wrap: wrap; justify-content: flex-start; width: 100% }\n",
       "    .wandb-col { display: flex; flex-direction: column; flex-basis: 100%; flex: 1; padding: 10px; }\n",
       "    </style>\n",
       "<div class=\"wandb-row\"><div class=\"wandb-col\"><h3>Run history:</h3><br/><table class=\"wandb\"><tr><td>eval/accuracy</td><td>▁▄▇▇██████</td></tr><tr><td>eval/f1</td><td>▄▅▁▆▆▇▇▇██</td></tr><tr><td>eval/loss</td><td>██▅▃▂▂▂▁▁▁</td></tr><tr><td>eval/precision</td><td>▂▃▁▆▇███▇▇</td></tr><tr><td>eval/recall</td><td>█▇▁▄▄▄▅▅▆▆</td></tr><tr><td>eval/runtime</td><td>▁▅█▅▃▄▄▄▄▃</td></tr><tr><td>eval/samples_per_second</td><td>█▄▁▄▆▅▅▅▄▆</td></tr><tr><td>eval/steps_per_second</td><td>█▄▁▄▆▅▅▅▄▆</td></tr><tr><td>train/epoch</td><td>▁▁▂▂▃▃▃▃▄▄▅▅▆▆▆▆▇▇███</td></tr><tr><td>train/global_step</td><td>▁▁▂▂▃▃▃▃▄▄▅▅▆▆▆▆▇▇███</td></tr><tr><td>train/grad_norm</td><td>▃▃▃▁▁█▂▅█▅</td></tr><tr><td>train/learning_rate</td><td>▁▂▃▃▄▅▆▆▇█</td></tr><tr><td>train/loss</td><td>██▇▄▃▂▂▂▁▁</td></tr></table><br/></div><div class=\"wandb-col\"><h3>Run summary:</h3><br/><table class=\"wandb\"><tr><td>eval/accuracy</td><td>0.9165</td></tr><tr><td>eval/f1</td><td>0.69759</td></tr><tr><td>eval/loss</td><td>0.24624</td></tr><tr><td>eval/precision</td><td>0.83186</td></tr><tr><td>eval/recall</td><td>0.60064</td></tr><tr><td>eval/runtime</td><td>2.768</td></tr><tr><td>eval/samples_per_second</td><td>88.15</td></tr><tr><td>eval/steps_per_second</td><td>5.78</td></tr><tr><td>total_flos</td><td>3444860883575808.0</td></tr><tr><td>train/epoch</td><td>10.0</td></tr><tr><td>train/global_step</td><td>610</td></tr><tr><td>train/grad_norm</td><td>2.32192</td></tr><tr><td>train/learning_rate</td><td>0.0</td></tr><tr><td>train/loss</td><td>0.2333</td></tr><tr><td>train_loss</td><td>0.42813</td></tr><tr><td>train_runtime</td><td>487.3326</td></tr><tr><td>train_samples_per_second</td><td>19.966</td></tr><tr><td>train_steps_per_second</td><td>1.252</td></tr></table><br/></div></div>"
      ],
      "text/plain": [
       "<IPython.core.display.HTML object>"
      ]
     },
     "metadata": {},
     "output_type": "display_data"
    },
    {
     "data": {
      "text/html": [
       " View run <strong style=\"color:#cdcd00\">iconic-sweep-29</strong> at: <a href='https://wandb.ai/ai-aloe/metacognitive_classifier/runs/sn8wc0y6' target=\"_blank\">https://wandb.ai/ai-aloe/metacognitive_classifier/runs/sn8wc0y6</a><br/> View project at: <a href='https://wandb.ai/ai-aloe/metacognitive_classifier' target=\"_blank\">https://wandb.ai/ai-aloe/metacognitive_classifier</a><br/>Synced 6 W&B file(s), 0 media file(s), 0 artifact file(s) and 0 other file(s)"
      ],
      "text/plain": [
       "<IPython.core.display.HTML object>"
      ]
     },
     "metadata": {},
     "output_type": "display_data"
    },
    {
     "data": {
      "text/html": [
       "Find logs at: <code>./wandb/run-20240517_230243-sn8wc0y6/logs</code>"
      ],
      "text/plain": [
       "<IPython.core.display.HTML object>"
      ]
     },
     "metadata": {},
     "output_type": "display_data"
    },
    {
     "name": "stderr",
     "output_type": "stream",
     "text": [
      "\u001b[34m\u001b[1mwandb\u001b[0m: Agent Starting Run: eci9saaa with config:\n",
      "\u001b[34m\u001b[1mwandb\u001b[0m: \tepochs: 2\n",
      "\u001b[34m\u001b[1mwandb\u001b[0m: \tlearning_rate: 5.067048219163398e-06\n",
      "\u001b[34m\u001b[1mwandb\u001b[0m: \twarmup_steps: 1000\n",
      "\u001b[34m\u001b[1mwandb\u001b[0m: \tweight_decay: 0.01\n",
      "Failed to detect the name of this notebook, you can set it manually with the WANDB_NOTEBOOK_NAME environment variable to enable code saving.\n"
     ]
    },
    {
     "data": {
      "text/html": [
       "wandb version 0.17.0 is available!  To upgrade, please run:\n",
       " $ pip install wandb --upgrade"
      ],
      "text/plain": [
       "<IPython.core.display.HTML object>"
      ]
     },
     "metadata": {},
     "output_type": "display_data"
    },
    {
     "data": {
      "text/html": [
       "Tracking run with wandb version 0.16.6"
      ],
      "text/plain": [
       "<IPython.core.display.HTML object>"
      ]
     },
     "metadata": {},
     "output_type": "display_data"
    },
    {
     "data": {
      "text/html": [
       "Run data is saved locally in <code>/home/jovyan/metacognitive-span-categorization/src/classification/wandb/run-20240517_231104-eci9saaa</code>"
      ],
      "text/plain": [
       "<IPython.core.display.HTML object>"
      ]
     },
     "metadata": {},
     "output_type": "display_data"
    },
    {
     "data": {
      "text/html": [
       "Syncing run <strong><a href='https://wandb.ai/ai-aloe/metacognitive_classifier/runs/eci9saaa' target=\"_blank\">decent-sweep-30</a></strong> to <a href='https://wandb.ai/ai-aloe/metacognitive_classifier' target=\"_blank\">Weights & Biases</a> (<a href='https://wandb.me/run' target=\"_blank\">docs</a>)<br/>Sweep page: <a href='https://wandb.ai/ai-aloe/metacognitive_classifier/sweeps/8ellv5tx' target=\"_blank\">https://wandb.ai/ai-aloe/metacognitive_classifier/sweeps/8ellv5tx</a>"
      ],
      "text/plain": [
       "<IPython.core.display.HTML object>"
      ]
     },
     "metadata": {},
     "output_type": "display_data"
    },
    {
     "data": {
      "text/html": [
       " View project at <a href='https://wandb.ai/ai-aloe/metacognitive_classifier' target=\"_blank\">https://wandb.ai/ai-aloe/metacognitive_classifier</a>"
      ],
      "text/plain": [
       "<IPython.core.display.HTML object>"
      ]
     },
     "metadata": {},
     "output_type": "display_data"
    },
    {
     "data": {
      "text/html": [
       " View sweep at <a href='https://wandb.ai/ai-aloe/metacognitive_classifier/sweeps/8ellv5tx' target=\"_blank\">https://wandb.ai/ai-aloe/metacognitive_classifier/sweeps/8ellv5tx</a>"
      ],
      "text/plain": [
       "<IPython.core.display.HTML object>"
      ]
     },
     "metadata": {},
     "output_type": "display_data"
    },
    {
     "data": {
      "text/html": [
       " View run at <a href='https://wandb.ai/ai-aloe/metacognitive_classifier/runs/eci9saaa' target=\"_blank\">https://wandb.ai/ai-aloe/metacognitive_classifier/runs/eci9saaa</a>"
      ],
      "text/plain": [
       "<IPython.core.display.HTML object>"
      ]
     },
     "metadata": {},
     "output_type": "display_data"
    },
    {
     "name": "stderr",
     "output_type": "stream",
     "text": [
      "Some weights of DebertaV2ForSequenceClassification were not initialized from the model checkpoint at microsoft/deberta-v3-large and are newly initialized: ['classifier.bias', 'classifier.weight', 'pooler.dense.bias', 'pooler.dense.weight']\n",
      "You should probably TRAIN this model on a down-stream task to be able to use it for predictions and inference.\n",
      "\u001b[34m\u001b[1mwandb\u001b[0m: \u001b[33mWARNING\u001b[0m Config item 'learning_rate' was locked by 'sweep' (ignored update).\n",
      "\u001b[34m\u001b[1mwandb\u001b[0m: \u001b[33mWARNING\u001b[0m Config item 'weight_decay' was locked by 'sweep' (ignored update).\n",
      "\u001b[34m\u001b[1mwandb\u001b[0m: \u001b[33mWARNING\u001b[0m Config item 'warmup_steps' was locked by 'sweep' (ignored update).\n"
     ]
    },
    {
     "data": {
      "text/html": [
       "\n",
       "    <div>\n",
       "      \n",
       "      <progress value='122' max='122' style='width:300px; height:20px; vertical-align: middle;'></progress>\n",
       "      [122/122 01:35, Epoch 2/2]\n",
       "    </div>\n",
       "    <table border=\"1\" class=\"dataframe\">\n",
       "  <thead>\n",
       " <tr style=\"text-align: left;\">\n",
       "      <th>Epoch</th>\n",
       "      <th>Training Loss</th>\n",
       "      <th>Validation Loss</th>\n",
       "      <th>Accuracy</th>\n",
       "      <th>F1</th>\n",
       "      <th>Precision</th>\n",
       "      <th>Recall</th>\n",
       "    </tr>\n",
       "  </thead>\n",
       "  <tbody>\n",
       "    <tr>\n",
       "      <td>1</td>\n",
       "      <td>0.677700</td>\n",
       "      <td>0.671511</td>\n",
       "      <td>0.693135</td>\n",
       "      <td>0.159888</td>\n",
       "      <td>0.142500</td>\n",
       "      <td>0.182109</td>\n",
       "    </tr>\n",
       "    <tr>\n",
       "      <td>2</td>\n",
       "      <td>0.666900</td>\n",
       "      <td>0.655243</td>\n",
       "      <td>0.726947</td>\n",
       "      <td>0.043088</td>\n",
       "      <td>0.049180</td>\n",
       "      <td>0.038339</td>\n",
       "    </tr>\n",
       "  </tbody>\n",
       "</table><p>"
      ],
      "text/plain": [
       "<IPython.core.display.HTML object>"
      ]
     },
     "metadata": {},
     "output_type": "display_data"
    },
    {
     "data": {
      "application/vnd.jupyter.widget-view+json": {
       "model_id": "",
       "version_major": 2,
       "version_minor": 0
      },
      "text/plain": [
       "VBox(children=(Label(value='0.008 MB of 0.008 MB uploaded\\r'), FloatProgress(value=1.0, max=1.0)))"
      ]
     },
     "metadata": {},
     "output_type": "display_data"
    },
    {
     "data": {
      "text/html": [
       "<style>\n",
       "    table.wandb td:nth-child(1) { padding: 0 10px; text-align: left ; width: auto;} td:nth-child(2) {text-align: left ; width: 100%}\n",
       "    .wandb-row { display: flex; flex-direction: row; flex-wrap: wrap; justify-content: flex-start; width: 100% }\n",
       "    .wandb-col { display: flex; flex-direction: column; flex-basis: 100%; flex: 1; padding: 10px; }\n",
       "    </style>\n",
       "<div class=\"wandb-row\"><div class=\"wandb-col\"><h3>Run history:</h3><br/><table class=\"wandb\"><tr><td>eval/accuracy</td><td>▁█</td></tr><tr><td>eval/f1</td><td>█▁</td></tr><tr><td>eval/loss</td><td>█▁</td></tr><tr><td>eval/precision</td><td>█▁</td></tr><tr><td>eval/recall</td><td>█▁</td></tr><tr><td>eval/runtime</td><td>▁█</td></tr><tr><td>eval/samples_per_second</td><td>█▁</td></tr><tr><td>eval/steps_per_second</td><td>█▁</td></tr><tr><td>train/epoch</td><td>▁▁███</td></tr><tr><td>train/global_step</td><td>▁▁███</td></tr><tr><td>train/grad_norm</td><td>▁█</td></tr><tr><td>train/learning_rate</td><td>▁█</td></tr><tr><td>train/loss</td><td>█▁</td></tr></table><br/></div><div class=\"wandb-col\"><h3>Run summary:</h3><br/><table class=\"wandb\"><tr><td>eval/accuracy</td><td>0.72695</td></tr><tr><td>eval/f1</td><td>0.04309</td></tr><tr><td>eval/loss</td><td>0.65524</td></tr><tr><td>eval/precision</td><td>0.04918</td></tr><tr><td>eval/recall</td><td>0.03834</td></tr><tr><td>eval/runtime</td><td>2.7821</td></tr><tr><td>eval/samples_per_second</td><td>87.704</td></tr><tr><td>eval/steps_per_second</td><td>5.751</td></tr><tr><td>total_flos</td><td>697860712287744.0</td></tr><tr><td>train/epoch</td><td>2.0</td></tr><tr><td>train/global_step</td><td>122</td></tr><tr><td>train/grad_norm</td><td>1.66918</td></tr><tr><td>train/learning_rate</td><td>0.0</td></tr><tr><td>train/loss</td><td>0.6669</td></tr><tr><td>train_loss</td><td>0.67229</td></tr><tr><td>train_runtime</td><td>96.6313</td></tr><tr><td>train_samples_per_second</td><td>20.138</td></tr><tr><td>train_steps_per_second</td><td>1.263</td></tr></table><br/></div></div>"
      ],
      "text/plain": [
       "<IPython.core.display.HTML object>"
      ]
     },
     "metadata": {},
     "output_type": "display_data"
    },
    {
     "data": {
      "text/html": [
       " View run <strong style=\"color:#cdcd00\">decent-sweep-30</strong> at: <a href='https://wandb.ai/ai-aloe/metacognitive_classifier/runs/eci9saaa' target=\"_blank\">https://wandb.ai/ai-aloe/metacognitive_classifier/runs/eci9saaa</a><br/> View project at: <a href='https://wandb.ai/ai-aloe/metacognitive_classifier' target=\"_blank\">https://wandb.ai/ai-aloe/metacognitive_classifier</a><br/>Synced 6 W&B file(s), 0 media file(s), 0 artifact file(s) and 0 other file(s)"
      ],
      "text/plain": [
       "<IPython.core.display.HTML object>"
      ]
     },
     "metadata": {},
     "output_type": "display_data"
    },
    {
     "data": {
      "text/html": [
       "Find logs at: <code>./wandb/run-20240517_231104-eci9saaa/logs</code>"
      ],
      "text/plain": [
       "<IPython.core.display.HTML object>"
      ]
     },
     "metadata": {},
     "output_type": "display_data"
    }
   ],
   "source": [
    "data_collator = DataCollatorWithPadding(tokenizer=tokenizer, pad_to_multiple_of=16, return_tensors='pt')\n",
    "\n",
    "# if not sweep_id:\n",
    "sweep_goal = 'maximize'\n",
    "    \n",
    "if dry_run:\n",
    "    sweep_name = 'dry-run'\n",
    "else:\n",
    "    sweep_name = f'{model_name_or_path}'\n",
    "        \n",
    "sweep_config = {\n",
    "    'name': sweep_name,\n",
    "    'method': 'bayes',\n",
    "    'metric': {\n",
    "        'name': f'eval/{metric}',\n",
    "        'goal': sweep_goal,\n",
    "    },\n",
    "    'parameters':\n",
    "    {\n",
    "        'epochs': {\n",
    "            'values': [1, 2, 3, 4, 5, 6, 7, 8, 9, 10]\n",
    "        },\n",
    "        # 'dropout': {\n",
    "        #     'values': [0, 0.15, 0.3]\n",
    "        # },\n",
    "        'learning_rate': {\n",
    "            'distribution': 'uniform',\n",
    "            'min': 5e-6,\n",
    "            'max': 1e-5,\n",
    "        },\n",
    "        'weight_decay': {\n",
    "            'values': [0.01]\n",
    "        },\n",
    "        'warmup_steps': {\n",
    "            'values': [50, 100, 500, 1000]\n",
    "        },\n",
    "    },\n",
    "}\n",
    "\n",
    "sweep_id = wandb.sweep(sweep_config, entity=entity, project=project_name)\n",
    "\n",
    "# else:\n",
    "#     sweep_id = sweep_id\n",
    "        \n",
    "wandb.agent(sweep_id, train, count=30)"
   ]
  },
  {
   "cell_type": "code",
   "execution_count": null,
   "id": "5da1fc25-917d-45d0-afd6-3f50604c680b",
   "metadata": {},
   "outputs": [],
   "source": []
  },
  {
   "cell_type": "code",
   "execution_count": null,
   "id": "3dc1957a-c968-47e5-8b9a-a45ac9bd8d09",
   "metadata": {},
   "outputs": [],
   "source": []
  }
 ],
 "metadata": {
  "kernelspec": {
   "display_name": "Python [conda env:wes-env]",
   "language": "python",
   "name": "conda-env-wes-env-py"
  },
  "language_info": {
   "codemirror_mode": {
    "name": "ipython",
    "version": 3
   },
   "file_extension": ".py",
   "mimetype": "text/x-python",
   "name": "python",
   "nbconvert_exporter": "python",
   "pygments_lexer": "ipython3",
   "version": "3.12.3"
  }
 },
 "nbformat": 4,
 "nbformat_minor": 5
}
